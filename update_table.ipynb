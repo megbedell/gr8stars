{
 "cells": [
  {
   "cell_type": "code",
   "execution_count": 1,
   "id": "6adb9edf-2d4f-44cf-93b5-fb7ede565a2b",
   "metadata": {
    "tags": []
   },
   "outputs": [],
   "source": [
    "import numpy as np\n",
    "import matplotlib.pyplot as plt\n",
    "from astropy.table import Table, vstack, Column, join, MaskedColumn\n",
    "from astropy import units as u"
   ]
  },
  {
   "cell_type": "code",
   "execution_count": 2,
   "id": "989a86ef-3483-42ac-b2cb-37ee29170c39",
   "metadata": {
    "tags": []
   },
   "outputs": [],
   "source": [
    "table = Table.read('gr8.csv')"
   ]
  },
  {
   "cell_type": "code",
   "execution_count": 3,
   "id": "4912c3bc-6858-4ad3-8c65-d5217cd2ed3d",
   "metadata": {
    "tags": []
   },
   "outputs": [],
   "source": [
    "for inst in ['harps', 'hermes', 'sophie']: # 'feros', 'fies', 'uves']:\n",
    "    table.remove_columns([f'spectrum_{inst}_1d', f'spectrum_{inst}_snr', f'spectrum_{inst}_nobs'])\n",
    "    try:\n",
    "        table.remove_column(f'spectrum_{inst}_2d')\n",
    "    except:\n",
    "        continue"
   ]
  },
  {
   "cell_type": "code",
   "execution_count": 4,
   "id": "af7c1e78-2c2b-469c-b06b-61caec6cb065",
   "metadata": {
    "tags": []
   },
   "outputs": [],
   "source": [
    "# strip the whitespace:\n",
    "table['primary_name'] = [t.replace(\" \",\"\") for t in table['primary_name']]"
   ]
  },
  {
   "cell_type": "code",
   "execution_count": 5,
   "id": "7bd26d84-1d46-437d-8a6e-7e40fba66cb3",
   "metadata": {
    "tags": []
   },
   "outputs": [],
   "source": [
    "def update_inst(inst, inst_table, table, debug_mode=False):\n",
    "    # I'm reading the table outside this loop bc there are formatting inconsistencies\n",
    "    tmp_table = inst_table[:]\n",
    "    tmp_table.rename_column('Name', 'primary_name')\n",
    "    tmp_table['primary_name'] = [t.replace(\" \",\"\") for t in tmp_table['primary_name']] # whitespace\n",
    "    tmp_table.rename_column('S2D {0}'.format(inst.upper()), f'spectrum_{inst}_nobs')\n",
    "    tmp_table.rename_column('SNR co-added {0}'.format(inst.upper()), f'spectrum_{inst}_snr')\n",
    "    # update the main table:\n",
    "    main_table = table[:]\n",
    "    main_table.add_column(Column(name=f'spectrum_{inst}', dtype='<U29', length=len(main_table)))\n",
    "    main_table = join(main_table, tmp_table, keys='primary_name', join_type='left')\n",
    "    main_table[f'spectrum_{inst}_nobs'].fill_value = 0\n",
    "    main_table[f'spectrum_{inst}_snr'].fill_value = 0.\n",
    "    main_table[f'spectrum_{inst}'][(main_table[f'spectrum_{inst}_snr'] > 0) \n",
    "                               & ~(main_table[f'spectrum_{inst}_snr'].mask)] = 'true'\n",
    "    # check we got them all:\n",
    "    if debug_mode:\n",
    "        return join(main_table, tmp_table, keys='primary_name', join_type='right')\n",
    "    assert len(main_table[main_table[f'spectrum_{inst}'] == 'true']) == len(tmp_table)\n",
    "    return main_table "
   ]
  },
  {
   "cell_type": "markdown",
   "id": "b22c7fe8-f3c2-4e51-877f-c2657ba3fd87",
   "metadata": {
    "jp-MarkdownHeadingCollapsed": true,
    "tags": []
   },
   "source": [
    "### update FEROS:"
   ]
  },
  {
   "cell_type": "markdown",
   "id": "b63aaa6c-7717-4215-8c90-4b013598e070",
   "metadata": {},
   "source": [
    "NOTE: I had to change \"phi.02 cet\" to \"phi.02 Cet\". Also one of the SNRs had 'SS' at the end which I deleted."
   ]
  },
  {
   "cell_type": "code",
   "execution_count": 6,
   "id": "324b0044-4c52-4ea5-837f-bf3e4ee62345",
   "metadata": {
    "tags": []
   },
   "outputs": [],
   "source": [
    "feros_table = Table.read('alix/Gr8_spectra_info_FEROS.txt', format='ascii')"
   ]
  },
  {
   "cell_type": "code",
   "execution_count": 7,
   "id": "708da1bb-bbcd-4f38-acd5-ecf9863d29b5",
   "metadata": {},
   "outputs": [],
   "source": [
    "try:\n",
    "    table = update_inst('feros', feros_table, table)\n",
    "except:\n",
    "    print('Failure!!')\n",
    "    debug_table = update_inst('feros', feros_table, table, debug_mode=True)"
   ]
  },
  {
   "cell_type": "code",
   "execution_count": 8,
   "id": "5ae0d992-8c14-4063-86fb-c3bcfc91bf43",
   "metadata": {
    "tags": []
   },
   "outputs": [],
   "source": [
    "#debug_table[debug_table['spectrum_feros'] != 'true']"
   ]
  },
  {
   "cell_type": "markdown",
   "id": "be8d8f19-91ce-488d-ad20-43ac3a4bc978",
   "metadata": {
    "jp-MarkdownHeadingCollapsed": true,
    "tags": []
   },
   "source": [
    "### update FIES:"
   ]
  },
  {
   "cell_type": "markdown",
   "id": "40383407-78ca-4738-9aa6-826999a8ca56",
   "metadata": {},
   "source": [
    "NOTE: I had to change Gaia EDR3 892215482207937152 to HIP36357."
   ]
  },
  {
   "cell_type": "code",
   "execution_count": 9,
   "id": "587d1f79-234f-4530-97ae-ba80289f6369",
   "metadata": {
    "tags": []
   },
   "outputs": [],
   "source": [
    "fies_table = Table.read('alix/Gr8_spectra_info_FIES.txt', format='ascii', delimiter='\\t')\n",
    "fies_table['S2D FIES'] = 1"
   ]
  },
  {
   "cell_type": "code",
   "execution_count": 10,
   "id": "38c2593b-6d17-4e10-ae42-2a63d66ce013",
   "metadata": {
    "tags": []
   },
   "outputs": [],
   "source": [
    "try:\n",
    "    table = update_inst('fies', fies_table, table)\n",
    "except:\n",
    "    print('Failure!!')\n",
    "    debug_table = update_inst('fies', fies_table, table, debug_mode=True)"
   ]
  },
  {
   "cell_type": "code",
   "execution_count": 11,
   "id": "0e977dd6-910f-4ab9-b48d-be2749ee3954",
   "metadata": {
    "tags": []
   },
   "outputs": [],
   "source": [
    "#debug_table[debug_table['spectrum_fies'] != 'true']"
   ]
  },
  {
   "cell_type": "markdown",
   "id": "5f406a4a-2487-4f74-a6a1-f535fc82ae02",
   "metadata": {
    "jp-MarkdownHeadingCollapsed": true,
    "tags": []
   },
   "source": [
    "### update HARPS:"
   ]
  },
  {
   "cell_type": "code",
   "execution_count": 12,
   "id": "c37d2089-fcf8-4d17-90ab-20eea8541316",
   "metadata": {
    "tags": []
   },
   "outputs": [],
   "source": [
    "harps_table = Table.read('alix/Gr8_spectra_info_HARPS.txt', format='ascii', \n",
    "                         delimiter='\\t', comment='-')"
   ]
  },
  {
   "cell_type": "code",
   "execution_count": 13,
   "id": "c3312316-c27c-4f09-baed-fc1f5ee2ef2d",
   "metadata": {
    "tags": []
   },
   "outputs": [],
   "source": [
    "assert len(np.unique(harps_table['Name'])) == len(harps_table)"
   ]
  },
  {
   "cell_type": "code",
   "execution_count": 14,
   "id": "d2649970-aedf-45de-88a0-9920f865ff24",
   "metadata": {
    "tags": []
   },
   "outputs": [
    {
     "name": "stdout",
     "output_type": "stream",
     "text": [
      "Repeat entries:\n",
      "Name\n",
      "----\n"
     ]
    }
   ],
   "source": [
    "names = harps_table['Name']\n",
    "u, c = np.unique(names, return_counts=True)\n",
    "print(\"Repeat entries:\")\n",
    "print(u[c > 1])"
   ]
  },
  {
   "cell_type": "code",
   "execution_count": 15,
   "id": "bc63fa8e-31cb-4df7-8678-d91c7ed4a6b6",
   "metadata": {
    "tags": []
   },
   "outputs": [],
   "source": [
    "try:\n",
    "    table = update_inst('harps', harps_table, table)\n",
    "except:\n",
    "    print('Failure!!')\n",
    "    debug_table = update_inst('harps', harps_table, table, debug_mode=True)"
   ]
  },
  {
   "cell_type": "code",
   "execution_count": 16,
   "id": "3c03c8a8-4480-412c-942d-17c2186ad46e",
   "metadata": {
    "tags": []
   },
   "outputs": [],
   "source": [
    "#debug_table[debug_table['spectrum_harps'] != 'true']"
   ]
  },
  {
   "cell_type": "markdown",
   "id": "f162b7a5-ab42-40cb-84c8-31c2086752ab",
   "metadata": {
    "jp-MarkdownHeadingCollapsed": true,
    "tags": []
   },
   "source": [
    "### update HERMES:"
   ]
  },
  {
   "cell_type": "markdown",
   "id": "f1743b95-63d9-46ac-bf05-77cf383e031b",
   "metadata": {},
   "source": [
    "Had to change pi01 UMa to pi.01 UMa."
   ]
  },
  {
   "cell_type": "code",
   "execution_count": 17,
   "id": "d049da95-c3d4-41dd-8038-8a1c06bdce08",
   "metadata": {
    "tags": []
   },
   "outputs": [],
   "source": [
    "hermes_table = Table.read('alix/Gr8_spectra_info_HERMES.txt', format='ascii', \n",
    "                          delimiter='\\t', comment='-')['Name', 'SNR co-added HERMES']\n",
    "hermes_table['S2D HERMES'] = 1"
   ]
  },
  {
   "cell_type": "code",
   "execution_count": 18,
   "id": "f4937d7e-de23-4509-b5a2-86a6d0208985",
   "metadata": {
    "tags": []
   },
   "outputs": [],
   "source": [
    "assert len(np.unique(hermes_table['Name'])) == len(hermes_table)"
   ]
  },
  {
   "cell_type": "code",
   "execution_count": 19,
   "id": "77ce0f3f-adc8-40a3-9762-da027478b10f",
   "metadata": {},
   "outputs": [],
   "source": [
    "try:\n",
    "    table = update_inst('hermes', hermes_table, table)\n",
    "except:\n",
    "    print('Failure!!')\n",
    "    debug_table = update_inst('hermes', hermes_table, table, debug_mode=True)"
   ]
  },
  {
   "cell_type": "code",
   "execution_count": 20,
   "id": "66127758-1f61-406a-8027-8120320a9aee",
   "metadata": {
    "tags": []
   },
   "outputs": [],
   "source": [
    "#print(debug_table[debug_table['spectrum_hermes'] != 'true']['primary_name'])"
   ]
  },
  {
   "cell_type": "markdown",
   "id": "f6353b9b-bdb1-46a8-9329-aa6e5e1ddb9a",
   "metadata": {
    "jp-MarkdownHeadingCollapsed": true,
    "tags": []
   },
   "source": [
    "### update SOPHIE:"
   ]
  },
  {
   "cell_type": "code",
   "execution_count": 21,
   "id": "837c1fb1-70e3-4d07-9d5c-fa0aa4ef41a3",
   "metadata": {
    "tags": []
   },
   "outputs": [],
   "source": [
    "sophie_table = Table.read('alix/Gr8_spectra_info_SOPHIE.txt', format='ascii', comment='-')"
   ]
  },
  {
   "cell_type": "code",
   "execution_count": 22,
   "id": "23353f99-b943-47ca-b929-ee3b25544597",
   "metadata": {
    "tags": []
   },
   "outputs": [],
   "source": [
    "assert len(np.unique(sophie_table['Name'])) == len(sophie_table)"
   ]
  },
  {
   "cell_type": "code",
   "execution_count": 23,
   "id": "a9081666-7787-44b4-9302-01ab0c8f4e5d",
   "metadata": {
    "tags": []
   },
   "outputs": [
    {
     "name": "stdout",
     "output_type": "stream",
     "text": [
      "Repeat entries:\n",
      "Name\n",
      "----\n"
     ]
    }
   ],
   "source": [
    "names = sophie_table['Name']\n",
    "u, c = np.unique(names, return_counts=True)\n",
    "print(\"Repeat entries:\")\n",
    "print(u[c > 1])"
   ]
  },
  {
   "cell_type": "code",
   "execution_count": 24,
   "id": "35fb4641-6ea2-440d-bf32-aff51afe0b9c",
   "metadata": {},
   "outputs": [],
   "source": [
    "try:\n",
    "    table = update_inst('sophie', sophie_table, table)\n",
    "except:\n",
    "    print('Failure!!')\n",
    "    debug_table = update_inst('sophie', sophie_table, table, debug_mode=True)"
   ]
  },
  {
   "cell_type": "code",
   "execution_count": 25,
   "id": "70e04362-a1be-4291-8a89-e04a07ae4d45",
   "metadata": {
    "tags": []
   },
   "outputs": [],
   "source": [
    "#debug_table[debug_table['spectrum_sophie'] != 'true']"
   ]
  },
  {
   "cell_type": "markdown",
   "id": "d1d63ee5-77da-4b4f-9d0e-6c7ebb749908",
   "metadata": {
    "jp-MarkdownHeadingCollapsed": true,
    "tags": []
   },
   "source": [
    "### update UVES:"
   ]
  },
  {
   "cell_type": "code",
   "execution_count": 26,
   "id": "043a175a-9c7d-44ba-acce-be9c51532a35",
   "metadata": {
    "tags": []
   },
   "outputs": [],
   "source": [
    "uves_table = Table.read('alix/Gr8_spectra_info_UVES.txt', format='ascii', delimiter='\\t')#['Name', 'SNR co-added UVES']\n",
    "#uves_table['S2D UVES'] = 1 # hack??"
   ]
  },
  {
   "cell_type": "code",
   "execution_count": 27,
   "id": "f1c97c9f-5568-4a10-be7b-d9f34b126ba2",
   "metadata": {
    "tags": []
   },
   "outputs": [],
   "source": [
    "try:\n",
    "    table = update_inst('uves', uves_table, table)\n",
    "except:\n",
    "    print('Failure!!')\n",
    "    debug_table = update_inst('uves', uves_table, table, debug_mode=True)"
   ]
  },
  {
   "cell_type": "code",
   "execution_count": 28,
   "id": "7f59bdf5-4350-428d-9400-83c641c43444",
   "metadata": {
    "tags": []
   },
   "outputs": [],
   "source": [
    "#debug_table[debug_table['spectrum_uves'] != 'true']"
   ]
  },
  {
   "cell_type": "markdown",
   "id": "86dc8b32-cade-41d7-b47c-120ea841c90f",
   "metadata": {},
   "source": [
    "### save it:"
   ]
  },
  {
   "cell_type": "code",
   "execution_count": 29,
   "id": "7dc3a3ae-2920-4432-9ac4-0933eaa381c2",
   "metadata": {
    "tags": []
   },
   "outputs": [],
   "source": [
    "table.write('gr8_updated.csv', overwrite=True)"
   ]
  },
  {
   "cell_type": "code",
   "execution_count": null,
   "id": "262461ab-d721-4709-9fb5-34592b7a0f0a",
   "metadata": {},
   "outputs": [],
   "source": []
  }
 ],
 "metadata": {
  "kernelspec": {
   "display_name": "essentials",
   "language": "python",
   "name": "essentials"
  },
  "language_info": {
   "codemirror_mode": {
    "name": "ipython",
    "version": 3
   },
   "file_extension": ".py",
   "mimetype": "text/x-python",
   "name": "python",
   "nbconvert_exporter": "python",
   "pygments_lexer": "ipython3",
   "version": "3.10.10"
  }
 },
 "nbformat": 4,
 "nbformat_minor": 5
}
