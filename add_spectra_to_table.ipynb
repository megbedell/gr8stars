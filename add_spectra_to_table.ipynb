{
 "cells": [
  {
   "cell_type": "code",
   "execution_count": 1,
   "id": "9b8d3365",
   "metadata": {
    "tags": []
   },
   "outputs": [],
   "source": [
    "import numpy as np\n",
    "import matplotlib.pyplot as plt\n",
    "from astropy.table import Table, vstack, Column, join, MaskedColumn\n",
    "from astropy import units as u"
   ]
  },
  {
   "cell_type": "code",
   "execution_count": 2,
   "id": "81215d90",
   "metadata": {
    "tags": []
   },
   "outputs": [],
   "source": [
    "table = Table.read('gr8_without_spectra.csv')"
   ]
  },
  {
   "cell_type": "code",
   "execution_count": 3,
   "id": "863ee7c5",
   "metadata": {
    "tags": []
   },
   "outputs": [],
   "source": [
    "# clean the table of previous instrument info as needed\n",
    "for inst in ['harps', 'hermes', 'sophie', 'feros', 'fies', 'uves']:\n",
    "    columns_to_remove = [f'spectrum_{inst}_1d', f'spectrum_{inst}_snr', f'spectrum_{inst}_nobs', f'spectrum_{inst}_2d']\n",
    "    for c in columns_to_remove:\n",
    "        if c in table.colnames:\n",
    "            table.remove_column(c)"
   ]
  },
  {
   "cell_type": "code",
   "execution_count": 4,
   "id": "87f63261",
   "metadata": {
    "tags": []
   },
   "outputs": [],
   "source": [
    "def update_inst(inst, inst_table, table, debug_mode=False):\n",
    "    # I'm reading the table outside this loop bc there are formatting inconsistencies\n",
    "    tmp_table = inst_table[:]\n",
    "    tmp_table.rename_column('Name', 'primary')\n",
    "    tmp_table['primary'] = [t.replace(\" \",\"\") for t in tmp_table['primary']] # whitespace\n",
    "    tmp_table.rename_column('S2D {0}'.format(inst.upper()), f'spectrum_{inst}_nobs')\n",
    "    tmp_table.rename_column('SNR co-added {0}'.format(inst.upper()), f'spectrum_{inst}_snr')\n",
    "    # update the main table:\n",
    "    main_table = table[:]\n",
    "    main_table.add_column(Column(name=f'spectrum_{inst}', dtype='<U29', length=len(main_table)))\n",
    "    main_table = join(main_table, tmp_table, keys='primary', join_type='left')\n",
    "    main_table[f'spectrum_{inst}_nobs'].fill_value = 0\n",
    "    main_table[f'spectrum_{inst}_snr'].fill_value = 0.\n",
    "    main_table[f'spectrum_{inst}'][(main_table[f'spectrum_{inst}_snr'] > 0) \n",
    "                               & ~(main_table[f'spectrum_{inst}_snr'].mask)] = 'true'\n",
    "    # check we got them all:\n",
    "    if debug_mode:\n",
    "        return join(main_table, tmp_table, keys='primary', join_type='right')\n",
    "    assert len(main_table[main_table[f'spectrum_{inst}'] == 'true']) == len(tmp_table)\n",
    "    return main_table "
   ]
  },
  {
   "cell_type": "markdown",
   "id": "fbb1fa11",
   "metadata": {
    "tags": []
   },
   "source": [
    "### update FEROS:"
   ]
  },
  {
   "cell_type": "markdown",
   "id": "0cf06c16",
   "metadata": {},
   "source": [
    "NOTE: I had to change \"phi.02 cet\" to \"phi.02 Cet\". Also one of the SNRs had 'SS' at the end which I deleted."
   ]
  },
  {
   "cell_type": "code",
   "execution_count": 5,
   "id": "82d8f8c6",
   "metadata": {
    "tags": []
   },
   "outputs": [],
   "source": [
    "feros_table = Table.read('alix/Gr8_spectra_info_FEROS.txt', format='ascii')"
   ]
  },
  {
   "cell_type": "code",
   "execution_count": 6,
   "id": "e08f23a1",
   "metadata": {},
   "outputs": [],
   "source": [
    "try:\n",
    "    table = update_inst('feros', feros_table, table)\n",
    "except:\n",
    "    print('Failure!!')\n",
    "    debug_table = update_inst('feros', feros_table, table, debug_mode=True)"
   ]
  },
  {
   "cell_type": "code",
   "execution_count": 7,
   "id": "7a020937",
   "metadata": {
    "tags": []
   },
   "outputs": [],
   "source": [
    "#debug_table[debug_table['spectrum_feros'] != 'true']"
   ]
  },
  {
   "cell_type": "markdown",
   "id": "21c13b43",
   "metadata": {
    "tags": []
   },
   "source": [
    "### update FIES:"
   ]
  },
  {
   "cell_type": "markdown",
   "id": "29564699",
   "metadata": {},
   "source": [
    "NOTE: I had to change Gaia EDR3 892215482207937152 to HIP36357.\n",
    "Also changed GaiaEDR3762815470562110464 to HD95735 and added \".\" into two targets (both \"pi\")"
   ]
  },
  {
   "cell_type": "code",
   "execution_count": 8,
   "id": "3b676860",
   "metadata": {
    "tags": []
   },
   "outputs": [],
   "source": [
    "fies_table = Table.read('alix/Gr8_spectra_info_FIES.txt', format='ascii')\n",
    "fies_table['S2D FIES'] = 1"
   ]
  },
  {
   "cell_type": "code",
   "execution_count": 9,
   "id": "bca1d6b4",
   "metadata": {
    "tags": []
   },
   "outputs": [],
   "source": [
    "try:\n",
    "    table = update_inst('fies', fies_table, table)\n",
    "except:\n",
    "    print('Failure!!')\n",
    "    debug_table = update_inst('fies', fies_table, table, debug_mode=True)"
   ]
  },
  {
   "cell_type": "code",
   "execution_count": 10,
   "id": "2c17aa9b",
   "metadata": {
    "tags": []
   },
   "outputs": [],
   "source": [
    "#debug_table[debug_table['spectrum_fies'] != 'true']"
   ]
  },
  {
   "cell_type": "markdown",
   "id": "0b4e86f6",
   "metadata": {
    "tags": []
   },
   "source": [
    "### update HARPS:"
   ]
  },
  {
   "cell_type": "code",
   "execution_count": 11,
   "id": "01b14083",
   "metadata": {
    "tags": []
   },
   "outputs": [],
   "source": [
    "harps_table = Table.read('alix/Gr8_spectra_info_HARPS.txt', format='ascii', \n",
    "                         delimiter='\\t', comment='-')"
   ]
  },
  {
   "cell_type": "code",
   "execution_count": 12,
   "id": "61f3c571",
   "metadata": {
    "tags": []
   },
   "outputs": [],
   "source": [
    "assert len(np.unique(harps_table['Name'])) == len(harps_table)"
   ]
  },
  {
   "cell_type": "code",
   "execution_count": 13,
   "id": "400302c6",
   "metadata": {
    "tags": []
   },
   "outputs": [
    {
     "name": "stdout",
     "output_type": "stream",
     "text": [
      "Repeat entries:\n",
      "Name\n",
      "----\n"
     ]
    }
   ],
   "source": [
    "names = harps_table['Name']\n",
    "u, c = np.unique(names, return_counts=True)\n",
    "print(\"Repeat entries:\")\n",
    "print(u[c > 1])"
   ]
  },
  {
   "cell_type": "code",
   "execution_count": 14,
   "id": "99966172",
   "metadata": {
    "tags": []
   },
   "outputs": [],
   "source": [
    "try:\n",
    "    table = update_inst('harps', harps_table, table)\n",
    "except:\n",
    "    print('Failure!!')\n",
    "    debug_table = update_inst('harps', harps_table, table, debug_mode=True)"
   ]
  },
  {
   "cell_type": "code",
   "execution_count": 15,
   "id": "7cd9f4d2",
   "metadata": {
    "tags": []
   },
   "outputs": [],
   "source": [
    "#debug_table[debug_table['spectrum_harps'] != 'true']"
   ]
  },
  {
   "cell_type": "markdown",
   "id": "223a4990",
   "metadata": {
    "tags": []
   },
   "source": [
    "### update HERMES:"
   ]
  },
  {
   "cell_type": "markdown",
   "id": "5b1120ec",
   "metadata": {},
   "source": [
    "Had to change \"pi01UMa\" to \"pi.01UMa\""
   ]
  },
  {
   "cell_type": "code",
   "execution_count": 16,
   "id": "ddc8a66c",
   "metadata": {
    "tags": []
   },
   "outputs": [],
   "source": [
    "hermes_table = Table.read('alix/Gr8_spectra_info_HERMES.txt', format='ascii', \n",
    "                          delimiter='\\t', comment='-')['Name', 'SNR co-added HERMES']\n",
    "hermes_table['S2D HERMES'] = 1"
   ]
  },
  {
   "cell_type": "code",
   "execution_count": 17,
   "id": "8128c618",
   "metadata": {
    "tags": []
   },
   "outputs": [],
   "source": [
    "assert len(np.unique(hermes_table['Name'])) == len(hermes_table)"
   ]
  },
  {
   "cell_type": "code",
   "execution_count": 18,
   "id": "7fc0fcb5-20e9-41b7-99b5-24e61c4f36ee",
   "metadata": {},
   "outputs": [],
   "source": [
    "# fix some names that aren't the primary ID\n",
    "hermes_table['Name'][hermes_table['Name'] == 'HD101501'] = '61UMa'\n",
    "hermes_table['Name'][hermes_table['Name'] == 'BD+17_2463'] = 'GaiaEDR33946449911319493504'\n",
    "hermes_table['Name'][hermes_table['Name'] == 'HD157214'] = ''\n"
   ]
  },
  {
   "cell_type": "code",
   "execution_count": 19,
   "id": "7c31b7f9",
   "metadata": {},
   "outputs": [],
   "source": [
    "try:\n",
    "    table = update_inst('hermes', hermes_table, table)\n",
    "except:\n",
    "    print('Failure!!')\n",
    "    debug_table = update_inst('hermes', hermes_table, table, debug_mode=True)"
   ]
  },
  {
   "cell_type": "code",
   "execution_count": 20,
   "id": "3768d76e",
   "metadata": {
    "tags": []
   },
   "outputs": [],
   "source": [
    "#print(debug_table[debug_table['spectrum_hermes'] != 'true'])"
   ]
  },
  {
   "cell_type": "markdown",
   "id": "fe3cb338",
   "metadata": {
    "tags": []
   },
   "source": [
    "### update SOPHIE:"
   ]
  },
  {
   "cell_type": "code",
   "execution_count": 21,
   "id": "1bc3177a",
   "metadata": {
    "tags": []
   },
   "outputs": [],
   "source": [
    "sophie_table = Table.read('alix/Gr8_spectra_info_SOPHIE.txt', format='ascii', comment='-')"
   ]
  },
  {
   "cell_type": "code",
   "execution_count": 22,
   "id": "79106fcf",
   "metadata": {
    "tags": []
   },
   "outputs": [],
   "source": [
    "assert len(np.unique(sophie_table['Name'])) == len(sophie_table)"
   ]
  },
  {
   "cell_type": "code",
   "execution_count": 23,
   "id": "ce2bc2f9",
   "metadata": {
    "tags": []
   },
   "outputs": [
    {
     "name": "stdout",
     "output_type": "stream",
     "text": [
      "Repeat entries:\n",
      "Name\n",
      "----\n"
     ]
    }
   ],
   "source": [
    "names = sophie_table['Name']\n",
    "u, c = np.unique(names, return_counts=True)\n",
    "print(\"Repeat entries:\")\n",
    "print(u[c > 1])"
   ]
  },
  {
   "cell_type": "code",
   "execution_count": 24,
   "id": "43ba9199",
   "metadata": {},
   "outputs": [],
   "source": [
    "try:\n",
    "    table = update_inst('sophie', sophie_table, table)\n",
    "except:\n",
    "    print('Failure!!')\n",
    "    debug_table = update_inst('sophie', sophie_table, table, debug_mode=True)"
   ]
  },
  {
   "cell_type": "code",
   "execution_count": 25,
   "id": "ce6a64b2",
   "metadata": {
    "tags": []
   },
   "outputs": [],
   "source": [
    "#debug_table[debug_table['spectrum_sophie'] != 'true']"
   ]
  },
  {
   "cell_type": "markdown",
   "id": "88636b76",
   "metadata": {
    "tags": []
   },
   "source": [
    "### update UVES:"
   ]
  },
  {
   "cell_type": "code",
   "execution_count": 26,
   "id": "1348e610",
   "metadata": {
    "tags": []
   },
   "outputs": [],
   "source": [
    "uves_table = Table.read('alix/Gr8_spectra_info_UVES.txt', format='ascii', delimiter='\\t')#['Name', 'SNR co-added UVES']\n",
    "#uves_table['S2D UVES'] = 1 # hack??"
   ]
  },
  {
   "cell_type": "code",
   "execution_count": 27,
   "id": "45a46e9b",
   "metadata": {
    "tags": []
   },
   "outputs": [],
   "source": [
    "try:\n",
    "    table = update_inst('uves', uves_table, table)\n",
    "except:\n",
    "    print('Failure!!')\n",
    "    debug_table = update_inst('uves', uves_table, table, debug_mode=True)"
   ]
  },
  {
   "cell_type": "code",
   "execution_count": 28,
   "id": "d673b541",
   "metadata": {
    "tags": []
   },
   "outputs": [],
   "source": [
    "#debug_table[debug_table['spectrum_uves'] != 'true']"
   ]
  },
  {
   "cell_type": "markdown",
   "id": "9e927554",
   "metadata": {},
   "source": [
    "### save it:"
   ]
  },
  {
   "cell_type": "code",
   "execution_count": 29,
   "id": "83024a7e",
   "metadata": {
    "tags": []
   },
   "outputs": [],
   "source": [
    "table.write('gr8_updated.csv', overwrite=True)"
   ]
  },
  {
   "cell_type": "code",
   "execution_count": 32,
   "id": "d50faf65",
   "metadata": {},
   "outputs": [
    {
     "data": {
      "text/html": [
       "<div><i>Table length=1</i>\n",
       "<table id=\"table5013194640\" class=\"table-striped table-bordered table-condensed\">\n",
       "<thead><tr><th>ra_j2000</th><th>dec_j2000</th><th>primary</th><th>simbad</th><th>gaiadr2_source_id</th><th>gaiadr3_source_id</th><th>hip</th><th>hd</th><th>tic</th><th>2mass</th><th>wisea</th><th>ra</th><th>ra_error</th><th>dec</th><th>dec_error</th><th>parallax</th><th>parallax_error</th><th>pmra</th><th>pmra_error</th><th>pmdec</th><th>pmdec_error</th><th>ref_epoch</th><th>ruwe</th><th>gmag</th><th>bp_rp</th><th>radial_velocity</th><th>radial_velocity_error</th><th>vbroad</th><th>vbroad_error</th><th>teff_gspphot</th><th>teff_gspphot_lower</th><th>teff_gspphot_upper</th><th>logg_gspphot</th><th>logg_gspphot_lower</th><th>logg_gspphot_upper</th><th>mh_gspphot</th><th>mh_gspphot_lower</th><th>mh_gspphot_upper</th><th>distance_gspphot</th><th>distance_gspphot_lower</th><th>distance_gspphot_upper</th><th>teff_gspspec</th><th>teff_gspspec_lower</th><th>teff_gspspec_upper</th><th>logg_gspspec</th><th>logg_gspspec_lower</th><th>logg_gspspec_upper</th><th>mh_gspspec</th><th>mh_gspspec_lower</th><th>mh_gspspec_upper</th><th>teff_paws</th><th>teff_error_paws</th><th>logg_paws</th><th>logg_error_paws</th><th>feh_paws</th><th>feh_error_paws</th><th>vmic_paws</th><th>vmic_error_paws</th><th>vmac_paws</th><th>vmac_error_paws</th><th>vsini_paws</th><th>vsini_error_paws</th><th>instrument_paws</th><th>teff_sed</th><th>teff_upper_sed</th><th>teff_lower_sed</th><th>radius_sed</th><th>radius_upper_sed</th><th>radius_lower_sed</th><th>a550_sed</th><th>npts_sed</th><th>chisq_sed</th><th>membership_group</th><th>membership_probability</th><th>otype</th><th>sb2</th><th>planet_host</th><th>spectrum_feros</th><th>spectrum_feros_nobs</th><th>spectrum_feros_snr</th><th>spectrum_fies</th><th>spectrum_fies_nobs</th><th>spectrum_fies_snr</th><th>spectrum_harps</th><th>spectrum_harps_nobs</th><th>spectrum_harps_snr</th><th>spectrum_hermes</th><th>spectrum_hermes_snr</th><th>spectrum_hermes_nobs</th><th>spectrum_sophie</th><th>spectrum_sophie_nobs</th><th>spectrum_sophie_snr</th><th>spectrum_uves</th><th>spectrum_uves_nobs</th><th>spectrum_uves_snr</th></tr></thead>\n",
       "<thead><tr><th>float64</th><th>float64</th><th>str27</th><th>str13</th><th>int64</th><th>int64</th><th>int64</th><th>str7</th><th>int64</th><th>str16</th><th>str19</th><th>float64</th><th>float64</th><th>float64</th><th>float64</th><th>float64</th><th>float64</th><th>float64</th><th>float64</th><th>float64</th><th>float64</th><th>float64</th><th>float64</th><th>float64</th><th>float64</th><th>float64</th><th>float64</th><th>float64</th><th>float64</th><th>float64</th><th>float64</th><th>float64</th><th>float64</th><th>float64</th><th>float64</th><th>float64</th><th>float64</th><th>float64</th><th>float64</th><th>float64</th><th>float64</th><th>float64</th><th>float64</th><th>float64</th><th>float64</th><th>float64</th><th>float64</th><th>float64</th><th>float64</th><th>float64</th><th>int64</th><th>int64</th><th>float64</th><th>float64</th><th>float64</th><th>float64</th><th>float64</th><th>float64</th><th>float64</th><th>float64</th><th>float64</th><th>float64</th><th>str21</th><th>int64</th><th>float64</th><th>float64</th><th>float64</th><th>float64</th><th>float64</th><th>float64</th><th>int64</th><th>float64</th><th>str9</th><th>float64</th><th>str9</th><th>str3</th><th>str3</th><th>str29</th><th>str1</th><th>float64</th><th>str29</th><th>str1</th><th>float64</th><th>str29</th><th>int64</th><th>float64</th><th>str29</th><th>float64</th><th>int64</th><th>str29</th><th>int64</th><th>float64</th><th>str29</th><th>str1</th><th>float64</th></tr></thead>\n",
       "<tr><td>245.8112</td><td>33.697086</td><td>HIP80279</td><td>BD+34  2776</td><td>1325706698899339136</td><td>1325706698899339136</td><td>80279</td><td>--</td><td>8412717</td><td>16231470+3341493</td><td>J162314.66+334150.5</td><td>245.81099568397408</td><td>0.012918340042233467</td><td>33.69753885781212</td><td>0.01581951044499874</td><td>15.594328050642414</td><td>0.01747296191751957</td><td>-40.04078056834939</td><td>0.016622068360447884</td><td>102.06280098889786</td><td>0.02107294648885727</td><td>2016.0</td><td>1.057739496231079</td><td>7.532862663269043</td><td>0.6650791168212891</td><td>-10.815895080566406</td><td>0.1375800520181656</td><td>--</td><td>--</td><td>6135.2060546875</td><td>6133.8154296875</td><td>6137.06884765625</td><td>4.141300201416016</td><td>4.139800071716309</td><td>4.142600059509277</td><td>-0.5916000008583069</td><td>-0.6079000234603882</td><td>-0.5637999773025513</td><td>64.09609985351562</td><td>64.00129699707031</td><td>64.2605972290039</td><td>6229.0</td><td>6216.0</td><td>6241.0</td><td>4.039999961853027</td><td>4.019999980926514</td><td>4.059999942779541</td><td>-0.23000000417232513</td><td>-0.23000000417232513</td><td>-0.2199999988079071</td><td>6381</td><td>181</td><td>4.2</td><td>0.16</td><td>-0.09</td><td>0.16</td><td>1.66</td><td>0.04</td><td>8.13</td><td>0.89</td><td>1.76</td><td>0.49</td><td>HERMES</td><td>6290</td><td>6340.28418</td><td>6213.33838</td><td>1.45162112651948</td><td>1.48191178</td><td>1.43213546</td><td>0.0206115358</td><td>8</td><td>2.35601125595852</td><td>ThinDisk</td><td>99.1179102543702</td><td>HighPM*</td><td>--</td><td>--</td><td></td><td>--</td><td>--</td><td></td><td>--</td><td>--</td><td></td><td>--</td><td>--</td><td>true</td><td>155.8</td><td>1</td><td></td><td>--</td><td>--</td><td></td><td>--</td><td>--</td></tr>\n",
       "</table></div>"
      ],
      "text/plain": [
       "<Table length=1>\n",
       "ra_j2000 dec_j2000 primary  ... spectrum_uves_nobs spectrum_uves_snr\n",
       "float64   float64   str27   ...        str1             float64     \n",
       "-------- --------- -------- ... ------------------ -----------------\n",
       "245.8112 33.697086 HIP80279 ...                 --                --"
      ]
     },
     "execution_count": 32,
     "metadata": {},
     "output_type": "execute_result"
    }
   ],
   "source": [
    "table[table['gaiadr3_source_id'] == 1325706698899339136]"
   ]
  },
  {
   "cell_type": "code",
   "execution_count": null,
   "id": "071a9cc5-58c0-4b2c-bc8e-7d395ddf8469",
   "metadata": {},
   "outputs": [],
   "source": []
  }
 ],
 "metadata": {
  "kernelspec": {
   "display_name": "Python 3 (ipykernel)",
   "language": "python",
   "name": "python3"
  },
  "language_info": {
   "codemirror_mode": {
    "name": "ipython",
    "version": 3
   },
   "file_extension": ".py",
   "mimetype": "text/x-python",
   "name": "python",
   "nbconvert_exporter": "python",
   "pygments_lexer": "ipython3",
   "version": "3.9.6"
  }
 },
 "nbformat": 4,
 "nbformat_minor": 5
}
