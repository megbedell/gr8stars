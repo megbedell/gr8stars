{
 "cells": [
  {
   "cell_type": "code",
   "execution_count": 250,
   "metadata": {},
   "outputs": [],
   "source": [
    "import numpy as np\n",
    "import matplotlib.pyplot as plt\n",
    "from astropy.table import Table, vstack, Column, join, MaskedColumn\n",
    "from astropy import units as u\n",
    "from astroquery.simbad import Simbad\n",
    "from astroquery.gaia import Gaia\n",
    "import time"
   ]
  },
  {
   "cell_type": "code",
   "execution_count": 251,
   "metadata": {},
   "outputs": [],
   "source": [
    "sample = Table.read('Gr8stars_GaiaeDR3_TIC_hires.csv')\n",
    "sample.sort(['_RAJ2000','_DEJ2000'])"
   ]
  },
  {
   "cell_type": "code",
   "execution_count": 252,
   "metadata": {},
   "outputs": [],
   "source": [
    "table = sample['_RAJ2000', '_DEJ2000']\n",
    "table.rename_column('_RAJ2000', 'ra_j2000')\n",
    "table.rename_column('_DEJ2000', 'dec_j2000')"
   ]
  },
  {
   "cell_type": "code",
   "execution_count": 253,
   "metadata": {},
   "outputs": [],
   "source": [
    "# names:\n",
    "table['primary_name'] = sample['EDR3Name'] # overwritten later\n",
    "table['gaiadr2_source_id'] = sample['GAIA']\n",
    "table['gaiaedr3_source_id'] = sample['Source']\n",
    "table['hip'] = sample['HIP']\n",
    "table.add_column(Column(name='hd', dtype='<U29', length=len(table)))\n",
    "table['tic'] = sample['TIC']\n",
    "table['2mass'] = sample['2MASS']\n",
    "table['wisea'] = sample['WISEA']"
   ]
  },
  {
   "cell_type": "code",
   "execution_count": 254,
   "metadata": {},
   "outputs": [],
   "source": [
    "# gaia:\n",
    "table['ra'] = sample['RA_ICRS']\n",
    "table['ra_error'] = sample['e_RA_ICRS']\n",
    "table['dec'] = sample['DE_ICRS']\n",
    "table['dec_error'] = sample['e_DE_ICRS']\n",
    "table['parallax'] = sample['Plx']\n",
    "table['parallax_error'] = sample['e_Plx']\n",
    "table['pmra'] = sample['pmRA']\n",
    "table['pmra_error'] = sample['e_pmRA']\n",
    "table['pmdec'] = sample['pmDE']\n",
    "table['pmdec_error'] = sample['e_pmDE']\n",
    "table['gmag'] = sample['Gmag']\n",
    "table['bp_rp'] = sample['BPRP']\n",
    "table['radial_velocity'] = sample['RVDR2']\n",
    "table['radial_velocity_error'] = sample['e_RVDR2']\n",
    "table['ref_epoch'] = 'J2016.0'"
   ]
  },
  {
   "cell_type": "markdown",
   "metadata": {
    "jupyter": {
     "source_hidden": true
    }
   },
   "source": [
    "### add SIMBAD alternative identifiers:"
   ]
  },
  {
   "cell_type": "code",
   "execution_count": 139,
   "metadata": {
    "jupyter": {
     "source_hidden": true
    }
   },
   "outputs": [],
   "source": [
    "# correct some failed matches by hand (ugh):\n",
    "# for most of these the TIC x-match failed, therefore SIMBAD does not include the TIC ID\n",
    "# in three cases there is no Gaia DR2 ID so HIP, 2MASS, WISEA must also be copied as SIMBAD query on DR2 ID will fail\n",
    "table['tic'][table['gaiaedr3_source_id'] == 411413822074322432] = 252191219\n",
    "table['gaiadr2_source_id'][table['gaiaedr3_source_id'] == 411413822074322432] = 411413822074322432\n",
    "table['tic'][table['gaiaedr3_source_id'] == 883596170039715072] = 101637926\n",
    "table['gaiadr2_source_id'][table['gaiaedr3_source_id'] == 883596170039715072] = 883596170039715072\n",
    "table['tic'][table['gaiaedr3_source_id'] == 1030087329727496320] = 459753450\n",
    "table['hip'][table['gaiaedr3_source_id'] == 1030087329727496320] = 43630  # from TIC\n",
    "table['2mass'][table['gaiaedr3_source_id'] == 1030087329727496320] = '08530805+5457112'  # from TIC\n",
    "table['wisea'][table['gaiaedr3_source_id'] == 1030087329727496320] = 'J085308.10+545711.5'  # from TIC\n",
    "table['tic'][table['gaiaedr3_source_id'] == 3890250298609911168] = 63189338\n",
    "table['hip'][table['gaiaedr3_source_id'] == 3890250298609911168] = 51145  # from TIC\n",
    "table['2mass'][table['gaiaedr3_source_id'] == 3890250298609911168] = '10265302+1713099'  # from TIC\n",
    "table['wisea'][table['gaiaedr3_source_id'] == 3890250298609911168] = 'J102652.99+171309.1'  # from TIC\n",
    "table['tic'][table['gaiaedr3_source_id'] == 762815470562110464] = 166646191 # this one is ALSO TIC 353969903\n",
    "table['hip'][table['gaiaedr3_source_id'] == 762815470562110464] = 54035  # from TIC\n",
    "table['2mass'][table['gaiaedr3_source_id'] == 762815470562110464] = '11032027+3558203'  # from TIC\n",
    "table['wisea'][table['gaiaedr3_source_id'] == 762815470562110464] = 'J110319.67+355722.4'  # from SIMBAD\n",
    "table['tic'][table['gaiaedr3_source_id'] == 778947814402602752] = 252803603\n",
    "table['gaiadr2_source_id'][table['gaiaedr3_source_id'] == 778947814402602752] = 778947814402405120\n",
    "table['tic'][table['gaiaedr3_source_id'] == 4445793563751403264] = 276883893 # magnitude changed considerably DR2 to eDR3 hence failed checks but seems ok to me\n",
    "table['gaiadr2_source_id'][table['gaiaedr3_source_id'] == 4445793563751403264] = 4445793563749783424\n",
    "table['tic'][table['gaiaedr3_source_id'] == 4468557611984384512] = 398120047\n",
    "table['gaiadr2_source_id'][table['gaiaedr3_source_id'] == 4468557611984384512] = 4468557611977678336"
   ]
  },
  {
   "cell_type": "raw",
   "metadata": {
    "jupyter": {
     "source_hidden": true
    }
   },
   "source": [
    "for t in table[np.isin(table['primary_name'].data,simbad_failed) & (table['tic'] != -1)]:\n",
    "    print(\"'Gaia DR2 {0}': 'HIP {1}',\".format(t['gaiadr2_source_id'], t['hip']))"
   ]
  },
  {
   "cell_type": "code",
   "execution_count": 11,
   "metadata": {
    "jupyter": {
     "source_hidden": true
    }
   },
   "outputs": [],
   "source": [
    "# more failed matches by hand:\n",
    "# these all have correct TIC x-match but TIC and DR2 IDs are not ingested properly in SIMBAD\n",
    "# so we'll query on an alternative identifier\n",
    "weird_ones_map = {'Gaia DR2 386648181647057152':'HD 225291A',\n",
    "                 'Gaia DR2 2551241944269355776': 'HD 3972A',\n",
    "                 'Gaia DR2 417565761431676288': 'HIP 3585',\n",
    "                 'Gaia DR2 2572433347264096768': 'HIP 8110',\n",
    "                 'Gaia DR2 90783037268826368': 'HIP 9434',  # bright double\n",
    "                 'Gaia DR2 139281533098990336': 'HD 19771',  # bright double\n",
    "                 'Gaia DR2 450345089271313536': 'HD 21903',  # bright double\n",
    "                 'Gaia DR2 2989285658784560640': 'HIP 23951',  # bright double\n",
    "                 'Gaia DR2 3235618049144649984': 'HD 33866',\n",
    "                 'Gaia DR2 3319596479531147392': 'HD 38767',  # bright double\n",
    "                 'Gaia DR2 3049638303010222080': 'HD 52590',\n",
    "                 'Gaia DR2 901953203859813888': 'HD 67501A',  # co-moving twin pair?\n",
    "                 'Gaia DR2 901953199567368960': 'HD 67501B',  # co-moving twin pair?\n",
    "                 'Gaia DR2 903616971110812544': 'HD 71974',  # bright double\n",
    "                 'Gaia DR2 811174736439695232': 'HD 80441', # bright double\n",
    "                 'Gaia DR2 3850860191466194688': 'HD 82267',\n",
    "                 'Gaia DR2 1070274204844445056': 'HIP 49230',\n",
    "                 'Gaia DR2 746691643641649536': 'HIP 49315',\n",
    "                 'Gaia DR2 4022691525057422208': 'HIP 56054',\n",
    "                 'Gaia DR2 1466569467151572992': 'HD 114723',  # bright double ?\n",
    "                 'Gaia DR2 1603382317472430080': 'HIP 71109',\n",
    "                 'Gaia DR2 1186325496788069632': 'HD 131473',  # bright double\n",
    "                 'Gaia DR2 4409032079673958528': 'HIP 78024',\n",
    "                 'Gaia DR2 1191393008443719808': 'TYC 956-1098-1',  # HD 143597. no survey other than Tycho and Gaia resolves them\n",
    "                 'Gaia DR2 1191393008441035648': 'TYC 956-1098-2',  # HD 143597\n",
    "                 'Gaia DR2 4148904396147803136': 'HD 162739',  # duplicated in TIC as TIC 207281346\n",
    "                 'Gaia DR2 4185205008718146048': 'HD 179518',  # this HD is TIC as 6990809 with a different DR2 ID but no Gaia info, diff V mag ??\n",
    "                 'Gaia DR2 4516054074788081152': 'HD 180054',  # duplicated in TIC as TIC 352587633\n",
    "                 'Gaia DR2 2087620020176419072': 'HIP 99388',\n",
    "                 'Gaia DR2 1804783160869679872': 'HIP 101315',\n",
    "                 'Gaia DR2 1731257443928035200': 'HIP 104047',\n",
    "                 'Gaia DR2 1787693589076214016': 'HD 205160B',  # associated twin stars w slightly different PMRA?\n",
    "                 'Gaia DR2 1787693589076213632': 'HD 205160A',  # associated twin stars w slightly different PMRA?\n",
    "                 'Gaia DR2 2681975358571981312': 'HD 209965',  # bright double\n",
    "                 'Gaia DR2 1929623635232510208': 'HIP 112722',\n",
    "                 'Gaia DR2 2643881159024617088': 'HIP 115891'}"
   ]
  },
  {
   "cell_type": "code",
   "execution_count": 8,
   "metadata": {
    "collapsed": true,
    "jupyter": {
     "outputs_hidden": true,
     "source_hidden": true
    }
   },
   "outputs": [
    {
     "name": "stdout",
     "output_type": "stream",
     "text": [
      "0/2858 complete\n",
      "100/2858 complete\n",
      "200/2858 complete\n",
      "300/2858 complete\n",
      "400/2858 complete\n",
      "500/2858 complete\n",
      "600/2858 complete\n",
      "700/2858 complete\n",
      "800/2858 complete\n",
      "900/2858 complete\n",
      "1000/2858 complete\n",
      "1100/2858 complete\n"
     ]
    },
    {
     "name": "stderr",
     "output_type": "stream",
     "text": [
      "/Users/mbedell/opt/miniconda3/envs/gr8stars/lib/python3.7/site-packages/astroquery/simbad/core.py:138: UserWarning: Warning: The script line number 2 raised an error (recorded in the `errors` attribute of the result table): 'Gaia DR2 -1' this identifier has an incorrect format for catalogs: \tGaia : Gaia \tGaia (\n",
      "  (error.line, error.msg))\n"
     ]
    },
    {
     "name": "stdout",
     "output_type": "stream",
     "text": [
      "1200/2858 complete\n",
      "1300/2858 complete\n",
      "1400/2858 complete\n",
      "1500/2858 complete\n",
      "1600/2858 complete\n",
      "1700/2858 complete\n",
      "1800/2858 complete\n",
      "1900/2858 complete\n",
      "2000/2858 complete\n",
      "2100/2858 complete\n",
      "2200/2858 complete\n",
      "2300/2858 complete\n",
      "2400/2858 complete\n",
      "2500/2858 complete\n",
      "2600/2858 complete\n",
      "2700/2858 complete\n",
      "2800/2858 complete\n"
     ]
    }
   ],
   "source": [
    "# primary name:\n",
    "\n",
    "simbad_failed = []\n",
    "maybe_double = []\n",
    "for i,t in enumerate(table):\n",
    "    if i%5 == 0:\n",
    "        time.sleep(0.5) # wait 0.5 s to avoid borking simbad\n",
    "    if i%100 == 0:\n",
    "        print('{0}/{1} complete'.format(i,len(table)))\n",
    "    name = 'Gaia DR2 '+str(t['gaiadr2_source_id'])\n",
    "    if name in weird_ones_map:\n",
    "        result = Simbad.query_objectids(weird_ones_map[name])\n",
    "    else:\n",
    "        result = Simbad.query_objectids(name)\n",
    "    if result is None:\n",
    "        simbad_failed.append(t['primary_name'])\n",
    "        continue\n",
    "    for r in result:\n",
    "        if 'HIP' in r[0]:\n",
    "            if table['hip'][i] != int(r[0].split()[1]): # TESS x-match fail\n",
    "                #print('WARNING: replacing ID HIP {0} with HIP {1} for row {2}'.format(table['hip'][i],\n",
    "                #        r[0].split()[1], i))\n",
    "                table['hip'][i] = r[0].split()[1]\n",
    "        elif ('HD ' in r[0]):\n",
    "            table['hd'][i] = r[0].split()[1]\n",
    "        elif 'WISEA' in r[0]:\n",
    "            if table['wisea'][i] != r[0].split()[1] or table['wisea'].mask[i]: # TESS x-match fail\n",
    "                table['wisea'][i] = r[0].split()[1]\n",
    "        elif '2MASS' in r[0]:\n",
    "            if (table['2mass'][i] != r[0].split()[1][1:]) or table['2mass'].mask[i]: # TESS x-match fail\n",
    "                table['2mass'][i] = r[0].split()[1][1:] # clip off the initial J for consistency\n",
    "    # set primary names:\n",
    "    for r in result:\n",
    "        if r[0][:2] == '**':\n",
    "            maybe_double.append(t['primary_name'])\n",
    "        elif r[0][0] == '*':\n",
    "            table['primary_name'][i] = r[0][1:].strip() # string magic\n",
    "            continue # take only the first * name  \n",
    "    if table['primary_name'][i][0:4] == 'Gaia':\n",
    "        if table['hd'][i] != '':\n",
    "            table['primary_name'][i] = 'HD'+table['hd'][i]\n",
    "        elif table['hip'][i] > -1:\n",
    "            table['primary_name'][i] = 'HIP'+str(table['hip'][i])"
   ]
  },
  {
   "cell_type": "code",
   "execution_count": 9,
   "metadata": {
    "collapsed": true,
    "jupyter": {
     "outputs_hidden": true,
     "source_hidden": true
    }
   },
   "outputs": [
    {
     "name": "stdout",
     "output_type": "stream",
     "text": [
      "3 705\n"
     ]
    }
   ],
   "source": [
    "simbad_failed = np.array(simbad_failed)\n",
    "maybe_double = np.unique(maybe_double)\n",
    "\n",
    "print(len(simbad_failed), len(maybe_double))"
   ]
  },
  {
   "cell_type": "code",
   "execution_count": 10,
   "metadata": {
    "jupyter": {
     "source_hidden": true
    }
   },
   "outputs": [],
   "source": [
    "table.write('Gr8stars_GaiaeDR3_formatted-names.csv', overwrite=True)"
   ]
  },
  {
   "cell_type": "markdown",
   "metadata": {},
   "source": [
    "### skip to here to avoid re-running SIMBAD queries:"
   ]
  },
  {
   "cell_type": "code",
   "execution_count": 255,
   "metadata": {},
   "outputs": [],
   "source": [
    "# hacky alternative to rerunning all the simbad code:\n",
    "table2 = Table.read('Gr8stars_GaiaeDR3_formatted-names.csv')\n",
    "table2.sort(['ra_j2000','dec_j2000'])\n",
    "table['hd'] = table2['hd']\n",
    "table['primary_name'] = table2['primary_name']\n",
    "table['hip'] = table2['hip']\n",
    "table['2mass'] = table2['2mass']\n",
    "table['wisea'] = table2['wisea']"
   ]
  },
  {
   "cell_type": "code",
   "execution_count": 256,
   "metadata": {},
   "outputs": [],
   "source": [
    "table['tic'] = MaskedColumn(table['tic'], mask=(table['tic'] <= 0))"
   ]
  },
  {
   "cell_type": "code",
   "execution_count": 257,
   "metadata": {},
   "outputs": [],
   "source": [
    "table['hip'] = MaskedColumn(table['hip'], mask=(table['hip'] <= 0))"
   ]
  },
  {
   "cell_type": "code",
   "execution_count": 258,
   "metadata": {},
   "outputs": [],
   "source": [
    "# HD, 2MASS, WISE are already masked; Gaia eDR3 has no values that need masking"
   ]
  },
  {
   "cell_type": "code",
   "execution_count": 259,
   "metadata": {},
   "outputs": [
    {
     "data": {
      "text/html": [
       "<div><i>Table length=10</i>\n",
       "<table id=\"table140318419764368\" class=\"table-striped table-bordered table-condensed\">\n",
       "<thead><tr><th>ra_j2000</th><th>dec_j2000</th><th>primary_name</th><th>gaiadr2_source_id</th><th>gaiaedr3_source_id</th><th>hip</th><th>hd</th><th>tic</th><th>2mass</th><th>wisea</th><th>ra</th><th>ra_error</th><th>dec</th><th>dec_error</th><th>parallax</th><th>parallax_error</th><th>pmra</th><th>pmra_error</th><th>pmdec</th><th>pmdec_error</th><th>gmag</th><th>bp_rp</th><th>radial_velocity</th><th>radial_velocity_error</th><th>ref_epoch</th></tr></thead>\n",
       "<thead><tr><th>float64</th><th>float64</th><th>str29</th><th>int64</th><th>int64</th><th>int64</th><th>str7</th><th>int64</th><th>str16</th><th>str19</th><th>float64</th><th>float64</th><th>float64</th><th>float64</th><th>float64</th><th>float64</th><th>float64</th><th>float64</th><th>float64</th><th>float64</th><th>float64</th><th>float64</th><th>float64</th><th>float64</th><th>str7</th></tr></thead>\n",
       "<tr><td>0.1735187163099</td><td>62.1758995053047</td><td>HD224792</td><td>429915991435184000</td><td>429915991435184000</td><td>58</td><td>224792</td><td>417860263</td><td>00004167+6210331</td><td>J000041.58+621032.9</td><td>0.17307161161</td><td>0.0135</td><td>62.17570631925</td><td>0.0153</td><td>26.1048</td><td>0.0182</td><td>-46.955</td><td>0.017</td><td>-43.467</td><td>0.019</td><td>6.922204</td><td>0.67424</td><td>3.76</td><td>0.27</td><td>J2016.0</td></tr>\n",
       "<tr><td>0.2923327649201</td><td>-0.0761104076889</td><td>HD224839</td><td>2546019543207725440</td><td>2546019543207725440</td><td>93</td><td>224839</td><td>138684373</td><td>00011015-0004338</td><td>J000110.18-000434.6</td><td>0.29252029523</td><td>0.0274</td><td>-0.07639817491</td><td>0.0198</td><td>15.7099</td><td>0.0311</td><td>42.194</td><td>0.038</td><td>-64.748</td><td>0.019</td><td>7.981884</td><td>0.764665</td><td>-3.02</td><td>0.16</td><td>J2016.0</td></tr>\n",
       "<tr><td>0.4571711894795</td><td>65.4555699380329</td><td>HD224919</td><td>432197890377254528</td><td>432197890377254528</td><td>--</td><td>224919</td><td>418988281</td><td>00014974+6527200</td><td>J000149.74+652720.6</td><td>0.45736153541</td><td>0.0117</td><td>65.45580468513</td><td>0.012</td><td>15.3692</td><td>0.0151</td><td>17.791</td><td>0.015</td><td>52.818</td><td>0.016</td><td>7.535949</td><td>0.631671</td><td>-29.18</td><td>0.15</td><td>J2016.0</td></tr>\n",
       "<tr><td>0.5431196625046</td><td>27.0818330846237</td><td>85 Peg</td><td>2853900872207150720</td><td>2853900872207888768</td><td>171</td><td>224930</td><td>611726941</td><td>00021014+2704570</td><td>J000210.87+270444.6</td><td>0.54669605643</td><td>0.2633</td><td>27.07764869795</td><td>0.2213</td><td>81.179</td><td>0.449</td><td>716.46</td><td>0.452</td><td>-941.497</td><td>0.242</td><td>5.595876</td><td>0.929018</td><td>-35.57</td><td>0.35</td><td>J2016.0</td></tr>\n",
       "<tr><td>0.6965612550145</td><td>2.1301527341538</td><td>HD225028A</td><td>2739059700184753280</td><td>2739059700184753280</td><td>--</td><td>225028A</td><td>611064061</td><td>--</td><td>--</td><td>0.69683851342</td><td>0.0193</td><td>2.12973783087</td><td>0.0154</td><td>23.3713</td><td>0.0233</td><td>62.34</td><td>0.028</td><td>-93.353</td><td>0.015</td><td>7.213268</td><td>0.799183</td><td>-2.54</td><td>0.19</td><td>J2016.0</td></tr>\n",
       "<tr><td>0.8580574171151</td><td>20.6655286255845</td><td>HD225097</td><td>2846469822870413696</td><td>2846469822870413696</td><td>276</td><td>225097</td><td>238301314</td><td>00032593+2039561</td><td>J000325.97+203954.3</td><td>0.85833620764</td><td>0.144</td><td>20.66483347784</td><td>0.185</td><td>14.5756</td><td>0.225</td><td>58.692</td><td>0.187</td><td>-156.408</td><td>0.236</td><td>7.341593</td><td>0.79231</td><td>-31.51</td><td>0.4</td><td>J2016.0</td></tr>\n",
       "<tr><td>1.2346725514673</td><td>23.2696293916025</td><td>HD225261</td><td>2848150288954631296</td><td>2848150288954631296</td><td>400</td><td>225261</td><td>258866681</td><td>00045634+2316106</td><td>J000456.61+231610.6</td><td>1.23652388841</td><td>0.0188</td><td>23.26959631737</td><td>0.0219</td><td>37.9297</td><td>0.0258</td><td>382.667</td><td>0.024</td><td>-7.444</td><td>0.029</td><td>7.624367</td><td>0.940167</td><td>7.51</td><td>0.16</td><td>J2016.0</td></tr>\n",
       "<tr><td>1.2396804613202</td><td>45.6737925276659</td><td>HD225291A</td><td>386648181647057152</td><td>386648181647057152</td><td>404</td><td>225291A</td><td>439946040</td><td>00045752+4540257</td><td>J000457.52+454025.5</td><td>1.23979666771</td><td>0.0154</td><td>45.67350137279</td><td>0.012</td><td>13.6393</td><td>0.0222</td><td>18.27</td><td>0.019</td><td>-65.51</td><td>0.016</td><td>7.438472</td><td>0.694592</td><td>-17.15</td><td>0.16</td><td>J2016.0</td></tr>\n",
       "<tr><td>1.3798428459156</td><td>-9.6174575097273</td><td>HD63</td><td>2428706669045383808</td><td>2428706669045383808</td><td>462</td><td>63</td><td>176285709</td><td>00053115-0937028</td><td>J000531.22-093703.7</td><td>1.38022917866</td><td>0.0325</td><td>-9.61779490682</td><td>0.0212</td><td>20.1669</td><td>0.036</td><td>85.703</td><td>0.041</td><td>-75.914</td><td>0.024</td><td>7.020907</td><td>0.603799</td><td>0.44</td><td>0.31</td><td>J2016.0</td></tr>\n",
       "<tr><td>1.4781193154309</td><td>18.2350073192759</td><td>HD101</td><td>2797111130991722240</td><td>2797111130991722240</td><td>493</td><td>101</td><td>258868211</td><td>00055473+1814058</td><td>J000554.64+181404.4</td><td>1.47741339646</td><td>0.0232</td><td>18.2343496415</td><td>0.0203</td><td>26.6978</td><td>0.0286</td><td>-150.855</td><td>0.027</td><td>-147.978</td><td>0.027</td><td>7.318629</td><td>0.741892</td><td>-45.7</td><td>0.16</td><td>J2016.0</td></tr>\n",
       "</table></div>"
      ],
      "text/plain": [
       "<Table length=10>\n",
       "    ra_j2000       dec_j2000     ... radial_velocity_error ref_epoch\n",
       "    float64         float64      ...        float64           str7  \n",
       "--------------- ---------------- ... --------------------- ---------\n",
       "0.1735187163099 62.1758995053047 ...                  0.27   J2016.0\n",
       "0.2923327649201 -0.0761104076889 ...                  0.16   J2016.0\n",
       "0.4571711894795 65.4555699380329 ...                  0.15   J2016.0\n",
       "0.5431196625046 27.0818330846237 ...                  0.35   J2016.0\n",
       "0.6965612550145  2.1301527341538 ...                  0.19   J2016.0\n",
       "0.8580574171151 20.6655286255845 ...                   0.4   J2016.0\n",
       "1.2346725514673 23.2696293916025 ...                  0.16   J2016.0\n",
       "1.2396804613202 45.6737925276659 ...                  0.16   J2016.0\n",
       "1.3798428459156 -9.6174575097273 ...                  0.31   J2016.0\n",
       "1.4781193154309 18.2350073192759 ...                  0.16   J2016.0"
      ]
     },
     "execution_count": 259,
     "metadata": {},
     "output_type": "execute_result"
    }
   ],
   "source": [
    "table[0:10]"
   ]
  },
  {
   "cell_type": "code",
   "execution_count": 260,
   "metadata": {},
   "outputs": [
    {
     "data": {
      "text/html": [
       "<div><i>Table length=8</i>\n",
       "<table id=\"table140318362556368\" class=\"table-striped table-bordered table-condensed\">\n",
       "<thead><tr><th>ra_j2000</th><th>dec_j2000</th><th>primary_name</th><th>gaiadr2_source_id</th><th>gaiaedr3_source_id</th><th>hip</th><th>hd</th><th>tic</th><th>2mass</th><th>wisea</th><th>ra</th><th>ra_error</th><th>dec</th><th>dec_error</th><th>parallax</th><th>parallax_error</th><th>pmra</th><th>pmra_error</th><th>pmdec</th><th>pmdec_error</th><th>gmag</th><th>bp_rp</th><th>radial_velocity</th><th>radial_velocity_error</th><th>ref_epoch</th></tr></thead>\n",
       "<thead><tr><th>float64</th><th>float64</th><th>str29</th><th>int64</th><th>int64</th><th>int64</th><th>str7</th><th>int64</th><th>str16</th><th>str19</th><th>float64</th><th>float64</th><th>float64</th><th>float64</th><th>float64</th><th>float64</th><th>float64</th><th>float64</th><th>float64</th><th>float64</th><th>float64</th><th>float64</th><th>float64</th><th>float64</th><th>str7</th></tr></thead>\n",
       "<tr><td>17.0679289393636</td><td>54.9201558892397</td><td>mu. Cas</td><td>-1</td><td>411413822074322432</td><td>5336</td><td>6582</td><td>--</td><td>01081597+5455148</td><td>J010820.48+545456.6</td><td>17.0947498612</td><td>0.2806</td><td>54.91320397756</td><td>0.289</td><td>130.2881</td><td>0.4348</td><td>3468.251</td><td>0.354</td><td>-1564.844</td><td>0.365</td><td>4.948012</td><td>0.922226</td><td>-96.93</td><td>0.18</td><td>J2016.0</td></tr>\n",
       "<tr><td>108.2042589779048</td><td>27.2250609982939</td><td>HD55130B</td><td>-1</td><td>883596170039715072</td><td>--</td><td>55130B</td><td>--</td><td>--</td><td>--</td><td>108.20437524491</td><td>0.5852</td><td>27.22457430182</td><td>0.6333</td><td>21.541</td><td>0.6483</td><td>23.262</td><td>0.676</td><td>-109.507</td><td>0.594</td><td>7.095436</td><td>0.592942</td><td>nan</td><td>nan</td><td>J2016.0</td></tr>\n",
       "<tr><td>133.2834891086175</td><td>54.9530587118437</td><td>Gaia EDR3 1030087329727496320</td><td>-1</td><td>1030087329727496320</td><td>43630</td><td>--</td><td>--</td><td>08530805+5457112</td><td>J085308.10+545711.5</td><td>133.28379071561</td><td>0.114</td><td>54.95326950556</td><td>0.1023</td><td>19.6785</td><td>0.1727</td><td>38.969</td><td>0.124</td><td>47.429</td><td>0.124</td><td>7.932846</td><td>0.761742</td><td>nan</td><td>nan</td><td>J2016.0</td></tr>\n",
       "<tr><td>156.7208595697895</td><td>17.219443631006</td><td>Gaia EDR3 3890250298609911168</td><td>-1</td><td>3890250298609911168</td><td>51145</td><td>--</td><td>--</td><td>10265302+1713099</td><td>J102652.99+171309.1</td><td>156.72064700312</td><td>0.173</td><td>17.21915548179</td><td>0.1591</td><td>11.513</td><td>0.2158</td><td>-45.684</td><td>0.205</td><td>-64.834</td><td>0.133</td><td>7.794488</td><td>0.61961</td><td>nan</td><td>nan</td><td>J2016.0</td></tr>\n",
       "<tr><td>165.8341450816425</td><td>35.9698822727936</td><td>Gaia EDR3 762815470562110464</td><td>-1</td><td>762815470562110464</td><td>54035</td><td>--</td><td>--</td><td>11032027+3558203</td><td>J110319.67+355722.4</td><td>165.83095967578</td><td>0.0241</td><td>35.94865303266</td><td>0.0294</td><td>392.7529</td><td>0.0321</td><td>-580.057</td><td>0.026</td><td>-4776.589</td><td>0.03</td><td>6.551172</td><td>2.215609</td><td>nan</td><td>nan</td><td>J2016.0</td></tr>\n",
       "<tr><td>166.3690706208598</td><td>43.5267741524225</td><td>HIP54211</td><td>-1</td><td>778947814402602752</td><td>54211</td><td>--</td><td>--</td><td>11052903+4331357</td><td>J110524.36+433146.2</td><td>166.34205974427</td><td>0.0247</td><td>43.53094856108</td><td>0.0244</td><td>203.8876</td><td>0.0332</td><td>-4406.469</td><td>0.031</td><td>938.527</td><td>0.028</td><td>7.912665</td><td>2.104178</td><td>nan</td><td>nan</td><td>J2016.0</td></tr>\n",
       "<tr><td>252.780917368212</td><td>9.4041205614543</td><td>HD152113</td><td>-1</td><td>4445793563751403264</td><td>82460</td><td>152113</td><td>--</td><td>16510741+0924154</td><td>--</td><td>252.7810032285</td><td>0.0833</td><td>9.40356705738</td><td>0.0445</td><td>15.2509</td><td>0.1196</td><td>19.059</td><td>0.117</td><td>-124.538</td><td>0.083</td><td>7.905127</td><td>0.692442</td><td>nan</td><td>nan</td><td>J2016.0</td></tr>\n",
       "<tr><td>271.3635350549962</td><td>2.5001462819313</td><td>70 Oph A</td><td>-1</td><td>4468557611984384512</td><td>--</td><td>165341A</td><td>--</td><td>--</td><td>--</td><td>271.36445381846</td><td>0.142</td><td>2.49522409591</td><td>0.135</td><td>195.5674</td><td>0.1964</td><td>206.525</td><td>0.246</td><td>-1107.492</td><td>0.164</td><td>3.987364</td><td>1.003693</td><td>nan</td><td>nan</td><td>J2016.0</td></tr>\n",
       "</table></div>"
      ],
      "text/plain": [
       "<Table length=8>\n",
       "     ra_j2000        dec_j2000     ... radial_velocity_error ref_epoch\n",
       "     float64          float64      ...        float64           str7  \n",
       "----------------- ---------------- ... --------------------- ---------\n",
       " 17.0679289393636 54.9201558892397 ...                  0.18   J2016.0\n",
       "108.2042589779048 27.2250609982939 ...                   nan   J2016.0\n",
       "133.2834891086175 54.9530587118437 ...                   nan   J2016.0\n",
       "156.7208595697895  17.219443631006 ...                   nan   J2016.0\n",
       "165.8341450816425 35.9698822727936 ...                   nan   J2016.0\n",
       "166.3690706208598 43.5267741524225 ...                   nan   J2016.0\n",
       " 252.780917368212  9.4041205614543 ...                   nan   J2016.0\n",
       "271.3635350549962  2.5001462819313 ...                   nan   J2016.0"
      ]
     },
     "execution_count": 260,
     "metadata": {},
     "output_type": "execute_result"
    }
   ],
   "source": [
    "table[table['tic'].mask]"
   ]
  },
  {
   "cell_type": "markdown",
   "metadata": {},
   "source": [
    "### add Gaia DR2:"
   ]
  },
  {
   "cell_type": "code",
   "execution_count": 261,
   "metadata": {},
   "outputs": [
    {
     "name": "stdout",
     "output_type": "stream",
     "text": [
      "Launched query: 'SELECT TOP 5000 * FROM tap_upload.tbl AS tbl, gaiadr2.gaia_source AS gaia WHERE tbl.gaiadr2_source_id=gaia.source_id'\n",
      "------>https\n",
      "host = gea.esac.esa.int:443\n",
      "context = /tap-server/tap/sync\n",
      "Content-type = multipart/form-data; boundary====1691697472357===\n",
      "200 200\n",
      "[('Date', 'Thu, 10 Aug 2023 19:57:52 GMT'), ('Server', 'Apache/2.4.6 (CentOS) OpenSSL/1.0.2k-fips mod_jk/1.2.43'), ('Cache-Control', 'no-cache, no-store, max-age=0, must-revalidate'), ('Pragma', 'no-cache'), ('Expires', '0'), ('X-XSS-Protection', '1; mode=block'), ('X-Frame-Options', 'SAMEORIGIN'), ('X-Content-Type-Options', 'nosniff'), ('Set-Cookie', 'JSESSIONID=12BDB7589E98065FAFDFB67B67BF1182; Path=/tap-server; Secure; HttpOnly'), ('Content-Encoding', 'gzip'), ('Content-Disposition', 'attachment;filename=\"1691697472808O-result.vot\"'), ('Transfer-Encoding', 'chunked'), ('Content-Type', 'application/x-votable+xml')]\n",
      "Retrieving sync. results...\n",
      "Query finished.\n"
     ]
    }
   ],
   "source": [
    "# gaia DR2:\n",
    "table['primary_name','gaiadr2_source_id'].write('gaiadr2.vot', format='votable', overwrite=True)  # write out the DR2 source_ids\n",
    "#Gaia.ROW_LIMIT = 5000\n",
    "query = \"SELECT TOP 5000 * FROM tap_upload.tbl AS tbl, gaiadr2.gaia_source AS gaia WHERE tbl.gaiadr2_source_id=gaia.source_id\"\n",
    "j = Gaia.launch_job(query=query, upload_resource='gaiadr2.vot', \n",
    "                    upload_table_name=\"tbl\", verbose=True)\n",
    "r = j.get_results()"
   ]
  },
  {
   "cell_type": "code",
   "execution_count": 262,
   "metadata": {
    "jupyter": {
     "source_hidden": true
    }
   },
   "outputs": [
    {
     "data": {
      "text/plain": [
       "<TableColumns names=('primary_name','gaiadr2_source_id','solution_id','DESIGNATION','source_id','random_index','ref_epoch','ra','ra_error','dec','dec_error','parallax','parallax_error','parallax_over_error','pmra','pmra_error','pmdec','pmdec_error','ra_dec_corr','ra_parallax_corr','ra_pmra_corr','ra_pmdec_corr','dec_parallax_corr','dec_pmra_corr','dec_pmdec_corr','parallax_pmra_corr','parallax_pmdec_corr','pmra_pmdec_corr','astrometric_n_obs_al','astrometric_n_obs_ac','astrometric_n_good_obs_al','astrometric_n_bad_obs_al','astrometric_gof_al','astrometric_chi2_al','astrometric_excess_noise','astrometric_excess_noise_sig','astrometric_params_solved','astrometric_primary_flag','astrometric_weight_al','astrometric_pseudo_colour','astrometric_pseudo_colour_error','mean_varpi_factor_al','astrometric_matched_observations','visibility_periods_used','astrometric_sigma5d_max','frame_rotator_object_type','matched_observations','duplicated_source','phot_g_n_obs','phot_g_mean_flux','phot_g_mean_flux_error','phot_g_mean_flux_over_error','phot_g_mean_mag','phot_bp_n_obs','phot_bp_mean_flux','phot_bp_mean_flux_error','phot_bp_mean_flux_over_error','phot_bp_mean_mag','phot_rp_n_obs','phot_rp_mean_flux','phot_rp_mean_flux_error','phot_rp_mean_flux_over_error','phot_rp_mean_mag','phot_bp_rp_excess_factor','phot_proc_mode','bp_rp','bp_g','g_rp','radial_velocity','radial_velocity_error','rv_nb_transits','rv_template_teff','rv_template_logg','rv_template_fe_h','phot_variable_flag','l','b','ecl_lon','ecl_lat','priam_flags','teff_val','teff_percentile_lower','teff_percentile_upper','a_g_val','a_g_percentile_lower','a_g_percentile_upper','e_bp_min_rp_val','e_bp_min_rp_percentile_lower','e_bp_min_rp_percentile_upper','flame_flags','radius_val','radius_percentile_lower','radius_percentile_upper','lum_val','lum_percentile_lower','lum_percentile_upper','datalink_url','epoch_photometry_url')>"
      ]
     },
     "execution_count": 262,
     "metadata": {},
     "output_type": "execute_result"
    }
   ],
   "source": [
    "r.columns"
   ]
  },
  {
   "cell_type": "code",
   "execution_count": 263,
   "metadata": {},
   "outputs": [],
   "source": [
    "dr2_table = r['gaiadr2_source_id', 'teff_val']\n",
    "dr2_table.rename_column('teff_val', 'gaia_teff')\n",
    "dr2_table['gaia_teff_lower'] = r['teff_percentile_lower']\n",
    "dr2_table['gaia_teff_upper'] = r['teff_percentile_upper']\n",
    "dr2_table['gaia_radius'] = r['radius_val']\n",
    "dr2_table['gaia_radius_lower'] = r['radius_percentile_lower']\n",
    "dr2_table['gaia_radius_upper'] = r['radius_percentile_upper']\n",
    "dr2_table['gaia_lum'] = r['lum_val']\n",
    "dr2_table['gaia_lum_lower'] = r['lum_percentile_lower']\n",
    "dr2_table['gaia_lum_upper'] = r['lum_percentile_upper']"
   ]
  },
  {
   "cell_type": "code",
   "execution_count": 267,
   "metadata": {},
   "outputs": [],
   "source": [
    "table_with_dr2 = join(table, dr2_table, keys='gaiadr2_source_id', join_type='left')"
   ]
  },
  {
   "cell_type": "code",
   "execution_count": 268,
   "metadata": {},
   "outputs": [],
   "source": [
    "assert len(table_with_dr2) == len(table)"
   ]
  },
  {
   "cell_type": "code",
   "execution_count": 269,
   "metadata": {},
   "outputs": [],
   "source": [
    "table_with_dr2.sort(['ra_j2000','dec_j2000']) # get it in the same order as sample\n",
    "for i in np.random.randint(0,len(table),42):\n",
    "    assert table[i]['gaiadr2_source_id'] == table_with_dr2[i]['gaiadr2_source_id']"
   ]
  },
  {
   "cell_type": "code",
   "execution_count": 270,
   "metadata": {},
   "outputs": [],
   "source": [
    "table = table_with_dr2"
   ]
  },
  {
   "cell_type": "code",
   "execution_count": 271,
   "metadata": {},
   "outputs": [],
   "source": [
    "# we had to preserve -1 IDs because table join doesn't like joining on masked columns, \n",
    "# but let's mask them now:\n",
    "table['gaiadr2_source_id'] = MaskedColumn(table['gaiadr2_source_id'], \n",
    "                                          mask=(table['gaiadr2_source_id'] <= 0))"
   ]
  },
  {
   "cell_type": "code",
   "execution_count": 272,
   "metadata": {},
   "outputs": [
    {
     "data": {
      "text/html": [
       "<div><i>Table length=8</i>\n",
       "<table id=\"table140318419703440\" class=\"table-striped table-bordered table-condensed\">\n",
       "<thead><tr><th>ra_j2000</th><th>dec_j2000</th><th>primary_name</th><th>gaiadr2_source_id</th><th>gaiaedr3_source_id</th><th>hip</th><th>hd</th><th>tic</th><th>2mass</th><th>wisea</th><th>ra</th><th>ra_error</th><th>dec</th><th>dec_error</th><th>parallax</th><th>parallax_error</th><th>pmra</th><th>pmra_error</th><th>pmdec</th><th>pmdec_error</th><th>gmag</th><th>bp_rp</th><th>radial_velocity</th><th>radial_velocity_error</th><th>ref_epoch</th><th>gaia_teff</th><th>gaia_teff_lower</th><th>gaia_teff_upper</th><th>gaia_radius</th><th>gaia_radius_lower</th><th>gaia_radius_upper</th><th>gaia_lum</th><th>gaia_lum_lower</th><th>gaia_lum_upper</th></tr></thead>\n",
       "<thead><tr><th></th><th></th><th></th><th></th><th></th><th></th><th></th><th></th><th></th><th></th><th></th><th></th><th></th><th></th><th></th><th></th><th></th><th></th><th></th><th></th><th></th><th></th><th></th><th></th><th></th><th>K</th><th>K</th><th>K</th><th>solRad</th><th>solRad</th><th>solRad</th><th>solLum</th><th>solLum</th><th>solLum</th></tr></thead>\n",
       "<thead><tr><th>float64</th><th>float64</th><th>str29</th><th>int64</th><th>int64</th><th>int64</th><th>str7</th><th>int64</th><th>str16</th><th>str19</th><th>float64</th><th>float64</th><th>float64</th><th>float64</th><th>float64</th><th>float64</th><th>float64</th><th>float64</th><th>float64</th><th>float64</th><th>float64</th><th>float64</th><th>float64</th><th>float64</th><th>str7</th><th>float32</th><th>float32</th><th>float32</th><th>float32</th><th>float32</th><th>float32</th><th>float32</th><th>float32</th><th>float32</th></tr></thead>\n",
       "<tr><td>17.0679289393636</td><td>54.9201558892397</td><td>mu. Cas</td><td>--</td><td>411413822074322432</td><td>5336</td><td>6582</td><td>--</td><td>01081597+5455148</td><td>J010820.48+545456.6</td><td>17.0947498612</td><td>0.2806</td><td>54.91320397756</td><td>0.289</td><td>130.2881</td><td>0.4348</td><td>3468.251</td><td>0.354</td><td>-1564.844</td><td>0.365</td><td>4.948012</td><td>0.922226</td><td>-96.93</td><td>0.18</td><td>J2016.0</td><td>--</td><td>--</td><td>--</td><td>--</td><td>--</td><td>--</td><td>--</td><td>--</td><td>--</td></tr>\n",
       "<tr><td>108.2042589779048</td><td>27.2250609982939</td><td>HD55130B</td><td>--</td><td>883596170039715072</td><td>--</td><td>55130B</td><td>--</td><td>--</td><td>--</td><td>108.20437524491</td><td>0.5852</td><td>27.22457430182</td><td>0.6333</td><td>21.541</td><td>0.6483</td><td>23.262</td><td>0.676</td><td>-109.507</td><td>0.594</td><td>7.095436</td><td>0.592942</td><td>nan</td><td>nan</td><td>J2016.0</td><td>--</td><td>--</td><td>--</td><td>--</td><td>--</td><td>--</td><td>--</td><td>--</td><td>--</td></tr>\n",
       "<tr><td>133.2834891086175</td><td>54.9530587118437</td><td>Gaia EDR3 1030087329727496320</td><td>--</td><td>1030087329727496320</td><td>43630</td><td>--</td><td>--</td><td>08530805+5457112</td><td>J085308.10+545711.5</td><td>133.28379071561</td><td>0.114</td><td>54.95326950556</td><td>0.1023</td><td>19.6785</td><td>0.1727</td><td>38.969</td><td>0.124</td><td>47.429</td><td>0.124</td><td>7.932846</td><td>0.761742</td><td>nan</td><td>nan</td><td>J2016.0</td><td>--</td><td>--</td><td>--</td><td>--</td><td>--</td><td>--</td><td>--</td><td>--</td><td>--</td></tr>\n",
       "<tr><td>156.7208595697895</td><td>17.219443631006</td><td>Gaia EDR3 3890250298609911168</td><td>--</td><td>3890250298609911168</td><td>51145</td><td>--</td><td>--</td><td>10265302+1713099</td><td>J102652.99+171309.1</td><td>156.72064700312</td><td>0.173</td><td>17.21915548179</td><td>0.1591</td><td>11.513</td><td>0.2158</td><td>-45.684</td><td>0.205</td><td>-64.834</td><td>0.133</td><td>7.794488</td><td>0.61961</td><td>nan</td><td>nan</td><td>J2016.0</td><td>--</td><td>--</td><td>--</td><td>--</td><td>--</td><td>--</td><td>--</td><td>--</td><td>--</td></tr>\n",
       "<tr><td>165.8341450816425</td><td>35.9698822727936</td><td>Gaia EDR3 762815470562110464</td><td>--</td><td>762815470562110464</td><td>54035</td><td>--</td><td>--</td><td>11032027+3558203</td><td>J110319.67+355722.4</td><td>165.83095967578</td><td>0.0241</td><td>35.94865303266</td><td>0.0294</td><td>392.7529</td><td>0.0321</td><td>-580.057</td><td>0.026</td><td>-4776.589</td><td>0.03</td><td>6.551172</td><td>2.215609</td><td>nan</td><td>nan</td><td>J2016.0</td><td>--</td><td>--</td><td>--</td><td>--</td><td>--</td><td>--</td><td>--</td><td>--</td><td>--</td></tr>\n",
       "<tr><td>166.3690706208598</td><td>43.5267741524225</td><td>HIP54211</td><td>--</td><td>778947814402602752</td><td>54211</td><td>--</td><td>--</td><td>11052903+4331357</td><td>J110524.36+433146.2</td><td>166.34205974427</td><td>0.0247</td><td>43.53094856108</td><td>0.0244</td><td>203.8876</td><td>0.0332</td><td>-4406.469</td><td>0.031</td><td>938.527</td><td>0.028</td><td>7.912665</td><td>2.104178</td><td>nan</td><td>nan</td><td>J2016.0</td><td>--</td><td>--</td><td>--</td><td>--</td><td>--</td><td>--</td><td>--</td><td>--</td><td>--</td></tr>\n",
       "<tr><td>252.780917368212</td><td>9.4041205614543</td><td>HD152113</td><td>--</td><td>4445793563751403264</td><td>82460</td><td>152113</td><td>--</td><td>16510741+0924154</td><td>--</td><td>252.7810032285</td><td>0.0833</td><td>9.40356705738</td><td>0.0445</td><td>15.2509</td><td>0.1196</td><td>19.059</td><td>0.117</td><td>-124.538</td><td>0.083</td><td>7.905127</td><td>0.692442</td><td>nan</td><td>nan</td><td>J2016.0</td><td>--</td><td>--</td><td>--</td><td>--</td><td>--</td><td>--</td><td>--</td><td>--</td><td>--</td></tr>\n",
       "<tr><td>271.3635350549962</td><td>2.5001462819313</td><td>70 Oph A</td><td>--</td><td>4468557611984384512</td><td>--</td><td>165341A</td><td>--</td><td>--</td><td>--</td><td>271.36445381846</td><td>0.142</td><td>2.49522409591</td><td>0.135</td><td>195.5674</td><td>0.1964</td><td>206.525</td><td>0.246</td><td>-1107.492</td><td>0.164</td><td>3.987364</td><td>1.003693</td><td>nan</td><td>nan</td><td>J2016.0</td><td>--</td><td>--</td><td>--</td><td>--</td><td>--</td><td>--</td><td>--</td><td>--</td><td>--</td></tr>\n",
       "</table></div>"
      ],
      "text/plain": [
       "<Table length=8>\n",
       "     ra_j2000        dec_j2000     ... gaia_lum_lower gaia_lum_upper\n",
       "                                   ...     solLum         solLum    \n",
       "     float64          float64      ...    float32        float32    \n",
       "----------------- ---------------- ... -------------- --------------\n",
       " 17.0679289393636 54.9201558892397 ...             --             --\n",
       "108.2042589779048 27.2250609982939 ...             --             --\n",
       "133.2834891086175 54.9530587118437 ...             --             --\n",
       "156.7208595697895  17.219443631006 ...             --             --\n",
       "165.8341450816425 35.9698822727936 ...             --             --\n",
       "166.3690706208598 43.5267741524225 ...             --             --\n",
       " 252.780917368212  9.4041205614543 ...             --             --\n",
       "271.3635350549962  2.5001462819313 ...             --             --"
      ]
     },
     "execution_count": 272,
     "metadata": {},
     "output_type": "execute_result"
    }
   ],
   "source": [
    "table[table['tic'].mask]"
   ]
  },
  {
   "cell_type": "markdown",
   "metadata": {},
   "source": [
    "### add hires info:"
   ]
  },
  {
   "cell_type": "code",
   "execution_count": 273,
   "metadata": {},
   "outputs": [],
   "source": [
    "table.add_column(Column(name='spectrum_hires', dtype='<U29', length=len(table)))"
   ]
  },
  {
   "cell_type": "code",
   "execution_count": 274,
   "metadata": {},
   "outputs": [],
   "source": [
    "# grab relevant info from sample:\n",
    "hires_table = Table()\n",
    "hires_table.add_column(Column(name='gaiaedr3_source_id', dtype=np.int64, length=len(sample)))\n",
    "for i,s in enumerate(sample['EDR3Name']):\n",
    "    hires_table[i]['gaiaedr3_source_id'] = s.split()[2] # hack relying on spaces\n",
    "hires_table['spectrum_hires_resolution'] = MaskedColumn(sample['hires_maxres'], \n",
    "                                                  mask=(sample['hires_maxres'] == 0))\n",
    "hires_table['spectrum_hires_nobs'] = MaskedColumn(sample['n_hires_obs_maxres_iodout'], \n",
    "                                            mask=(sample['n_hires_obs_maxres_iodout'] == 0))\n",
    "hires_table['spectrum_hires_snr'] = MaskedColumn(sample['hires_maxres_snr'], \n",
    "                                           mask=(sample['hires_maxres_snr'] == 0))"
   ]
  },
  {
   "cell_type": "code",
   "execution_count": 275,
   "metadata": {},
   "outputs": [],
   "source": [
    "table_with_hires = join(table, hires_table, keys='gaiaedr3_source_id', join_type='left')"
   ]
  },
  {
   "cell_type": "raw",
   "metadata": {},
   "source": [
    "# mask out the low-SNR spectra:\n",
    "MIN_SNR = 100 # if combined SNR is below this limit, ignore the spectra\n",
    "bad = table_with_hires['spectrum_hires_snr'] < MIN_SNR\n",
    "table_with_hires['spectrum_hires_resolution'][bad] = np.ma.masked\n",
    "table_with_hires['spectrum_hires_nobs'][bad] = np.ma.masked\n",
    "table_with_hires['spectrum_hires_snr'][bad] = np.ma.masked"
   ]
  },
  {
   "cell_type": "code",
   "execution_count": 276,
   "metadata": {},
   "outputs": [],
   "source": [
    "table_with_hires['spectrum_hires'][~table_with_hires['spectrum_hires_snr'].mask] = 'true'"
   ]
  },
  {
   "cell_type": "code",
   "execution_count": 277,
   "metadata": {},
   "outputs": [],
   "source": [
    "table = table_with_hires"
   ]
  },
  {
   "cell_type": "markdown",
   "metadata": {},
   "source": [
    "### add harps info:"
   ]
  },
  {
   "cell_type": "code",
   "execution_count": 278,
   "metadata": {},
   "outputs": [],
   "source": [
    "harps_table = Table.read('annelies/Gr8_spectra_info_HARPS.txt', format='ascii', comment='-')"
   ]
  },
  {
   "cell_type": "code",
   "execution_count": 279,
   "metadata": {},
   "outputs": [],
   "source": [
    "harps_table.rename_column('Name', 'primary_name')\n",
    "harps_table.rename_column('S2D HARPS', 'spectrum_harps_nobs')\n",
    "harps_table.rename_column('SNR co-added HARPS', 'spectrum_harps_snr')"
   ]
  },
  {
   "cell_type": "code",
   "execution_count": 280,
   "metadata": {},
   "outputs": [
    {
     "data": {
      "text/html": [
       "<div><i>Table length=16</i>\n",
       "<table id=\"table140318419788688\" class=\"table-striped table-bordered table-condensed\">\n",
       "<thead><tr><th>primary_name</th><th>spectrum_harps_nobs</th><th>spectrum_harps_snr</th></tr></thead>\n",
       "<thead><tr><th>str9</th><th>int64</th><th>float64</th></tr></thead>\n",
       "<tr><td>9 Cet</td><td>0</td><td>427.1</td></tr>\n",
       "<tr><td>HD7449</td><td>0</td><td>158.5</td></tr>\n",
       "<tr><td>HD26334</td><td>0</td><td>112.6</td></tr>\n",
       "<tr><td>HD54351</td><td>0</td><td>288.3</td></tr>\n",
       "<tr><td>rho Cnc</td><td>0</td><td>221.8</td></tr>\n",
       "<tr><td>HD82106</td><td>0</td><td>140.4</td></tr>\n",
       "<tr><td>HD97658</td><td>0</td><td>125.7</td></tr>\n",
       "<tr><td>HD116941</td><td>0</td><td>133.4</td></tr>\n",
       "<tr><td>HD117126</td><td>0</td><td>335.1</td></tr>\n",
       "<tr><td>HD117190A</td><td>0</td><td>304.4</td></tr>\n",
       "<tr><td>HD122603</td><td>0</td><td>265.5</td></tr>\n",
       "<tr><td>HD153631</td><td>0</td><td>273.0</td></tr>\n",
       "<tr><td>HD168432A</td><td>0</td><td>260.4</td></tr>\n",
       "<tr><td>HD188345</td><td>0</td><td>182.0</td></tr>\n",
       "<tr><td>51 Peg</td><td>0</td><td>504.3</td></tr>\n",
       "<tr><td>HD220476</td><td>0</td><td>317.5</td></tr>\n",
       "</table></div>"
      ],
      "text/plain": [
       "<Table length=16>\n",
       "primary_name spectrum_harps_nobs spectrum_harps_snr\n",
       "    str9            int64             float64      \n",
       "------------ ------------------- ------------------\n",
       "       9 Cet                   0              427.1\n",
       "      HD7449                   0              158.5\n",
       "     HD26334                   0              112.6\n",
       "     HD54351                   0              288.3\n",
       "     rho Cnc                   0              221.8\n",
       "     HD82106                   0              140.4\n",
       "     HD97658                   0              125.7\n",
       "    HD116941                   0              133.4\n",
       "    HD117126                   0              335.1\n",
       "   HD117190A                   0              304.4\n",
       "    HD122603                   0              265.5\n",
       "    HD153631                   0              273.0\n",
       "   HD168432A                   0              260.4\n",
       "    HD188345                   0              182.0\n",
       "      51 Peg                   0              504.3\n",
       "    HD220476                   0              317.5"
      ]
     },
     "execution_count": 280,
     "metadata": {},
     "output_type": "execute_result"
    }
   ],
   "source": [
    "harps_table[harps_table['spectrum_harps_nobs'] == 0]"
   ]
  },
  {
   "cell_type": "code",
   "execution_count": 281,
   "metadata": {},
   "outputs": [],
   "source": [
    "table.add_column(Column(name='spectrum_harps', dtype='<U29', length=len(table)))"
   ]
  },
  {
   "cell_type": "code",
   "execution_count": 282,
   "metadata": {},
   "outputs": [],
   "source": [
    "table_with_harps = join(table, harps_table, keys='primary_name', join_type='left')"
   ]
  },
  {
   "cell_type": "code",
   "execution_count": 283,
   "metadata": {},
   "outputs": [],
   "source": [
    "table_with_harps['spectrum_harps_nobs'].fill_value = 0\n",
    "table_with_harps['spectrum_harps_snr'].fill_value = 0."
   ]
  },
  {
   "cell_type": "code",
   "execution_count": 284,
   "metadata": {},
   "outputs": [],
   "source": [
    "table_with_harps['spectrum_harps'][(table_with_harps['spectrum_harps_snr'] > 0) \n",
    "                                   & ~(table_with_harps['spectrum_harps_snr'].mask)] = 'true'"
   ]
  },
  {
   "cell_type": "code",
   "execution_count": 285,
   "metadata": {},
   "outputs": [
    {
     "data": {
      "text/plain": [
       "350"
      ]
     },
     "execution_count": 285,
     "metadata": {},
     "output_type": "execute_result"
    }
   ],
   "source": [
    "np.sum(table_with_harps['spectrum_harps'] == 'true')"
   ]
  },
  {
   "cell_type": "code",
   "execution_count": 286,
   "metadata": {},
   "outputs": [],
   "source": [
    "table = table_with_harps"
   ]
  },
  {
   "cell_type": "markdown",
   "metadata": {},
   "source": [
    "### add sophie info:"
   ]
  },
  {
   "cell_type": "code",
   "execution_count": 287,
   "metadata": {},
   "outputs": [],
   "source": [
    "sophie_table = Table.read('annelies/Gr8_spectra_info_SOPHIE.txt', format='ascii', comment='-')"
   ]
  },
  {
   "cell_type": "code",
   "execution_count": 288,
   "metadata": {},
   "outputs": [],
   "source": [
    "sophie_table.rename_column('Name', 'primary_name')\n",
    "sophie_table.rename_column('S2D SOPHIE', 'spectrum_sophie_nobs')\n",
    "sophie_table.rename_column('SNR co-added SOPHIE', 'spectrum_sophie_snr')"
   ]
  },
  {
   "cell_type": "code",
   "execution_count": 289,
   "metadata": {},
   "outputs": [
    {
     "data": {
      "text/plain": [
       "0"
      ]
     },
     "execution_count": 289,
     "metadata": {},
     "output_type": "execute_result"
    }
   ],
   "source": [
    "np.sum(sophie_table['spectrum_sophie_nobs'] == 0)"
   ]
  },
  {
   "cell_type": "code",
   "execution_count": 290,
   "metadata": {},
   "outputs": [],
   "source": [
    "table.add_column(Column(name='spectrum_sophie', dtype='<U29', length=len(table)))\n",
    "table_with_sophie = join(table, sophie_table, keys='primary_name', join_type='left')"
   ]
  },
  {
   "cell_type": "code",
   "execution_count": 291,
   "metadata": {},
   "outputs": [],
   "source": [
    "table_with_sophie['spectrum_sophie_nobs'].fill_value = 0\n",
    "table_with_sophie['spectrum_sophie_snr'].fill_value = 0."
   ]
  },
  {
   "cell_type": "code",
   "execution_count": 292,
   "metadata": {},
   "outputs": [],
   "source": [
    "table_with_sophie['spectrum_sophie'][(table_with_sophie['spectrum_sophie_nobs'] > 0) \n",
    "                                   & ~(table_with_sophie['spectrum_sophie_nobs'].mask)] = 'true'"
   ]
  },
  {
   "cell_type": "code",
   "execution_count": 293,
   "metadata": {},
   "outputs": [],
   "source": [
    "table = table_with_sophie"
   ]
  },
  {
   "cell_type": "markdown",
   "metadata": {},
   "source": [
    "### add hermes info:"
   ]
  },
  {
   "cell_type": "code",
   "execution_count": 294,
   "metadata": {},
   "outputs": [],
   "source": [
    "#hermes_table = Table.read('hermes/hermes_spectra.txt', format='ascii', names=['filename'], data_end=-1)"
   ]
  },
  {
   "cell_type": "code",
   "execution_count": 295,
   "metadata": {},
   "outputs": [],
   "source": [
    "hermes_table = Table.read('hermes/Gr8_spectra_info_HERMES.txt', format='ascii', delimiter='\\t')[1:]['Name', 'SNR co-added HERMES']"
   ]
  },
  {
   "cell_type": "code",
   "execution_count": 296,
   "metadata": {},
   "outputs": [],
   "source": [
    "hermes_table.rename_column('Name', 'primary_name')\n",
    "hermes_table.rename_column('SNR co-added HERMES', 'spectrum_hermes_snr')"
   ]
  },
  {
   "cell_type": "code",
   "execution_count": 297,
   "metadata": {},
   "outputs": [],
   "source": [
    "hermes_table['primary_name'] = Column(hermes_table['primary_name'], dtype='<U29')"
   ]
  },
  {
   "cell_type": "code",
   "execution_count": 298,
   "metadata": {},
   "outputs": [],
   "source": [
    "hermes_table['spectrum_hermes_nobs'] = np.zeros(len(hermes_table), dtype=int) + 1"
   ]
  },
  {
   "cell_type": "code",
   "execution_count": 299,
   "metadata": {},
   "outputs": [
    {
     "data": {
      "text/html": [
       "<div><i>Table length=7</i>\n",
       "<table id=\"table140318362499728\" class=\"table-striped table-bordered table-condensed\">\n",
       "<thead><tr><th>ra_j2000</th><th>dec_j2000</th><th>primary_name</th><th>gaiadr2_source_id</th><th>gaiaedr3_source_id</th><th>hip</th><th>hd</th><th>tic</th><th>2mass</th><th>wisea</th><th>ra</th><th>ra_error</th><th>dec</th><th>dec_error</th><th>parallax</th><th>parallax_error</th><th>pmra</th><th>pmra_error</th><th>pmdec</th><th>pmdec_error</th><th>gmag</th><th>bp_rp</th><th>radial_velocity</th><th>radial_velocity_error</th><th>ref_epoch</th><th>gaia_teff</th><th>gaia_teff_lower</th><th>gaia_teff_upper</th><th>gaia_radius</th><th>gaia_radius_lower</th><th>gaia_radius_upper</th><th>gaia_lum</th><th>gaia_lum_lower</th><th>gaia_lum_upper</th><th>spectrum_hires</th><th>spectrum_hires_resolution</th><th>spectrum_hires_nobs</th><th>spectrum_hires_snr</th><th>spectrum_harps</th><th>spectrum_harps_nobs</th><th>spectrum_harps_snr</th><th>spectrum_sophie</th><th>spectrum_sophie_nobs</th><th>spectrum_sophie_snr</th><th>spectrum_hermes_snr</th><th>spectrum_hermes_nobs</th></tr></thead>\n",
       "<thead><tr><th></th><th></th><th></th><th></th><th></th><th></th><th></th><th></th><th></th><th></th><th></th><th></th><th></th><th></th><th></th><th></th><th></th><th></th><th></th><th></th><th></th><th></th><th></th><th></th><th></th><th>K</th><th>K</th><th>K</th><th>solRad</th><th>solRad</th><th>solRad</th><th>solLum</th><th>solLum</th><th>solLum</th><th></th><th></th><th></th><th></th><th></th><th></th><th></th><th></th><th></th><th></th><th></th><th></th></tr></thead>\n",
       "<thead><tr><th>float64</th><th>float64</th><th>str29</th><th>int64</th><th>int64</th><th>int64</th><th>str7</th><th>int64</th><th>str16</th><th>str19</th><th>float64</th><th>float64</th><th>float64</th><th>float64</th><th>float64</th><th>float64</th><th>float64</th><th>float64</th><th>float64</th><th>float64</th><th>float64</th><th>float64</th><th>float64</th><th>float64</th><th>str7</th><th>float32</th><th>float32</th><th>float32</th><th>float32</th><th>float32</th><th>float32</th><th>float32</th><th>float32</th><th>float32</th><th>str29</th><th>float64</th><th>int64</th><th>float64</th><th>str29</th><th>int64</th><th>float64</th><th>str29</th><th>int64</th><th>float64</th><th>str18</th><th>int64</th></tr></thead>\n",
       "<tr><td>--</td><td>--</td><td>BD+17_2463</td><td>--</td><td>--</td><td>--</td><td>--</td><td>--</td><td>--</td><td>--</td><td>--</td><td>--</td><td>--</td><td>--</td><td>--</td><td>--</td><td>--</td><td>--</td><td>--</td><td>--</td><td>--</td><td>--</td><td>--</td><td>--</td><td>--</td><td>--</td><td>--</td><td>--</td><td>--</td><td>--</td><td>--</td><td>--</td><td>--</td><td>--</td><td>--</td><td>--</td><td>--</td><td>--</td><td>--</td><td>--</td><td>--</td><td>--</td><td>--</td><td>--</td><td>171.8668753821042</td><td>1</td></tr>\n",
       "<tr><td>--</td><td>--</td><td>HD101501</td><td>--</td><td>--</td><td>--</td><td>--</td><td>--</td><td>--</td><td>--</td><td>--</td><td>--</td><td>--</td><td>--</td><td>--</td><td>--</td><td>--</td><td>--</td><td>--</td><td>--</td><td>--</td><td>--</td><td>--</td><td>--</td><td>--</td><td>--</td><td>--</td><td>--</td><td>--</td><td>--</td><td>--</td><td>--</td><td>--</td><td>--</td><td>--</td><td>--</td><td>--</td><td>--</td><td>--</td><td>--</td><td>--</td><td>--</td><td>--</td><td>--</td><td>204.0674299308931</td><td>1</td></tr>\n",
       "<tr><td>--</td><td>--</td><td>HD10476</td><td>--</td><td>--</td><td>--</td><td>--</td><td>--</td><td>--</td><td>--</td><td>--</td><td>--</td><td>--</td><td>--</td><td>--</td><td>--</td><td>--</td><td>--</td><td>--</td><td>--</td><td>--</td><td>--</td><td>--</td><td>--</td><td>--</td><td>--</td><td>--</td><td>--</td><td>--</td><td>--</td><td>--</td><td>--</td><td>--</td><td>--</td><td>--</td><td>--</td><td>--</td><td>--</td><td>--</td><td>--</td><td>--</td><td>--</td><td>--</td><td>--</td><td>120.5668081318515</td><td>1</td></tr>\n",
       "<tr><td>--</td><td>--</td><td>HD157214</td><td>--</td><td>--</td><td>--</td><td>--</td><td>--</td><td>--</td><td>--</td><td>--</td><td>--</td><td>--</td><td>--</td><td>--</td><td>--</td><td>--</td><td>--</td><td>--</td><td>--</td><td>--</td><td>--</td><td>--</td><td>--</td><td>--</td><td>--</td><td>--</td><td>--</td><td>--</td><td>--</td><td>--</td><td>--</td><td>--</td><td>--</td><td>--</td><td>--</td><td>--</td><td>--</td><td>--</td><td>--</td><td>--</td><td>--</td><td>--</td><td>--</td><td>192.929747039328</td><td>1</td></tr>\n",
       "<tr><td>--</td><td>--</td><td>HD72905</td><td>--</td><td>--</td><td>--</td><td>--</td><td>--</td><td>--</td><td>--</td><td>--</td><td>--</td><td>--</td><td>--</td><td>--</td><td>--</td><td>--</td><td>--</td><td>--</td><td>--</td><td>--</td><td>--</td><td>--</td><td>--</td><td>--</td><td>--</td><td>--</td><td>--</td><td>--</td><td>--</td><td>--</td><td>--</td><td>--</td><td>--</td><td>--</td><td>--</td><td>--</td><td>--</td><td>--</td><td>--</td><td>--</td><td>--</td><td>--</td><td>--</td><td>155.8124566341522</td><td>1</td></tr>\n",
       "<tr><td>--</td><td>--</td><td>HD82885</td><td>--</td><td>--</td><td>--</td><td>--</td><td>--</td><td>--</td><td>--</td><td>--</td><td>--</td><td>--</td><td>--</td><td>--</td><td>--</td><td>--</td><td>--</td><td>--</td><td>--</td><td>--</td><td>--</td><td>--</td><td>--</td><td>--</td><td>--</td><td>--</td><td>--</td><td>--</td><td>--</td><td>--</td><td>--</td><td>--</td><td>--</td><td>--</td><td>--</td><td>--</td><td>--</td><td>--</td><td>--</td><td>--</td><td>--</td><td>--</td><td>--</td><td>193.1870708971247</td><td>1</td></tr>\n",
       "<tr><td>--</td><td>--</td><td>HD86728</td><td>--</td><td>--</td><td>--</td><td>--</td><td>--</td><td>--</td><td>--</td><td>--</td><td>--</td><td>--</td><td>--</td><td>--</td><td>--</td><td>--</td><td>--</td><td>--</td><td>--</td><td>--</td><td>--</td><td>--</td><td>--</td><td>--</td><td>--</td><td>--</td><td>--</td><td>--</td><td>--</td><td>--</td><td>--</td><td>--</td><td>--</td><td>--</td><td>--</td><td>--</td><td>--</td><td>--</td><td>--</td><td>--</td><td>--</td><td>--</td><td>--</td><td>201.3739743508217</td><td>1</td></tr>\n",
       "</table></div>"
      ],
      "text/plain": [
       "<Table length=7>\n",
       "ra_j2000 dec_j2000 primary_name ... spectrum_hermes_snr spectrum_hermes_nobs\n",
       "                                ...                                         \n",
       "float64   float64     str29     ...        str18               int64        \n",
       "-------- --------- ------------ ... ------------------- --------------------\n",
       "      --        --   BD+17_2463 ...   171.8668753821042                    1\n",
       "      --        --     HD101501 ...   204.0674299308931                    1\n",
       "      --        --      HD10476 ...   120.5668081318515                    1\n",
       "      --        --     HD157214 ...    192.929747039328                    1\n",
       "      --        --      HD72905 ...   155.8124566341522                    1\n",
       "      --        --      HD82885 ...   193.1870708971247                    1\n",
       "      --        --      HD86728 ...   201.3739743508217                    1"
      ]
     },
     "execution_count": 299,
     "metadata": {},
     "output_type": "execute_result"
    }
   ],
   "source": [
    "just_hermes = join(table, hermes_table, keys='primary_name', join_type='right')\n",
    "just_hermes[just_hermes['ra_j2000'].mask]"
   ]
  },
  {
   "cell_type": "code",
   "execution_count": 300,
   "metadata": {},
   "outputs": [
    {
     "data": {
      "text/html": [
       "<div><i>Table length=10</i>\n",
       "<table id=\"table140318388794064\" class=\"table-striped table-bordered table-condensed\">\n",
       "<thead><tr><th>ra_j2000</th><th>dec_j2000</th><th>primary_name</th><th>gaiadr2_source_id</th><th>gaiaedr3_source_id</th><th>hip</th><th>hd</th><th>tic</th><th>2mass</th><th>wisea</th><th>ra</th><th>ra_error</th><th>dec</th><th>dec_error</th><th>parallax</th><th>parallax_error</th><th>pmra</th><th>pmra_error</th><th>pmdec</th><th>pmdec_error</th><th>gmag</th><th>bp_rp</th><th>radial_velocity</th><th>radial_velocity_error</th><th>ref_epoch</th><th>gaia_teff</th><th>gaia_teff_lower</th><th>gaia_teff_upper</th><th>gaia_radius</th><th>gaia_radius_lower</th><th>gaia_radius_upper</th><th>gaia_lum</th><th>gaia_lum_lower</th><th>gaia_lum_upper</th><th>spectrum_hires</th><th>spectrum_hires_resolution</th><th>spectrum_hires_nobs</th><th>spectrum_hires_snr</th><th>spectrum_harps</th><th>spectrum_harps_nobs</th><th>spectrum_harps_snr</th><th>spectrum_sophie</th><th>spectrum_sophie_nobs</th><th>spectrum_sophie_snr</th><th>spectrum_hermes_snr</th><th>spectrum_hermes_nobs</th></tr></thead>\n",
       "<thead><tr><th></th><th></th><th></th><th></th><th></th><th></th><th></th><th></th><th></th><th></th><th></th><th></th><th></th><th></th><th></th><th></th><th></th><th></th><th></th><th></th><th></th><th></th><th></th><th></th><th></th><th>K</th><th>K</th><th>K</th><th>solRad</th><th>solRad</th><th>solRad</th><th>solLum</th><th>solLum</th><th>solLum</th><th></th><th></th><th></th><th></th><th></th><th></th><th></th><th></th><th></th><th></th><th></th><th></th></tr></thead>\n",
       "<thead><tr><th>float64</th><th>float64</th><th>str29</th><th>int64</th><th>int64</th><th>int64</th><th>str7</th><th>int64</th><th>str16</th><th>str19</th><th>float64</th><th>float64</th><th>float64</th><th>float64</th><th>float64</th><th>float64</th><th>float64</th><th>float64</th><th>float64</th><th>float64</th><th>float64</th><th>float64</th><th>float64</th><th>float64</th><th>str7</th><th>float32</th><th>float32</th><th>float32</th><th>float32</th><th>float32</th><th>float32</th><th>float32</th><th>float32</th><th>float32</th><th>str29</th><th>float64</th><th>int64</th><th>float64</th><th>str29</th><th>int64</th><th>float64</th><th>str29</th><th>int64</th><th>float64</th><th>str18</th><th>int64</th></tr></thead>\n",
       "<tr><td>--</td><td>--</td><td>BD+17_2463</td><td>--</td><td>--</td><td>--</td><td>--</td><td>--</td><td>--</td><td>--</td><td>--</td><td>--</td><td>--</td><td>--</td><td>--</td><td>--</td><td>--</td><td>--</td><td>--</td><td>--</td><td>--</td><td>--</td><td>--</td><td>--</td><td>--</td><td>--</td><td>--</td><td>--</td><td>--</td><td>--</td><td>--</td><td>--</td><td>--</td><td>--</td><td>--</td><td>--</td><td>--</td><td>--</td><td>--</td><td>--</td><td>--</td><td>--</td><td>--</td><td>--</td><td>171.8668753821042</td><td>1</td></tr>\n",
       "<tr><td>174.1487189852519</td><td>56.1353543141282</td><td>HD100831A</td><td>844865117036623232</td><td>844865117036623232</td><td>56622</td><td>100831A</td><td>137729151</td><td>11363571+5608074</td><td>J113635.47+560806.2</td><td>174.1472877129</td><td>0.0108</td><td>56.13494946936</td><td>0.0121</td><td>21.1416</td><td>0.0165</td><td>-179.449</td><td>0.014</td><td>-91.092</td><td>0.016</td><td>7.555699</td><td>0.801509</td><td>-15.8</td><td>0.19</td><td>J2016.0</td><td>5813.0</td><td>5757.0</td><td>5875.0</td><td>1.2488316</td><td>1.2226124</td><td>1.2732453</td><td>1.6043674</td><td>1.600464</td><td>1.6082708</td><td></td><td>--</td><td>--</td><td>--</td><td></td><td>--</td><td>--</td><td></td><td>--</td><td>--</td><td>124.6904974628892</td><td>1</td></tr>\n",
       "<tr><td>--</td><td>--</td><td>HD101501</td><td>--</td><td>--</td><td>--</td><td>--</td><td>--</td><td>--</td><td>--</td><td>--</td><td>--</td><td>--</td><td>--</td><td>--</td><td>--</td><td>--</td><td>--</td><td>--</td><td>--</td><td>--</td><td>--</td><td>--</td><td>--</td><td>--</td><td>--</td><td>--</td><td>--</td><td>--</td><td>--</td><td>--</td><td>--</td><td>--</td><td>--</td><td>--</td><td>--</td><td>--</td><td>--</td><td>--</td><td>--</td><td>--</td><td>--</td><td>--</td><td>--</td><td>204.0674299308931</td><td>1</td></tr>\n",
       "<tr><td>176.4532410527907</td><td>6.9426191565085</td><td>HD102211</td><td>3909855690445677696</td><td>3909855690445677696</td><td>57378</td><td>102211</td><td>396936263</td><td>11454877+0656335</td><td>J114548.68+065633.6</td><td>176.45265359911</td><td>0.0243</td><td>6.94266722055</td><td>0.0192</td><td>15.5794</td><td>0.029</td><td>-131.208</td><td>0.028</td><td>10.814</td><td>0.023</td><td>7.580417</td><td>0.60091</td><td>-15.84</td><td>0.29</td><td>J2016.0</td><td>6264.85</td><td>6144.1</td><td>6482.0</td><td>1.431613</td><td>1.3373003</td><td>1.4884369</td><td>2.844387</td><td>2.8292606</td><td>2.8595135</td><td></td><td>--</td><td>--</td><td>--</td><td></td><td>--</td><td>--</td><td></td><td>--</td><td>--</td><td>161.3455547566396</td><td>1</td></tr>\n",
       "<tr><td>--</td><td>--</td><td>HD10476</td><td>--</td><td>--</td><td>--</td><td>--</td><td>--</td><td>--</td><td>--</td><td>--</td><td>--</td><td>--</td><td>--</td><td>--</td><td>--</td><td>--</td><td>--</td><td>--</td><td>--</td><td>--</td><td>--</td><td>--</td><td>--</td><td>--</td><td>--</td><td>--</td><td>--</td><td>--</td><td>--</td><td>--</td><td>--</td><td>--</td><td>--</td><td>--</td><td>--</td><td>--</td><td>--</td><td>--</td><td>--</td><td>--</td><td>--</td><td>--</td><td>--</td><td>120.5668081318515</td><td>1</td></tr>\n",
       "<tr><td>181.5246349942624</td><td>49.1584234653053</td><td>HD105123</td><td>1546708987054162560</td><td>1546708987054162560</td><td>59024</td><td>105123</td><td>53551449</td><td>12060594+4909303</td><td>J120605.77+490930.3</td><td>181.52377057058</td><td>0.009</td><td>49.15845341494</td><td>0.0114</td><td>17.2377</td><td>0.0176</td><td>-127.194</td><td>0.01</td><td>6.738</td><td>0.013</td><td>7.584469</td><td>0.645386</td><td>2.06</td><td>0.19</td><td>J2016.0</td><td>6336.6665</td><td>6249.0</td><td>6475.3003</td><td>1.2681192</td><td>1.2144005</td><td>1.3039494</td><td>2.3359218</td><td>2.328396</td><td>2.3434474</td><td></td><td>--</td><td>--</td><td>--</td><td></td><td>--</td><td>--</td><td></td><td>--</td><td>--</td><td>177.5860020323029</td><td>1</td></tr>\n",
       "<tr><td>185.5714579938443</td><td>3.2976961550299</td><td>HD107658</td><td>3701522323158628608</td><td>3701522323158628608</td><td>60337</td><td>107658</td><td>377189813</td><td>12221716+0317515</td><td>J122217.05+031751.9</td><td>185.57081704943</td><td>0.0256</td><td>3.29775265995</td><td>0.0181</td><td>15.5122</td><td>0.0283</td><td>-143.974</td><td>0.032</td><td>12.714</td><td>0.025</td><td>7.879244</td><td>0.647258</td><td>-14.54</td><td>0.2</td><td>J2016.0</td><td>6281.0</td><td>6064.4</td><td>6424.5</td><td>1.244863</td><td>1.1898727</td><td>1.3353758</td><td>2.1729667</td><td>2.161794</td><td>2.1841395</td><td></td><td>--</td><td>--</td><td>--</td><td></td><td>--</td><td>--</td><td></td><td>--</td><td>--</td><td>118.4409781823015</td><td>1</td></tr>\n",
       "<tr><td>26.936810149498</td><td>63.8525030572972</td><td>HD10780</td><td>512167948043650816</td><td>512167948043650816</td><td>8362</td><td>10780</td><td>373694425</td><td>01474488+6351090</td><td>J014745.79+635108.1</td><td>26.94267663258</td><td>0.0255</td><td>63.85140778825</td><td>0.029</td><td>99.5902</td><td>0.0438</td><td>581.684</td><td>0.032</td><td>-246.462</td><td>0.037</td><td>5.410397</td><td>0.971028</td><td>2.67</td><td>0.13</td><td>J2016.0</td><td>5350.0</td><td>5304.0</td><td>5783.5</td><td>0.86252683</td><td>0.7380719</td><td>0.87755257</td><td>0.5491046</td><td>0.54837245</td><td>0.5498367</td><td>true</td><td>71600.0</td><td>1</td><td>100.0</td><td></td><td>--</td><td>--</td><td>true</td><td>38</td><td>398.9</td><td>190.5318404412456</td><td>1</td></tr>\n",
       "<tr><td>187.481394425115</td><td>24.3385160022885</td><td>HD108807</td><td>3959954559808234368</td><td>3959954559808234368</td><td>60976</td><td>108807</td><td>328978480</td><td>12295553+2420185</td><td>J122955.49+242018.3</td><td>187.48111438513</td><td>0.0222</td><td>24.33836659317</td><td>0.0222</td><td>14.6619</td><td>0.0297</td><td>-57.409</td><td>0.027</td><td>-33.617</td><td>0.031</td><td>7.762398</td><td>0.603546</td><td>0.19</td><td>0.27</td><td>J2016.0</td><td>6310.945</td><td>6220.175</td><td>6485.0</td><td>1.3680562</td><td>1.2956054</td><td>1.4082752</td><td>2.674731</td><td>2.662412</td><td>2.68705</td><td></td><td>--</td><td>--</td><td>--</td><td></td><td>--</td><td>--</td><td></td><td>--</td><td>--</td><td>144.4033302216194</td><td>1</td></tr>\n",
       "<tr><td>187.5521481482242</td><td>39.2470928707327</td><td>HD108846</td><td>1532059472079123200</td><td>1532059472079123200</td><td>61010</td><td>108846</td><td>376688490</td><td>12301250+3914495</td><td>J123012.40+391448.2</td><td>187.55144332596</td><td>0.0166</td><td>39.2465980476</td><td>0.0159</td><td>15.5843</td><td>0.0227</td><td>-122.812</td><td>0.017</td><td>-111.336</td><td>0.021</td><td>7.549521</td><td>0.612113</td><td>0.09</td><td>0.21</td><td>J2016.0</td><td>6371.7</td><td>6262.0</td><td>6531.12</td><td>1.4096812</td><td>1.3417025</td><td>1.4595045</td><td>2.9509227</td><td>2.9326699</td><td>2.9691756</td><td></td><td>--</td><td>--</td><td>--</td><td></td><td>--</td><td>--</td><td></td><td>--</td><td>--</td><td>166.3288117965583</td><td>1</td></tr>\n",
       "</table></div>"
      ],
      "text/plain": [
       "<Table length=10>\n",
       "     ra_j2000        dec_j2000     ... spectrum_hermes_snr spectrum_hermes_nobs\n",
       "                                   ...                                         \n",
       "     float64          float64      ...        str18               int64        \n",
       "----------------- ---------------- ... ------------------- --------------------\n",
       "               --               -- ...   171.8668753821042                    1\n",
       "174.1487189852519 56.1353543141282 ...   124.6904974628892                    1\n",
       "               --               -- ...   204.0674299308931                    1\n",
       "176.4532410527907  6.9426191565085 ...   161.3455547566396                    1\n",
       "               --               -- ...   120.5668081318515                    1\n",
       "181.5246349942624 49.1584234653053 ...   177.5860020323029                    1\n",
       "185.5714579938443  3.2976961550299 ...   118.4409781823015                    1\n",
       "  26.936810149498 63.8525030572972 ...   190.5318404412456                    1\n",
       " 187.481394425115 24.3385160022885 ...   144.4033302216194                    1\n",
       "187.5521481482242 39.2470928707327 ...   166.3288117965583                    1"
      ]
     },
     "execution_count": 300,
     "metadata": {},
     "output_type": "execute_result"
    }
   ],
   "source": [
    "just_hermes[0:10]"
   ]
  },
  {
   "cell_type": "code",
   "execution_count": 301,
   "metadata": {},
   "outputs": [],
   "source": [
    "# correct the primary name on bad matches:\n",
    "hermes_table['primary_name'][hermes_table['primary_name'] == 'BD+17_2463'] = 'Gaia EDR3 3946449911319493504'\n",
    "hermes_table['primary_name'][hermes_table['primary_name'] == 'HD101501'] = '61 UMa'\n",
    "hermes_table['primary_name'][hermes_table['primary_name'] == 'HD10476'] = '2 Ari'\n",
    "hermes_table['primary_name'][hermes_table['primary_name'] == 'HD157214'] = '72 Her'\n",
    "hermes_table['primary_name'][hermes_table['primary_name'] == 'HD72905'] = 'pi.01 UMa'\n",
    "hermes_table['primary_name'][hermes_table['primary_name'] == 'HD82885'] = '11 LMi'\n",
    "hermes_table['primary_name'][hermes_table['primary_name'] == 'HD86728'] = '20 LMi'"
   ]
  },
  {
   "cell_type": "code",
   "execution_count": 302,
   "metadata": {},
   "outputs": [
    {
     "data": {
      "text/html": [
       "<div><i>Table length=10</i>\n",
       "<table id=\"table140318371021008\" class=\"table-striped table-bordered table-condensed\">\n",
       "<thead><tr><th>ra_j2000</th><th>dec_j2000</th><th>primary_name</th><th>gaiadr2_source_id</th><th>gaiaedr3_source_id</th><th>hip</th><th>hd</th><th>tic</th><th>2mass</th><th>wisea</th><th>ra</th><th>ra_error</th><th>dec</th><th>dec_error</th><th>parallax</th><th>parallax_error</th><th>pmra</th><th>pmra_error</th><th>pmdec</th><th>pmdec_error</th><th>gmag</th><th>bp_rp</th><th>radial_velocity</th><th>radial_velocity_error</th><th>ref_epoch</th><th>gaia_teff</th><th>gaia_teff_lower</th><th>gaia_teff_upper</th><th>gaia_radius</th><th>gaia_radius_lower</th><th>gaia_radius_upper</th><th>gaia_lum</th><th>gaia_lum_lower</th><th>gaia_lum_upper</th><th>spectrum_hires</th><th>spectrum_hires_resolution</th><th>spectrum_hires_nobs</th><th>spectrum_hires_snr</th><th>spectrum_harps</th><th>spectrum_harps_nobs</th><th>spectrum_harps_snr</th><th>spectrum_sophie</th><th>spectrum_sophie_nobs</th><th>spectrum_sophie_snr</th><th>spectrum_hermes_snr</th><th>spectrum_hermes_nobs</th></tr></thead>\n",
       "<thead><tr><th></th><th></th><th></th><th></th><th></th><th></th><th></th><th></th><th></th><th></th><th></th><th></th><th></th><th></th><th></th><th></th><th></th><th></th><th></th><th></th><th></th><th></th><th></th><th></th><th></th><th>K</th><th>K</th><th>K</th><th>solRad</th><th>solRad</th><th>solRad</th><th>solLum</th><th>solLum</th><th>solLum</th><th></th><th></th><th></th><th></th><th></th><th></th><th></th><th></th><th></th><th></th><th></th><th></th></tr></thead>\n",
       "<thead><tr><th>float64</th><th>float64</th><th>str29</th><th>int64</th><th>int64</th><th>int64</th><th>str7</th><th>int64</th><th>str16</th><th>str19</th><th>float64</th><th>float64</th><th>float64</th><th>float64</th><th>float64</th><th>float64</th><th>float64</th><th>float64</th><th>float64</th><th>float64</th><th>float64</th><th>float64</th><th>float64</th><th>float64</th><th>str7</th><th>float32</th><th>float32</th><th>float32</th><th>float32</th><th>float32</th><th>float32</th><th>float32</th><th>float32</th><th>float32</th><th>str29</th><th>float64</th><th>int64</th><th>float64</th><th>str29</th><th>int64</th><th>float64</th><th>str29</th><th>int64</th><th>float64</th><th>str18</th><th>int64</th></tr></thead>\n",
       "<tr><td>143.9145924739025</td><td>35.8101325142152</td><td>11 LMi</td><td>798068905726303232</td><td>798068905726303232</td><td>47080</td><td>82885</td><td>8915802</td><td>09353959+3548366</td><td>J093538.92+354834.4</td><td>143.91061083593</td><td>0.0692</td><td>35.80898121341</td><td>0.0601</td><td>89.0092</td><td>0.0937</td><td>-726.514</td><td>0.07</td><td>-259.057</td><td>0.062</td><td>5.200431</td><td>0.934127</td><td>14.39</td><td>0.17</td><td>J2016.0</td><td>5661.0</td><td>5488.0</td><td>6794.75</td><td>0.93610704</td><td>0.64977777</td><td>0.99605566</td><td>0.8108086</td><td>0.8083409</td><td>0.8132763</td><td>true</td><td>71600.0</td><td>1</td><td>95.0</td><td></td><td>--</td><td>--</td><td></td><td>--</td><td>--</td><td>193.1870708971247</td><td>1</td></tr>\n",
       "<tr><td>25.6240105213668</td><td>20.2685126826973</td><td>2 Ari</td><td>96331172942614528</td><td>96331172942614528</td><td>7981</td><td>10476</td><td>113710966</td><td>01422977+2016073</td><td>J014229.55+201559.7</td><td>25.62258568628</td><td>0.1209</td><td>20.26551918226</td><td>0.0906</td><td>130.8234</td><td>0.1532</td><td>-300.737</td><td>0.137</td><td>-673.539</td><td>0.106</td><td>4.99968</td><td>1.022485</td><td>-33.58</td><td>0.17</td><td>J2016.0</td><td>5489.3335</td><td>5063.5</td><td>6576.0</td><td>0.74435675</td><td>0.5186767</td><td>0.87482005</td><td>0.45324752</td><td>0.45170915</td><td>0.45478588</td><td>true</td><td>102700.0</td><td>5</td><td>315.2919282189127</td><td></td><td>--</td><td>--</td><td></td><td>--</td><td>--</td><td>120.5668081318515</td><td>1</td></tr>\n",
       "<tr><td>150.2527369843307</td><td>31.9236702818993</td><td>20 LMi</td><td>746545172372256384</td><td>746545172372256384</td><td>49081</td><td>86728</td><td>172954294</td><td>10010072+3155262</td><td>J100100.21+315520.6</td><td>150.24996758591</td><td>0.0697</td><td>31.92176197568</td><td>0.0648</td><td>66.9958</td><td>0.0921</td><td>-528.871</td><td>0.092</td><td>-429.376</td><td>0.074</td><td>5.204957</td><td>0.840548</td><td>56.01</td><td>0.17</td><td>J2016.0</td><td>5832.0</td><td>5625.0</td><td>6082.75</td><td>1.1615477</td><td>1.0677563</td><td>1.2486106</td><td>1.4061733</td><td>1.4004412</td><td>1.4119055</td><td>true</td><td>71600.0</td><td>4</td><td>116.17658972443631</td><td></td><td>--</td><td>--</td><td></td><td>--</td><td>--</td><td>201.3739743508217</td><td>1</td></tr>\n",
       "<tr><td>175.2625677942549</td><td>34.2016337792914</td><td>61 UMa</td><td>4025850731201819392</td><td>4025850731201819392</td><td>56997</td><td>101501</td><td>101641846</td><td>11410301+3412064</td><td>J114103.01+341201.9</td><td>175.26250050618</td><td>0.0681</td><td>34.19993957544</td><td>0.0986</td><td>104.4252</td><td>0.1005</td><td>-12.522</td><td>0.088</td><td>-381.196</td><td>0.142</td><td>5.110995</td><td>0.906035</td><td>-5.6</td><td>0.41</td><td>J2016.0</td><td>5573.6665</td><td>5488.0</td><td>5787.0</td><td>0.8599333</td><td>0.79770035</td><td>0.88698965</td><td>0.6429663</td><td>0.6413257</td><td>0.6446068</td><td>true</td><td>71600.0</td><td>1</td><td>84.0</td><td></td><td>--</td><td>--</td><td></td><td>--</td><td>--</td><td>204.0674299308931</td><td>1</td></tr>\n",
       "<tr><td>260.1648643743331</td><td>32.4677438774612</td><td>72 Her</td><td>1333760419707327744</td><td>1333760419707327744</td><td>84862</td><td>157214</td><td>9728611</td><td>17203955+3228056</td><td>J172039.69+322753.3</td><td>260.16557980211</td><td>0.0427</td><td>32.46311742251</td><td>0.0461</td><td>68.5575</td><td>0.0553</td><td>135.81</td><td>0.058</td><td>-1040.953</td><td>0.054</td><td>5.209875</td><td>0.820611</td><td>-78.43</td><td>0.16</td><td>J2016.0</td><td>5830.0</td><td>5734.6665</td><td>6022.25</td><td>1.1306806</td><td>1.0596427</td><td>1.168586</td><td>1.3306038</td><td>1.327499</td><td>1.3337086</td><td>true</td><td>102700.0</td><td>5</td><td>193.67240381634136</td><td></td><td>--</td><td>--</td><td></td><td>--</td><td>--</td><td>192.929747039328</td><td>1</td></tr>\n",
       "<tr><td>184.9548648891468</td><td>16.8085244139832</td><td>Gaia EDR3 3946449911319493504</td><td>3946449911319493504</td><td>3946449911319493504</td><td>--</td><td>--</td><td>72416873</td><td>12194916+1648308</td><td>J121949.18+164829.2</td><td>184.95493702648</td><td>0.0225</td><td>16.8079021021</td><td>0.019</td><td>18.3528</td><td>0.0266</td><td>15.537</td><td>0.03</td><td>-140.02</td><td>0.024</td><td>7.742777</td><td>0.831325</td><td>22.13</td><td>0.15</td><td>J2016.0</td><td>5740.5</td><td>5690.0</td><td>5802.3335</td><td>1.363087</td><td>1.3341899</td><td>1.3873898</td><td>1.8177776</td><td>1.8103718</td><td>1.8251835</td><td></td><td>--</td><td>--</td><td>--</td><td></td><td>--</td><td>--</td><td></td><td>--</td><td>--</td><td>171.8668753821042</td><td>1</td></tr>\n",
       "<tr><td>174.1487189852519</td><td>56.1353543141282</td><td>HD100831A</td><td>844865117036623232</td><td>844865117036623232</td><td>56622</td><td>100831A</td><td>137729151</td><td>11363571+5608074</td><td>J113635.47+560806.2</td><td>174.1472877129</td><td>0.0108</td><td>56.13494946936</td><td>0.0121</td><td>21.1416</td><td>0.0165</td><td>-179.449</td><td>0.014</td><td>-91.092</td><td>0.016</td><td>7.555699</td><td>0.801509</td><td>-15.8</td><td>0.19</td><td>J2016.0</td><td>5813.0</td><td>5757.0</td><td>5875.0</td><td>1.2488316</td><td>1.2226124</td><td>1.2732453</td><td>1.6043674</td><td>1.600464</td><td>1.6082708</td><td></td><td>--</td><td>--</td><td>--</td><td></td><td>--</td><td>--</td><td></td><td>--</td><td>--</td><td>124.6904974628892</td><td>1</td></tr>\n",
       "<tr><td>176.4532410527907</td><td>6.9426191565085</td><td>HD102211</td><td>3909855690445677696</td><td>3909855690445677696</td><td>57378</td><td>102211</td><td>396936263</td><td>11454877+0656335</td><td>J114548.68+065633.6</td><td>176.45265359911</td><td>0.0243</td><td>6.94266722055</td><td>0.0192</td><td>15.5794</td><td>0.029</td><td>-131.208</td><td>0.028</td><td>10.814</td><td>0.023</td><td>7.580417</td><td>0.60091</td><td>-15.84</td><td>0.29</td><td>J2016.0</td><td>6264.85</td><td>6144.1</td><td>6482.0</td><td>1.431613</td><td>1.3373003</td><td>1.4884369</td><td>2.844387</td><td>2.8292606</td><td>2.8595135</td><td></td><td>--</td><td>--</td><td>--</td><td></td><td>--</td><td>--</td><td></td><td>--</td><td>--</td><td>161.3455547566396</td><td>1</td></tr>\n",
       "<tr><td>181.5246349942624</td><td>49.1584234653053</td><td>HD105123</td><td>1546708987054162560</td><td>1546708987054162560</td><td>59024</td><td>105123</td><td>53551449</td><td>12060594+4909303</td><td>J120605.77+490930.3</td><td>181.52377057058</td><td>0.009</td><td>49.15845341494</td><td>0.0114</td><td>17.2377</td><td>0.0176</td><td>-127.194</td><td>0.01</td><td>6.738</td><td>0.013</td><td>7.584469</td><td>0.645386</td><td>2.06</td><td>0.19</td><td>J2016.0</td><td>6336.6665</td><td>6249.0</td><td>6475.3003</td><td>1.2681192</td><td>1.2144005</td><td>1.3039494</td><td>2.3359218</td><td>2.328396</td><td>2.3434474</td><td></td><td>--</td><td>--</td><td>--</td><td></td><td>--</td><td>--</td><td></td><td>--</td><td>--</td><td>177.5860020323029</td><td>1</td></tr>\n",
       "<tr><td>185.5714579938443</td><td>3.2976961550299</td><td>HD107658</td><td>3701522323158628608</td><td>3701522323158628608</td><td>60337</td><td>107658</td><td>377189813</td><td>12221716+0317515</td><td>J122217.05+031751.9</td><td>185.57081704943</td><td>0.0256</td><td>3.29775265995</td><td>0.0181</td><td>15.5122</td><td>0.0283</td><td>-143.974</td><td>0.032</td><td>12.714</td><td>0.025</td><td>7.879244</td><td>0.647258</td><td>-14.54</td><td>0.2</td><td>J2016.0</td><td>6281.0</td><td>6064.4</td><td>6424.5</td><td>1.244863</td><td>1.1898727</td><td>1.3353758</td><td>2.1729667</td><td>2.161794</td><td>2.1841395</td><td></td><td>--</td><td>--</td><td>--</td><td></td><td>--</td><td>--</td><td></td><td>--</td><td>--</td><td>118.4409781823015</td><td>1</td></tr>\n",
       "</table></div>"
      ],
      "text/plain": [
       "<Table length=10>\n",
       "     ra_j2000        dec_j2000     ... spectrum_hermes_snr spectrum_hermes_nobs\n",
       "                                   ...                                         \n",
       "     float64          float64      ...        str18               int64        \n",
       "----------------- ---------------- ... ------------------- --------------------\n",
       "143.9145924739025 35.8101325142152 ...   193.1870708971247                    1\n",
       " 25.6240105213668 20.2685126826973 ...   120.5668081318515                    1\n",
       "150.2527369843307 31.9236702818993 ...   201.3739743508217                    1\n",
       "175.2625677942549 34.2016337792914 ...   204.0674299308931                    1\n",
       "260.1648643743331 32.4677438774612 ...    192.929747039328                    1\n",
       "184.9548648891468 16.8085244139832 ...   171.8668753821042                    1\n",
       "174.1487189852519 56.1353543141282 ...   124.6904974628892                    1\n",
       "176.4532410527907  6.9426191565085 ...   161.3455547566396                    1\n",
       "181.5246349942624 49.1584234653053 ...   177.5860020323029                    1\n",
       "185.5714579938443  3.2976961550299 ...   118.4409781823015                    1"
      ]
     },
     "execution_count": 302,
     "metadata": {},
     "output_type": "execute_result"
    }
   ],
   "source": [
    "just_hermes = join(table, hermes_table, keys='primary_name', join_type='right')\n",
    "just_hermes[0:10]"
   ]
  },
  {
   "cell_type": "code",
   "execution_count": 303,
   "metadata": {},
   "outputs": [],
   "source": [
    "table.add_column(Column(name='spectrum_hermes', dtype='<U29', length=len(table)))\n",
    "table_with_hermes = join(table, hermes_table, keys='primary_name', join_type='left')"
   ]
  },
  {
   "cell_type": "code",
   "execution_count": 304,
   "metadata": {},
   "outputs": [],
   "source": [
    "table_with_hermes['spectrum_hermes_nobs'].fill_value = 0\n",
    "table_with_hermes['spectrum_hermes_snr'].fill_value = 0."
   ]
  },
  {
   "cell_type": "code",
   "execution_count": 305,
   "metadata": {},
   "outputs": [],
   "source": [
    "table_with_hermes['spectrum_hermes'][(table_with_hermes['spectrum_hermes_nobs'] > 0) \n",
    "                                   & ~(table_with_hermes['spectrum_hermes_nobs'].mask)] = 'true'"
   ]
  },
  {
   "cell_type": "code",
   "execution_count": 306,
   "metadata": {},
   "outputs": [
    {
     "data": {
      "text/html": [
       "<div><i>Table length=1</i>\n",
       "<table id=\"table140318371023760\" class=\"table-striped table-bordered table-condensed\">\n",
       "<thead><tr><th>ra_j2000</th><th>dec_j2000</th><th>primary_name</th><th>gaiadr2_source_id</th><th>gaiaedr3_source_id</th><th>hip</th><th>hd</th><th>tic</th><th>2mass</th><th>wisea</th><th>ra</th><th>ra_error</th><th>dec</th><th>dec_error</th><th>parallax</th><th>parallax_error</th><th>pmra</th><th>pmra_error</th><th>pmdec</th><th>pmdec_error</th><th>gmag</th><th>bp_rp</th><th>radial_velocity</th><th>radial_velocity_error</th><th>ref_epoch</th><th>gaia_teff</th><th>gaia_teff_lower</th><th>gaia_teff_upper</th><th>gaia_radius</th><th>gaia_radius_lower</th><th>gaia_radius_upper</th><th>gaia_lum</th><th>gaia_lum_lower</th><th>gaia_lum_upper</th><th>spectrum_hires</th><th>spectrum_hires_resolution</th><th>spectrum_hires_nobs</th><th>spectrum_hires_snr</th><th>spectrum_harps</th><th>spectrum_harps_nobs</th><th>spectrum_harps_snr</th><th>spectrum_sophie</th><th>spectrum_sophie_nobs</th><th>spectrum_sophie_snr</th><th>spectrum_hermes</th><th>spectrum_hermes_snr</th><th>spectrum_hermes_nobs</th></tr></thead>\n",
       "<thead><tr><th></th><th></th><th></th><th></th><th></th><th></th><th></th><th></th><th></th><th></th><th></th><th></th><th></th><th></th><th></th><th></th><th></th><th></th><th></th><th></th><th></th><th></th><th></th><th></th><th></th><th>K</th><th>K</th><th>K</th><th>solRad</th><th>solRad</th><th>solRad</th><th>solLum</th><th>solLum</th><th>solLum</th><th></th><th></th><th></th><th></th><th></th><th></th><th></th><th></th><th></th><th></th><th></th><th></th><th></th></tr></thead>\n",
       "<thead><tr><th>float64</th><th>float64</th><th>str29</th><th>int64</th><th>int64</th><th>int64</th><th>str7</th><th>int64</th><th>str16</th><th>str19</th><th>float64</th><th>float64</th><th>float64</th><th>float64</th><th>float64</th><th>float64</th><th>float64</th><th>float64</th><th>float64</th><th>float64</th><th>float64</th><th>float64</th><th>float64</th><th>float64</th><th>str7</th><th>float32</th><th>float32</th><th>float32</th><th>float32</th><th>float32</th><th>float32</th><th>float32</th><th>float32</th><th>float32</th><th>str29</th><th>float64</th><th>int64</th><th>float64</th><th>str29</th><th>int64</th><th>float64</th><th>str29</th><th>int64</th><th>float64</th><th>str29</th><th>str18</th><th>int64</th></tr></thead>\n",
       "<tr><td>150.2527369843307</td><td>31.9236702818993</td><td>20 LMi</td><td>746545172372256384</td><td>746545172372256384</td><td>49081</td><td>86728</td><td>172954294</td><td>10010072+3155262</td><td>J100100.21+315520.6</td><td>150.24996758591</td><td>0.0697</td><td>31.92176197568</td><td>0.0648</td><td>66.9958</td><td>0.0921</td><td>-528.871</td><td>0.092</td><td>-429.376</td><td>0.074</td><td>5.204957</td><td>0.840548</td><td>56.01</td><td>0.17</td><td>J2016.0</td><td>5832.0</td><td>5625.0</td><td>6082.75</td><td>1.1615477</td><td>1.0677563</td><td>1.2486106</td><td>1.4061733</td><td>1.4004412</td><td>1.4119055</td><td>true</td><td>71600.0</td><td>4</td><td>116.17658972443631</td><td></td><td>--</td><td>--</td><td></td><td>--</td><td>--</td><td>true</td><td>201.3739743508217</td><td>1</td></tr>\n",
       "</table></div>"
      ],
      "text/plain": [
       "<Table length=1>\n",
       "     ra_j2000        dec_j2000     ... spectrum_hermes_snr spectrum_hermes_nobs\n",
       "                                   ...                                         \n",
       "     float64          float64      ...        str18               int64        \n",
       "----------------- ---------------- ... ------------------- --------------------\n",
       "150.2527369843307 31.9236702818993 ...   201.3739743508217                    1"
      ]
     },
     "execution_count": 306,
     "metadata": {},
     "output_type": "execute_result"
    }
   ],
   "source": [
    "table_with_hermes[table_with_hermes['hd']  == '86728']"
   ]
  },
  {
   "cell_type": "code",
   "execution_count": 307,
   "metadata": {},
   "outputs": [
    {
     "data": {
      "text/html": [
       "<div><i>Table length=53</i>\n",
       "<table id=\"table140317972015952\" class=\"table-striped table-bordered table-condensed\">\n",
       "<thead><tr><th>ra_j2000</th><th>dec_j2000</th><th>primary_name</th><th>gaiadr2_source_id</th><th>gaiaedr3_source_id</th><th>hip</th><th>hd</th><th>tic</th><th>2mass</th><th>wisea</th><th>ra</th><th>ra_error</th><th>dec</th><th>dec_error</th><th>parallax</th><th>parallax_error</th><th>pmra</th><th>pmra_error</th><th>pmdec</th><th>pmdec_error</th><th>gmag</th><th>bp_rp</th><th>radial_velocity</th><th>radial_velocity_error</th><th>ref_epoch</th><th>gaia_teff</th><th>gaia_teff_lower</th><th>gaia_teff_upper</th><th>gaia_radius</th><th>gaia_radius_lower</th><th>gaia_radius_upper</th><th>gaia_lum</th><th>gaia_lum_lower</th><th>gaia_lum_upper</th><th>spectrum_hires</th><th>spectrum_hires_resolution</th><th>spectrum_hires_nobs</th><th>spectrum_hires_snr</th><th>spectrum_harps</th><th>spectrum_harps_nobs</th><th>spectrum_harps_snr</th><th>spectrum_sophie</th><th>spectrum_sophie_nobs</th><th>spectrum_sophie_snr</th><th>spectrum_hermes</th><th>spectrum_hermes_snr</th><th>spectrum_hermes_nobs</th></tr></thead>\n",
       "<thead><tr><th></th><th></th><th></th><th></th><th></th><th></th><th></th><th></th><th></th><th></th><th></th><th></th><th></th><th></th><th></th><th></th><th></th><th></th><th></th><th></th><th></th><th></th><th></th><th></th><th></th><th>K</th><th>K</th><th>K</th><th>solRad</th><th>solRad</th><th>solRad</th><th>solLum</th><th>solLum</th><th>solLum</th><th></th><th></th><th></th><th></th><th></th><th></th><th></th><th></th><th></th><th></th><th></th><th></th><th></th></tr></thead>\n",
       "<thead><tr><th>float64</th><th>float64</th><th>str29</th><th>int64</th><th>int64</th><th>int64</th><th>str7</th><th>int64</th><th>str16</th><th>str19</th><th>float64</th><th>float64</th><th>float64</th><th>float64</th><th>float64</th><th>float64</th><th>float64</th><th>float64</th><th>float64</th><th>float64</th><th>float64</th><th>float64</th><th>float64</th><th>float64</th><th>str7</th><th>float32</th><th>float32</th><th>float32</th><th>float32</th><th>float32</th><th>float32</th><th>float32</th><th>float32</th><th>float32</th><th>str29</th><th>float64</th><th>int64</th><th>float64</th><th>str29</th><th>int64</th><th>float64</th><th>str29</th><th>int64</th><th>float64</th><th>str29</th><th>str18</th><th>int64</th></tr></thead>\n",
       "<tr><td>143.9145924739025</td><td>35.8101325142152</td><td>11 LMi</td><td>798068905726303232</td><td>798068905726303232</td><td>47080</td><td>82885</td><td>8915802</td><td>09353959+3548366</td><td>J093538.92+354834.4</td><td>143.91061083593</td><td>0.0692</td><td>35.80898121341</td><td>0.0601</td><td>89.0092</td><td>0.0937</td><td>-726.514</td><td>0.07</td><td>-259.057</td><td>0.062</td><td>5.200431</td><td>0.934127</td><td>14.39</td><td>0.17</td><td>J2016.0</td><td>5661.0</td><td>5488.0</td><td>6794.75</td><td>0.93610704</td><td>0.64977777</td><td>0.99605566</td><td>0.8108086</td><td>0.8083409</td><td>0.8132763</td><td>true</td><td>71600.0</td><td>1</td><td>95.0</td><td></td><td>--</td><td>--</td><td></td><td>--</td><td>--</td><td>true</td><td>193.1870708971247</td><td>1</td></tr>\n",
       "<tr><td>25.6240105213668</td><td>20.2685126826973</td><td>2 Ari</td><td>96331172942614528</td><td>96331172942614528</td><td>7981</td><td>10476</td><td>113710966</td><td>01422977+2016073</td><td>J014229.55+201559.7</td><td>25.62258568628</td><td>0.1209</td><td>20.26551918226</td><td>0.0906</td><td>130.8234</td><td>0.1532</td><td>-300.737</td><td>0.137</td><td>-673.539</td><td>0.106</td><td>4.99968</td><td>1.022485</td><td>-33.58</td><td>0.17</td><td>J2016.0</td><td>5489.3335</td><td>5063.5</td><td>6576.0</td><td>0.74435675</td><td>0.5186767</td><td>0.87482005</td><td>0.45324752</td><td>0.45170915</td><td>0.45478588</td><td>true</td><td>102700.0</td><td>5</td><td>315.2919282189127</td><td></td><td>--</td><td>--</td><td></td><td>--</td><td>--</td><td>true</td><td>120.5668081318515</td><td>1</td></tr>\n",
       "<tr><td>150.2527369843307</td><td>31.9236702818993</td><td>20 LMi</td><td>746545172372256384</td><td>746545172372256384</td><td>49081</td><td>86728</td><td>172954294</td><td>10010072+3155262</td><td>J100100.21+315520.6</td><td>150.24996758591</td><td>0.0697</td><td>31.92176197568</td><td>0.0648</td><td>66.9958</td><td>0.0921</td><td>-528.871</td><td>0.092</td><td>-429.376</td><td>0.074</td><td>5.204957</td><td>0.840548</td><td>56.01</td><td>0.17</td><td>J2016.0</td><td>5832.0</td><td>5625.0</td><td>6082.75</td><td>1.1615477</td><td>1.0677563</td><td>1.2486106</td><td>1.4061733</td><td>1.4004412</td><td>1.4119055</td><td>true</td><td>71600.0</td><td>4</td><td>116.17658972443631</td><td></td><td>--</td><td>--</td><td></td><td>--</td><td>--</td><td>true</td><td>201.3739743508217</td><td>1</td></tr>\n",
       "<tr><td>175.2625677942549</td><td>34.2016337792914</td><td>61 UMa</td><td>4025850731201819392</td><td>4025850731201819392</td><td>56997</td><td>101501</td><td>101641846</td><td>11410301+3412064</td><td>J114103.01+341201.9</td><td>175.26250050618</td><td>0.0681</td><td>34.19993957544</td><td>0.0986</td><td>104.4252</td><td>0.1005</td><td>-12.522</td><td>0.088</td><td>-381.196</td><td>0.142</td><td>5.110995</td><td>0.906035</td><td>-5.6</td><td>0.41</td><td>J2016.0</td><td>5573.6665</td><td>5488.0</td><td>5787.0</td><td>0.8599333</td><td>0.79770035</td><td>0.88698965</td><td>0.6429663</td><td>0.6413257</td><td>0.6446068</td><td>true</td><td>71600.0</td><td>1</td><td>84.0</td><td></td><td>--</td><td>--</td><td></td><td>--</td><td>--</td><td>true</td><td>204.0674299308931</td><td>1</td></tr>\n",
       "<tr><td>260.1648643743331</td><td>32.4677438774612</td><td>72 Her</td><td>1333760419707327744</td><td>1333760419707327744</td><td>84862</td><td>157214</td><td>9728611</td><td>17203955+3228056</td><td>J172039.69+322753.3</td><td>260.16557980211</td><td>0.0427</td><td>32.46311742251</td><td>0.0461</td><td>68.5575</td><td>0.0553</td><td>135.81</td><td>0.058</td><td>-1040.953</td><td>0.054</td><td>5.209875</td><td>0.820611</td><td>-78.43</td><td>0.16</td><td>J2016.0</td><td>5830.0</td><td>5734.6665</td><td>6022.25</td><td>1.1306806</td><td>1.0596427</td><td>1.168586</td><td>1.3306038</td><td>1.327499</td><td>1.3337086</td><td>true</td><td>102700.0</td><td>5</td><td>193.67240381634136</td><td></td><td>--</td><td>--</td><td></td><td>--</td><td>--</td><td>true</td><td>192.929747039328</td><td>1</td></tr>\n",
       "<tr><td>184.9548648891468</td><td>16.8085244139832</td><td>Gaia EDR3 3946449911319493504</td><td>3946449911319493504</td><td>3946449911319493504</td><td>--</td><td>--</td><td>72416873</td><td>12194916+1648308</td><td>J121949.18+164829.2</td><td>184.95493702648</td><td>0.0225</td><td>16.8079021021</td><td>0.019</td><td>18.3528</td><td>0.0266</td><td>15.537</td><td>0.03</td><td>-140.02</td><td>0.024</td><td>7.742777</td><td>0.831325</td><td>22.13</td><td>0.15</td><td>J2016.0</td><td>5740.5</td><td>5690.0</td><td>5802.3335</td><td>1.363087</td><td>1.3341899</td><td>1.3873898</td><td>1.8177776</td><td>1.8103718</td><td>1.8251835</td><td></td><td>--</td><td>--</td><td>--</td><td></td><td>--</td><td>--</td><td></td><td>--</td><td>--</td><td>true</td><td>171.8668753821042</td><td>1</td></tr>\n",
       "<tr><td>174.1487189852519</td><td>56.1353543141282</td><td>HD100831A</td><td>844865117036623232</td><td>844865117036623232</td><td>56622</td><td>100831A</td><td>137729151</td><td>11363571+5608074</td><td>J113635.47+560806.2</td><td>174.1472877129</td><td>0.0108</td><td>56.13494946936</td><td>0.0121</td><td>21.1416</td><td>0.0165</td><td>-179.449</td><td>0.014</td><td>-91.092</td><td>0.016</td><td>7.555699</td><td>0.801509</td><td>-15.8</td><td>0.19</td><td>J2016.0</td><td>5813.0</td><td>5757.0</td><td>5875.0</td><td>1.2488316</td><td>1.2226124</td><td>1.2732453</td><td>1.6043674</td><td>1.600464</td><td>1.6082708</td><td></td><td>--</td><td>--</td><td>--</td><td></td><td>--</td><td>--</td><td></td><td>--</td><td>--</td><td>true</td><td>124.6904974628892</td><td>1</td></tr>\n",
       "<tr><td>176.4532410527907</td><td>6.9426191565085</td><td>HD102211</td><td>3909855690445677696</td><td>3909855690445677696</td><td>57378</td><td>102211</td><td>396936263</td><td>11454877+0656335</td><td>J114548.68+065633.6</td><td>176.45265359911</td><td>0.0243</td><td>6.94266722055</td><td>0.0192</td><td>15.5794</td><td>0.029</td><td>-131.208</td><td>0.028</td><td>10.814</td><td>0.023</td><td>7.580417</td><td>0.60091</td><td>-15.84</td><td>0.29</td><td>J2016.0</td><td>6264.85</td><td>6144.1</td><td>6482.0</td><td>1.431613</td><td>1.3373003</td><td>1.4884369</td><td>2.844387</td><td>2.8292606</td><td>2.8595135</td><td></td><td>--</td><td>--</td><td>--</td><td></td><td>--</td><td>--</td><td></td><td>--</td><td>--</td><td>true</td><td>161.3455547566396</td><td>1</td></tr>\n",
       "<tr><td>181.5246349942624</td><td>49.1584234653053</td><td>HD105123</td><td>1546708987054162560</td><td>1546708987054162560</td><td>59024</td><td>105123</td><td>53551449</td><td>12060594+4909303</td><td>J120605.77+490930.3</td><td>181.52377057058</td><td>0.009</td><td>49.15845341494</td><td>0.0114</td><td>17.2377</td><td>0.0176</td><td>-127.194</td><td>0.01</td><td>6.738</td><td>0.013</td><td>7.584469</td><td>0.645386</td><td>2.06</td><td>0.19</td><td>J2016.0</td><td>6336.6665</td><td>6249.0</td><td>6475.3003</td><td>1.2681192</td><td>1.2144005</td><td>1.3039494</td><td>2.3359218</td><td>2.328396</td><td>2.3434474</td><td></td><td>--</td><td>--</td><td>--</td><td></td><td>--</td><td>--</td><td></td><td>--</td><td>--</td><td>true</td><td>177.5860020323029</td><td>1</td></tr>\n",
       "<tr><td>...</td><td>...</td><td>...</td><td>...</td><td>...</td><td>...</td><td>...</td><td>...</td><td>...</td><td>...</td><td>...</td><td>...</td><td>...</td><td>...</td><td>...</td><td>...</td><td>...</td><td>...</td><td>...</td><td>...</td><td>...</td><td>...</td><td>...</td><td>...</td><td>...</td><td>...</td><td>...</td><td>...</td><td>...</td><td>...</td><td>...</td><td>...</td><td>...</td><td>...</td><td>...</td><td>...</td><td>...</td><td>...</td><td>...</td><td>...</td><td>...</td><td>...</td><td>...</td><td>...</td><td>...</td><td>...</td><td>...</td></tr>\n",
       "<tr><td>112.6649004331494</td><td>27.9087367669763</td><td>HD59331</td><td>873190117116604032</td><td>873190117116604032</td><td>36509</td><td>59331</td><td>462512093</td><td>07303957+2754315</td><td>J073039.55+275431.4</td><td>112.66466741157</td><td>0.0208</td><td>27.90854974161</td><td>0.0179</td><td>19.0082</td><td>0.0218</td><td>-46.332</td><td>0.023</td><td>-42.081</td><td>0.02</td><td>7.012193</td><td>0.5893</td><td>37.51</td><td>0.37</td><td>J2016.0</td><td>6514.0</td><td>6430.0</td><td>6551.0</td><td>1.4072701</td><td>1.3914185</td><td>1.4442787</td><td>3.2124817</td><td>3.19941</td><td>3.2255535</td><td></td><td>--</td><td>--</td><td>--</td><td></td><td>--</td><td>--</td><td></td><td>--</td><td>--</td><td>true</td><td>204.142378796637</td><td>1</td></tr>\n",
       "<tr><td>112.6092716145625</td><td>13.8649590287475</td><td>HD59432A</td><td>3163696107354305536</td><td>3163696107354305536</td><td>36485</td><td>59432A</td><td>247087539</td><td>07302622+1351540</td><td>--</td><td>112.60907082826</td><td>0.022</td><td>13.864870815</td><td>0.0182</td><td>20.5453</td><td>0.0236</td><td>-43.861</td><td>0.029</td><td>-19.848</td><td>0.024</td><td>7.207652</td><td>0.608527</td><td>-0.92</td><td>0.16</td><td>J2016.0</td><td>6252.1</td><td>6160.0</td><td>6391.84</td><td>1.2934566</td><td>1.2375191</td><td>1.3324234</td><td>2.3030434</td><td>2.2952673</td><td>2.3108194</td><td></td><td>--</td><td>--</td><td>--</td><td></td><td>--</td><td>--</td><td></td><td>--</td><td>--</td><td>true</td><td>188.8674180779734</td><td>1</td></tr>\n",
       "<tr><td>114.5197989797288</td><td>61.5333588878362</td><td>HD60406</td><td>1086422873856239744</td><td>1086422873856239744</td><td>37150</td><td>60406</td><td>85270832</td><td>07380474+6132001</td><td>J073804.79+613200.4</td><td>114.52005057478</td><td>0.0098</td><td>61.53345876498</td><td>0.0137</td><td>17.3624</td><td>0.0189</td><td>26.982</td><td>0.017</td><td>22.472</td><td>0.016</td><td>7.258062</td><td>0.619308</td><td>-39.96</td><td>0.2</td><td>J2016.0</td><td>6350.0</td><td>6187.0664</td><td>6459.0</td><td>1.4599046</td><td>1.4110466</td><td>1.5378089</td><td>3.1220405</td><td>3.1111267</td><td>3.1329544</td><td></td><td>--</td><td>--</td><td>--</td><td></td><td>--</td><td>--</td><td></td><td>--</td><td>--</td><td>true</td><td>175.6593604893683</td><td>1</td></tr>\n",
       "<tr><td>114.8400359600106</td><td>50.5285358765091</td><td>HD60912</td><td>982266480954408704</td><td>982266480954408704</td><td>37283</td><td>60912</td><td>453409619</td><td>07392160+5031427</td><td>J073921.55+503142.2</td><td>114.83948452409</td><td>0.0167</td><td>50.52826252471</td><td>0.0159</td><td>22.5948</td><td>0.0223</td><td>-78.872</td><td>0.018</td><td>-61.504</td><td>0.017</td><td>6.795869</td><td>0.597845</td><td>7.69</td><td>0.19</td><td>J2016.0</td><td>6477.0</td><td>6290.6</td><td>6537.0</td><td>1.3296503</td><td>1.3053539</td><td>1.4096168</td><td>2.8032718</td><td>2.7951455</td><td>2.811398</td><td></td><td>--</td><td>--</td><td>--</td><td></td><td>--</td><td>--</td><td></td><td>--</td><td>--</td><td>true</td><td>171.8546304667981</td><td>1</td></tr>\n",
       "<tr><td>131.2958134741968</td><td>43.6491540326945</td><td>HD74361</td><td>914061025904610432</td><td>914061025904610432</td><td>42941</td><td>74361</td><td>117893806</td><td>08451099+4338570</td><td>J084510.97+433856.8</td><td>131.29569486628</td><td>0.0236</td><td>43.64896241711</td><td>0.0155</td><td>16.098</td><td>0.0262</td><td>-19.31</td><td>0.035</td><td>-43.114</td><td>0.023</td><td>7.169559</td><td>0.630561</td><td>-14.09</td><td>0.3</td><td>J2016.0</td><td>6623.68</td><td>6369.0</td><td>7039.13</td><td>1.4878944</td><td>1.3174461</td><td>1.6092678</td><td>3.8391612</td><td>3.8215733</td><td>3.856749</td><td></td><td>--</td><td>--</td><td>--</td><td></td><td>--</td><td>--</td><td></td><td>--</td><td>--</td><td>true</td><td>153.7092711600511</td><td>1</td></tr>\n",
       "<tr><td>158.7969557542935</td><td>84.3993212410906</td><td>HD90343</td><td>1147862174868109184</td><td>1147862174868109184</td><td>51819</td><td>90343</td><td>154717941</td><td>10351117+8423576</td><td>J103511.39+842358.1</td><td>158.79785566738</td><td>0.013</td><td>84.39953445584</td><td>0.0125</td><td>47.3879</td><td>0.0138</td><td>19.761</td><td>0.018</td><td>47.973</td><td>0.017</td><td>7.080917</td><td>0.984154</td><td>9.62</td><td>0.15</td><td>J2016.0</td><td>5305.3335</td><td>5269.6665</td><td>5331.0</td><td>0.85255307</td><td>0.84436345</td><td>0.8641329</td><td>0.5187861</td><td>0.5182737</td><td>0.51929843</td><td></td><td>--</td><td>--</td><td>--</td><td></td><td>--</td><td>--</td><td></td><td>--</td><td>--</td><td>true</td><td>207.2278417218855</td><td>1</td></tr>\n",
       "<tr><td>172.104294087623</td><td>2.7829665390706</td><td>HD99739</td><td>3800325090865568640</td><td>3800325090865568640</td><td>55982</td><td>99739</td><td>363573014</td><td>11282502+0246586</td><td>J112824.95+024658.0</td><td>172.10376359523</td><td>0.0663</td><td>2.78266005585</td><td>0.0629</td><td>19.8879</td><td>0.0917</td><td>-119.22</td><td>0.084</td><td>-68.959</td><td>0.069</td><td>7.126663</td><td>0.643816</td><td>6.06</td><td>2.17</td><td>J2016.0</td><td>6331.0</td><td>6269.467</td><td>6369.5</td><td>1.3636184</td><td>1.3471836</td><td>1.3905169</td><td>2.6913466</td><td>2.6712158</td><td>2.7114775</td><td></td><td>--</td><td>--</td><td>--</td><td></td><td>--</td><td>--</td><td></td><td>--</td><td>--</td><td>true</td><td>199.7136171511154</td><td>1</td></tr>\n",
       "<tr><td>228.9097867155756</td><td>33.3209220175191</td><td>HIP74674</td><td>1278392381386793856</td><td>1278392381386793856</td><td>74674</td><td>--</td><td>16271552</td><td>15153834+3319156</td><td>J151538.41+331914.2</td><td>228.91022774084</td><td>0.0111</td><td>33.32043279544</td><td>0.0132</td><td>27.1573</td><td>0.0178</td><td>82.918</td><td>0.015</td><td>-110.075</td><td>0.017</td><td>7.678368</td><td>0.772631</td><td>-11.83</td><td>0.18</td><td>J2016.0</td><td>5850.0</td><td>5794.35</td><td>5920.5</td><td>0.90786386</td><td>0.8863713</td><td>0.92538613</td><td>0.8696802</td><td>0.868102</td><td>0.87125844</td><td></td><td>--</td><td>--</td><td>--</td><td></td><td>--</td><td>--</td><td></td><td>--</td><td>--</td><td>true</td><td>164.9119651802271</td><td>1</td></tr>\n",
       "<tr><td>245.811209581571</td><td>33.697085245179</td><td>HIP80279</td><td>1325706698899339136</td><td>1325706698899339136</td><td>80279</td><td>--</td><td>8412717</td><td>16231470+3341493</td><td>J162314.66+334150.5</td><td>245.81099568397</td><td>0.0129</td><td>33.69753885781</td><td>0.0158</td><td>15.5943</td><td>0.0175</td><td>-40.041</td><td>0.017</td><td>102.063</td><td>0.021</td><td>7.532863</td><td>0.665079</td><td>-11.27</td><td>0.31</td><td>J2016.0</td><td>6279.5</td><td>6173.2</td><td>6408.0</td><td>1.4516265</td><td>1.3939912</td><td>1.5020497</td><td>2.9519215</td><td>2.9423892</td><td>2.9614537</td><td></td><td>--</td><td>--</td><td>--</td><td></td><td>--</td><td>--</td><td></td><td>--</td><td>--</td><td>true</td><td>155.7700875960355</td><td>1</td></tr>\n",
       "<tr><td>129.7987692179278</td><td>65.0209064171644</td><td>pi.01 UMa</td><td>1092545710514654464</td><td>1092545710514654464</td><td>42438</td><td>72905</td><td>417762326</td><td>08391162+6501151</td><td>J083911.68+650116.0</td><td>129.79848216264</td><td>0.0203</td><td>65.02129699891</td><td>0.0372</td><td>69.2576</td><td>0.0485</td><td>-27.274</td><td>0.024</td><td>87.881</td><td>0.049</td><td>5.498977</td><td>0.804358</td><td>-13.01</td><td>0.16</td><td>J2016.0</td><td>5839.3335</td><td>5810.75</td><td>5912.0</td><td>0.9751176</td><td>0.9512939</td><td>0.98473454</td><td>0.9960057</td><td>0.99455494</td><td>0.9974565</td><td></td><td>--</td><td>--</td><td>--</td><td></td><td>--</td><td>--</td><td></td><td>--</td><td>--</td><td>true</td><td>155.8124566341522</td><td>1</td></tr>\n",
       "</table></div>"
      ],
      "text/plain": [
       "<Table length=53>\n",
       "     ra_j2000        dec_j2000     ... spectrum_hermes_snr spectrum_hermes_nobs\n",
       "                                   ...                                         \n",
       "     float64          float64      ...        str18               int64        \n",
       "----------------- ---------------- ... ------------------- --------------------\n",
       "143.9145924739025 35.8101325142152 ...   193.1870708971247                    1\n",
       " 25.6240105213668 20.2685126826973 ...   120.5668081318515                    1\n",
       "150.2527369843307 31.9236702818993 ...   201.3739743508217                    1\n",
       "175.2625677942549 34.2016337792914 ...   204.0674299308931                    1\n",
       "260.1648643743331 32.4677438774612 ...    192.929747039328                    1\n",
       "184.9548648891468 16.8085244139832 ...   171.8668753821042                    1\n",
       "174.1487189852519 56.1353543141282 ...   124.6904974628892                    1\n",
       "176.4532410527907  6.9426191565085 ...   161.3455547566396                    1\n",
       "181.5246349942624 49.1584234653053 ...   177.5860020323029                    1\n",
       "              ...              ... ...                 ...                  ...\n",
       "112.6649004331494 27.9087367669763 ...    204.142378796637                    1\n",
       "112.6092716145625 13.8649590287475 ...   188.8674180779734                    1\n",
       "114.5197989797288 61.5333588878362 ...   175.6593604893683                    1\n",
       "114.8400359600106 50.5285358765091 ...   171.8546304667981                    1\n",
       "131.2958134741968 43.6491540326945 ...   153.7092711600511                    1\n",
       "158.7969557542935 84.3993212410906 ...   207.2278417218855                    1\n",
       " 172.104294087623  2.7829665390706 ...   199.7136171511154                    1\n",
       "228.9097867155756 33.3209220175191 ...   164.9119651802271                    1\n",
       " 245.811209581571  33.697085245179 ...   155.7700875960355                    1\n",
       "129.7987692179278 65.0209064171644 ...   155.8124566341522                    1"
      ]
     },
     "execution_count": 307,
     "metadata": {},
     "output_type": "execute_result"
    }
   ],
   "source": [
    "table_with_hermes[table_with_hermes['spectrum_hermes'] == 'true']"
   ]
  },
  {
   "cell_type": "code",
   "execution_count": 308,
   "metadata": {},
   "outputs": [],
   "source": [
    "table = table_with_hermes"
   ]
  },
  {
   "cell_type": "markdown",
   "metadata": {},
   "source": [
    "### write it out:"
   ]
  },
  {
   "cell_type": "code",
   "execution_count": 309,
   "metadata": {},
   "outputs": [
    {
     "data": {
      "text/html": [
       "<div><i>Table length=1</i>\n",
       "<table id=\"table140318371013648\" class=\"table-striped table-bordered table-condensed\">\n",
       "<thead><tr><th>ra_j2000</th><th>dec_j2000</th><th>primary_name</th><th>gaiadr2_source_id</th><th>gaiaedr3_source_id</th><th>hip</th><th>hd</th><th>tic</th><th>2mass</th><th>wisea</th><th>ra</th><th>ra_error</th><th>dec</th><th>dec_error</th><th>parallax</th><th>parallax_error</th><th>pmra</th><th>pmra_error</th><th>pmdec</th><th>pmdec_error</th><th>gmag</th><th>bp_rp</th><th>radial_velocity</th><th>radial_velocity_error</th><th>ref_epoch</th><th>gaia_teff</th><th>gaia_teff_lower</th><th>gaia_teff_upper</th><th>gaia_radius</th><th>gaia_radius_lower</th><th>gaia_radius_upper</th><th>gaia_lum</th><th>gaia_lum_lower</th><th>gaia_lum_upper</th><th>spectrum_hires</th><th>spectrum_hires_resolution</th><th>spectrum_hires_nobs</th><th>spectrum_hires_snr</th><th>spectrum_harps</th><th>spectrum_harps_nobs</th><th>spectrum_harps_snr</th><th>spectrum_sophie</th><th>spectrum_sophie_nobs</th><th>spectrum_sophie_snr</th><th>spectrum_hermes</th><th>spectrum_hermes_snr</th><th>spectrum_hermes_nobs</th></tr></thead>\n",
       "<thead><tr><th></th><th></th><th></th><th></th><th></th><th></th><th></th><th></th><th></th><th></th><th></th><th></th><th></th><th></th><th></th><th></th><th></th><th></th><th></th><th></th><th></th><th></th><th></th><th></th><th></th><th>K</th><th>K</th><th>K</th><th>solRad</th><th>solRad</th><th>solRad</th><th>solLum</th><th>solLum</th><th>solLum</th><th></th><th></th><th></th><th></th><th></th><th></th><th></th><th></th><th></th><th></th><th></th><th></th><th></th></tr></thead>\n",
       "<thead><tr><th>float64</th><th>float64</th><th>str29</th><th>int64</th><th>int64</th><th>int64</th><th>str7</th><th>int64</th><th>str16</th><th>str19</th><th>float64</th><th>float64</th><th>float64</th><th>float64</th><th>float64</th><th>float64</th><th>float64</th><th>float64</th><th>float64</th><th>float64</th><th>float64</th><th>float64</th><th>float64</th><th>float64</th><th>str7</th><th>float32</th><th>float32</th><th>float32</th><th>float32</th><th>float32</th><th>float32</th><th>float32</th><th>float32</th><th>float32</th><th>str29</th><th>float64</th><th>int64</th><th>float64</th><th>str29</th><th>int64</th><th>float64</th><th>str29</th><th>int64</th><th>float64</th><th>str29</th><th>str18</th><th>int64</th></tr></thead>\n",
       "<tr><td>331.5220948604787</td><td>-5.3581640115525</td><td>HD209779</td><td>2621051110038749440</td><td>2621051110039687936</td><td>109110</td><td>209779</td><td>2024277731</td><td>22060532-0521291</td><td>--</td><td>331.52288038903</td><td>0.0542</td><td>-5.35835702703</td><td>0.0548</td><td>27.4355</td><td>0.065</td><td>175.972</td><td>0.073</td><td>-43.428</td><td>0.073</td><td>7.406189</td><td>0.861938</td><td>-11.31</td><td>0.63</td><td>J2016.0</td><td>5700.6665</td><td>5659.25</td><td>5729.75</td><td>1.070933</td><td>1.0600888</td><td>1.0866653</td><td>1.091244</td><td>1.0882074</td><td>1.0942806</td><td></td><td>--</td><td>--</td><td>--</td><td>true</td><td>5</td><td>236.5</td><td></td><td>--</td><td>--</td><td></td><td>--</td><td>--</td></tr>\n",
       "</table></div>"
      ],
      "text/plain": [
       "<Table length=1>\n",
       "     ra_j2000        dec_j2000     ... spectrum_hermes_snr spectrum_hermes_nobs\n",
       "                                   ...                                         \n",
       "     float64          float64      ...        str18               int64        \n",
       "----------------- ---------------- ... ------------------- --------------------\n",
       "331.5220948604787 -5.3581640115525 ...                  --                   --"
      ]
     },
     "execution_count": 309,
     "metadata": {},
     "output_type": "execute_result"
    }
   ],
   "source": [
    "table[table['hd']  == '209779']"
   ]
  },
  {
   "cell_type": "code",
   "execution_count": 310,
   "metadata": {},
   "outputs": [
    {
     "data": {
      "text/html": [
       "<div><i>Table length=8</i>\n",
       "<table id=\"table140317984574800\" class=\"table-striped table-bordered table-condensed\">\n",
       "<thead><tr><th>ra_j2000</th><th>dec_j2000</th><th>primary_name</th><th>gaiadr2_source_id</th><th>gaiaedr3_source_id</th><th>hip</th><th>hd</th><th>tic</th><th>2mass</th><th>wisea</th><th>ra</th><th>ra_error</th><th>dec</th><th>dec_error</th><th>parallax</th><th>parallax_error</th><th>pmra</th><th>pmra_error</th><th>pmdec</th><th>pmdec_error</th><th>gmag</th><th>bp_rp</th><th>radial_velocity</th><th>radial_velocity_error</th><th>ref_epoch</th><th>gaia_teff</th><th>gaia_teff_lower</th><th>gaia_teff_upper</th><th>gaia_radius</th><th>gaia_radius_lower</th><th>gaia_radius_upper</th><th>gaia_lum</th><th>gaia_lum_lower</th><th>gaia_lum_upper</th><th>spectrum_hires</th><th>spectrum_hires_resolution</th><th>spectrum_hires_nobs</th><th>spectrum_hires_snr</th><th>spectrum_harps</th><th>spectrum_harps_nobs</th><th>spectrum_harps_snr</th><th>spectrum_sophie</th><th>spectrum_sophie_nobs</th><th>spectrum_sophie_snr</th><th>spectrum_hermes</th><th>spectrum_hermes_snr</th><th>spectrum_hermes_nobs</th></tr></thead>\n",
       "<thead><tr><th></th><th></th><th></th><th></th><th></th><th></th><th></th><th></th><th></th><th></th><th></th><th></th><th></th><th></th><th></th><th></th><th></th><th></th><th></th><th></th><th></th><th></th><th></th><th></th><th></th><th>K</th><th>K</th><th>K</th><th>solRad</th><th>solRad</th><th>solRad</th><th>solLum</th><th>solLum</th><th>solLum</th><th></th><th></th><th></th><th></th><th></th><th></th><th></th><th></th><th></th><th></th><th></th><th></th><th></th></tr></thead>\n",
       "<thead><tr><th>float64</th><th>float64</th><th>str29</th><th>int64</th><th>int64</th><th>int64</th><th>str7</th><th>int64</th><th>str16</th><th>str19</th><th>float64</th><th>float64</th><th>float64</th><th>float64</th><th>float64</th><th>float64</th><th>float64</th><th>float64</th><th>float64</th><th>float64</th><th>float64</th><th>float64</th><th>float64</th><th>float64</th><th>str7</th><th>float32</th><th>float32</th><th>float32</th><th>float32</th><th>float32</th><th>float32</th><th>float32</th><th>float32</th><th>float32</th><th>str29</th><th>float64</th><th>int64</th><th>float64</th><th>str29</th><th>int64</th><th>float64</th><th>str29</th><th>int64</th><th>float64</th><th>str29</th><th>str18</th><th>int64</th></tr></thead>\n",
       "<tr><td>271.3635350549962</td><td>2.5001462819313</td><td>70 Oph A</td><td>--</td><td>4468557611984384512</td><td>--</td><td>165341A</td><td>--</td><td>--</td><td>--</td><td>271.36445381846</td><td>0.142</td><td>2.49522409591</td><td>0.135</td><td>195.5674</td><td>0.1964</td><td>206.525</td><td>0.246</td><td>-1107.492</td><td>0.164</td><td>3.987364</td><td>1.003693</td><td>nan</td><td>nan</td><td>J2016.0</td><td>--</td><td>--</td><td>--</td><td>--</td><td>--</td><td>--</td><td>--</td><td>--</td><td>--</td><td></td><td>--</td><td>--</td><td>--</td><td>true</td><td>29</td><td>253.2</td><td></td><td>--</td><td>--</td><td></td><td>--</td><td>--</td></tr>\n",
       "<tr><td>133.2834891086175</td><td>54.9530587118437</td><td>Gaia EDR3 1030087329727496320</td><td>--</td><td>1030087329727496320</td><td>43630</td><td>--</td><td>--</td><td>08530805+5457112</td><td>J085308.10+545711.5</td><td>133.28379071561</td><td>0.114</td><td>54.95326950556</td><td>0.1023</td><td>19.6785</td><td>0.1727</td><td>38.969</td><td>0.124</td><td>47.429</td><td>0.124</td><td>7.932846</td><td>0.761742</td><td>nan</td><td>nan</td><td>J2016.0</td><td>--</td><td>--</td><td>--</td><td>--</td><td>--</td><td>--</td><td>--</td><td>--</td><td>--</td><td></td><td>--</td><td>--</td><td>--</td><td></td><td>--</td><td>--</td><td></td><td>--</td><td>--</td><td></td><td>--</td><td>--</td></tr>\n",
       "<tr><td>156.7208595697895</td><td>17.219443631006</td><td>Gaia EDR3 3890250298609911168</td><td>--</td><td>3890250298609911168</td><td>51145</td><td>--</td><td>--</td><td>10265302+1713099</td><td>J102652.99+171309.1</td><td>156.72064700312</td><td>0.173</td><td>17.21915548179</td><td>0.1591</td><td>11.513</td><td>0.2158</td><td>-45.684</td><td>0.205</td><td>-64.834</td><td>0.133</td><td>7.794488</td><td>0.61961</td><td>nan</td><td>nan</td><td>J2016.0</td><td>--</td><td>--</td><td>--</td><td>--</td><td>--</td><td>--</td><td>--</td><td>--</td><td>--</td><td></td><td>--</td><td>--</td><td>--</td><td></td><td>--</td><td>--</td><td></td><td>--</td><td>--</td><td></td><td>--</td><td>--</td></tr>\n",
       "<tr><td>165.8341450816425</td><td>35.9698822727936</td><td>Gaia EDR3 762815470562110464</td><td>--</td><td>762815470562110464</td><td>54035</td><td>--</td><td>--</td><td>11032027+3558203</td><td>J110319.67+355722.4</td><td>165.83095967578</td><td>0.0241</td><td>35.94865303266</td><td>0.0294</td><td>392.7529</td><td>0.0321</td><td>-580.057</td><td>0.026</td><td>-4776.589</td><td>0.03</td><td>6.551172</td><td>2.215609</td><td>nan</td><td>nan</td><td>J2016.0</td><td>--</td><td>--</td><td>--</td><td>--</td><td>--</td><td>--</td><td>--</td><td>--</td><td>--</td><td></td><td>--</td><td>--</td><td>--</td><td></td><td>--</td><td>--</td><td></td><td>--</td><td>--</td><td></td><td>--</td><td>--</td></tr>\n",
       "<tr><td>252.780917368212</td><td>9.4041205614543</td><td>HD152113</td><td>--</td><td>4445793563751403264</td><td>82460</td><td>152113</td><td>--</td><td>16510741+0924154</td><td>--</td><td>252.7810032285</td><td>0.0833</td><td>9.40356705738</td><td>0.0445</td><td>15.2509</td><td>0.1196</td><td>19.059</td><td>0.117</td><td>-124.538</td><td>0.083</td><td>7.905127</td><td>0.692442</td><td>nan</td><td>nan</td><td>J2016.0</td><td>--</td><td>--</td><td>--</td><td>--</td><td>--</td><td>--</td><td>--</td><td>--</td><td>--</td><td></td><td>--</td><td>--</td><td>--</td><td></td><td>--</td><td>--</td><td></td><td>--</td><td>--</td><td></td><td>--</td><td>--</td></tr>\n",
       "<tr><td>108.2042589779048</td><td>27.2250609982939</td><td>HD55130B</td><td>--</td><td>883596170039715072</td><td>--</td><td>55130B</td><td>--</td><td>--</td><td>--</td><td>108.20437524491</td><td>0.5852</td><td>27.22457430182</td><td>0.6333</td><td>21.541</td><td>0.6483</td><td>23.262</td><td>0.676</td><td>-109.507</td><td>0.594</td><td>7.095436</td><td>0.592942</td><td>nan</td><td>nan</td><td>J2016.0</td><td>--</td><td>--</td><td>--</td><td>--</td><td>--</td><td>--</td><td>--</td><td>--</td><td>--</td><td></td><td>--</td><td>--</td><td>--</td><td></td><td>--</td><td>--</td><td></td><td>--</td><td>--</td><td></td><td>--</td><td>--</td></tr>\n",
       "<tr><td>166.3690706208598</td><td>43.5267741524225</td><td>HIP54211</td><td>--</td><td>778947814402602752</td><td>54211</td><td>--</td><td>--</td><td>11052903+4331357</td><td>J110524.36+433146.2</td><td>166.34205974427</td><td>0.0247</td><td>43.53094856108</td><td>0.0244</td><td>203.8876</td><td>0.0332</td><td>-4406.469</td><td>0.031</td><td>938.527</td><td>0.028</td><td>7.912665</td><td>2.104178</td><td>nan</td><td>nan</td><td>J2016.0</td><td>--</td><td>--</td><td>--</td><td>--</td><td>--</td><td>--</td><td>--</td><td>--</td><td>--</td><td></td><td>--</td><td>--</td><td>--</td><td></td><td>--</td><td>--</td><td></td><td>--</td><td>--</td><td></td><td>--</td><td>--</td></tr>\n",
       "<tr><td>17.0679289393636</td><td>54.9201558892397</td><td>mu. Cas</td><td>--</td><td>411413822074322432</td><td>5336</td><td>6582</td><td>--</td><td>01081597+5455148</td><td>J010820.48+545456.6</td><td>17.0947498612</td><td>0.2806</td><td>54.91320397756</td><td>0.289</td><td>130.2881</td><td>0.4348</td><td>3468.251</td><td>0.354</td><td>-1564.844</td><td>0.365</td><td>4.948012</td><td>0.922226</td><td>-96.93</td><td>0.18</td><td>J2016.0</td><td>--</td><td>--</td><td>--</td><td>--</td><td>--</td><td>--</td><td>--</td><td>--</td><td>--</td><td></td><td>--</td><td>--</td><td>--</td><td></td><td>--</td><td>--</td><td></td><td>--</td><td>--</td><td></td><td>--</td><td>--</td></tr>\n",
       "</table></div>"
      ],
      "text/plain": [
       "<Table length=8>\n",
       "     ra_j2000        dec_j2000     ... spectrum_hermes_snr spectrum_hermes_nobs\n",
       "                                   ...                                         \n",
       "     float64          float64      ...        str18               int64        \n",
       "----------------- ---------------- ... ------------------- --------------------\n",
       "271.3635350549962  2.5001462819313 ...                  --                   --\n",
       "133.2834891086175 54.9530587118437 ...                  --                   --\n",
       "156.7208595697895  17.219443631006 ...                  --                   --\n",
       "165.8341450816425 35.9698822727936 ...                  --                   --\n",
       " 252.780917368212  9.4041205614543 ...                  --                   --\n",
       "108.2042589779048 27.2250609982939 ...                  --                   --\n",
       "166.3690706208598 43.5267741524225 ...                  --                   --\n",
       " 17.0679289393636 54.9201558892397 ...                  --                   --"
      ]
     },
     "execution_count": 310,
     "metadata": {},
     "output_type": "execute_result"
    }
   ],
   "source": [
    "table[table['tic'].mask]"
   ]
  },
  {
   "cell_type": "code",
   "execution_count": 311,
   "metadata": {},
   "outputs": [],
   "source": [
    "from astropy.io import ascii\n",
    "ascii.write(table, 'Gr8stars_GaiaeDR3_formatted.csv', delimiter=',', formats={'spectrum_hires_snr':'%.1f'},\n",
    "           comment=False, overwrite=True)"
   ]
  },
  {
   "cell_type": "markdown",
   "metadata": {},
   "source": [
    "### subsets with and without good spectra:"
   ]
  },
  {
   "cell_type": "code",
   "execution_count": 312,
   "metadata": {},
   "outputs": [],
   "source": [
    "table = Table.read('Gr8stars_GaiaeDR3_formatted.csv')"
   ]
  },
  {
   "cell_type": "code",
   "execution_count": 315,
   "metadata": {},
   "outputs": [
    {
     "data": {
      "text/html": [
       "<div><i>Table length=10</i>\n",
       "<table id=\"table140318371022096\" class=\"table-striped table-bordered table-condensed\">\n",
       "<thead><tr><th>ra_j2000</th><th>dec_j2000</th><th>primary_name</th><th>gaiadr2_source_id</th><th>gaiaedr3_source_id</th><th>hip</th><th>hd</th><th>tic</th><th>2mass</th><th>wisea</th><th>ra</th><th>ra_error</th><th>dec</th><th>dec_error</th><th>parallax</th><th>parallax_error</th><th>pmra</th><th>pmra_error</th><th>pmdec</th><th>pmdec_error</th><th>gmag</th><th>bp_rp</th><th>radial_velocity</th><th>radial_velocity_error</th><th>ref_epoch</th><th>gaia_teff</th><th>gaia_teff_lower</th><th>gaia_teff_upper</th><th>gaia_radius</th><th>gaia_radius_lower</th><th>gaia_radius_upper</th><th>gaia_lum</th><th>gaia_lum_lower</th><th>gaia_lum_upper</th><th>spectrum_hires</th><th>spectrum_hires_resolution</th><th>spectrum_hires_nobs</th><th>spectrum_hires_snr</th><th>spectrum_harps</th><th>spectrum_harps_nobs</th><th>spectrum_harps_snr</th><th>spectrum_sophie</th><th>spectrum_sophie_nobs</th><th>spectrum_sophie_snr</th><th>spectrum_hermes</th><th>spectrum_hermes_snr</th><th>spectrum_hermes_nobs</th></tr></thead>\n",
       "<thead><tr><th>float64</th><th>float64</th><th>str29</th><th>int64</th><th>int64</th><th>int64</th><th>str7</th><th>int64</th><th>str16</th><th>str19</th><th>float64</th><th>float64</th><th>float64</th><th>float64</th><th>float64</th><th>float64</th><th>float64</th><th>float64</th><th>float64</th><th>float64</th><th>float64</th><th>float64</th><th>float64</th><th>float64</th><th>str7</th><th>float64</th><th>float64</th><th>float64</th><th>float64</th><th>float64</th><th>float64</th><th>float64</th><th>float64</th><th>float64</th><th>str4</th><th>float64</th><th>int64</th><th>float64</th><th>str4</th><th>int64</th><th>float64</th><th>str4</th><th>int64</th><th>float64</th><th>str4</th><th>float64</th><th>int64</th></tr></thead>\n",
       "<tr><td>238.1689210400862</td><td>42.4515174680292</td><td>1 Her</td><td>1384195086792268800</td><td>1384195086792268800</td><td>77760</td><td>142373</td><td>157364190</td><td>15524052+4227052</td><td>J155240.95+422712.1</td><td>238.17156439238</td><td>0.0608</td><td>42.45431545672</td><td>0.0739</td><td>62.9028</td><td>0.0807</td><td>438.839</td><td>0.08</td><td>629.541</td><td>0.099</td><td>4.424265</td><td>0.784468</td><td>-56.01</td><td>0.16</td><td>J2016.0</td><td>6073.0</td><td>5888.5</td><td>6158.0</td><td>1.6416836977005005</td><td>1.5966756343841553</td><td>1.7461707592010498</td><td>3.3028345108032227</td><td>3.2885117530822754</td><td>3.31715726852417</td><td>--</td><td>--</td><td>--</td><td>--</td><td>--</td><td>--</td><td>--</td><td>--</td><td>--</td><td>--</td><td>--</td><td>--</td><td>--</td></tr>\n",
       "<tr><td>126.1458923835362</td><td>-3.7512424989997</td><td>1 Hya</td><td>3066710282611675776</td><td>3066710282611675776</td><td>41211</td><td>70958</td><td>168975758</td><td>08243502-0345045</td><td>J082434.89-034504.6</td><td>126.14494794137</td><td>0.045</td><td>-3.75135791807</td><td>0.032</td><td>36.9674</td><td>0.061</td><td>-212.044</td><td>0.06</td><td>-25.969</td><td>0.059</td><td>5.468879</td><td>0.648508</td><td>96.87</td><td>5.64</td><td>J2016.0</td><td>6320.5</td><td>6246.0</td><td>6395.0</td><td>1.5511353015899658</td><td>1.5152051448822021</td><td>1.5883586406707764</td><td>3.4593920707702637</td><td>3.446709156036377</td><td>3.4720749855041504</td><td>--</td><td>--</td><td>--</td><td>--</td><td>--</td><td>--</td><td>--</td><td>--</td><td>--</td><td>--</td><td>--</td><td>--</td><td>--</td></tr>\n",
       "<tr><td>191.2475206828197</td><td>39.2789161469845</td><td>10 CVn</td><td>1521686782461765888</td><td>1521686782461765888</td><td>62207</td><td>110897</td><td>389853353</td><td>12445938+3916441</td><td>--</td><td>191.24545542461</td><td>0.0197</td><td>39.27953401499</td><td>0.0174</td><td>56.9588</td><td>0.0323</td><td>-359.699</td><td>0.018</td><td>139.016</td><td>0.018</td><td>5.803025</td><td>0.756415</td><td>80.45</td><td>0.19</td><td>J2016.0</td><td>5967.75</td><td>5926.5</td><td>6026.33349609375</td><td>0.9827778339385986</td><td>0.9637630581855774</td><td>0.9965062141418457</td><td>1.1036920547485352</td><td>1.1017658710479736</td><td>1.1056182384490967</td><td>true</td><td>102700.0</td><td>3</td><td>139.8</td><td>--</td><td>--</td><td>--</td><td>--</td><td>--</td><td>--</td><td>--</td><td>--</td><td>--</td></tr>\n",
       "<tr><td>54.2182654350701</td><td>0.4016644716193</td><td>10 Tau</td><td>3263836568393943808</td><td>3263836568394170880</td><td>16852</td><td>22484</td><td>649766486</td><td>03365238+0024054</td><td>J033652.23+002400.9</td><td>54.21723179469</td><td>0.1306</td><td>0.39952459488</td><td>0.1093</td><td>71.837</td><td>0.1503</td><td>-232.563</td><td>0.164</td><td>-481.472</td><td>0.143</td><td>4.141093</td><td>0.757795</td><td>nan</td><td>nan</td><td>J2016.0</td><td>6082.33349609375</td><td>5830.0</td><td>6164.66650390625</td><td>--</td><td>--</td><td>--</td><td>--</td><td>--</td><td>--</td><td>true</td><td>71600.0</td><td>2</td><td>151.4</td><td>--</td><td>--</td><td>--</td><td>--</td><td>--</td><td>--</td><td>--</td><td>--</td><td>--</td></tr>\n",
       "<tr><td>74.9346751253041</td><td>15.9167324100169</td><td>101 Tau</td><td>3393284752392701312</td><td>3393284752392701312</td><td>23214</td><td>31845</td><td>389121767</td><td>04594432+1555002</td><td>J045944.38+155459.9</td><td>74.93506827868</td><td>0.0241</td><td>15.91660060912</td><td>0.0127</td><td>22.3771</td><td>0.0262</td><td>85.068</td><td>0.033</td><td>-29.655</td><td>0.021</td><td>6.644502</td><td>0.59449</td><td>41.72</td><td>0.54</td><td>J2016.0</td><td>6520.25</td><td>6444.5</td><td>6551.5</td><td>1.4123555421829224</td><td>1.3989139795303345</td><td>1.4457528591156006</td><td>3.2481775283813477</td><td>3.2326443195343018</td><td>3.2637107372283936</td><td>--</td><td>--</td><td>--</td><td>--</td><td>true</td><td>1</td><td>123.5</td><td>--</td><td>--</td><td>--</td><td>--</td><td>--</td><td>--</td></tr>\n",
       "<tr><td>76.8625232015097</td><td>18.6450499366847</td><td>104 Tau</td><td>3407611182744289152</td><td>3407611182744289152</td><td>23835</td><td>32923</td><td>27136704</td><td>05072692+1838420</td><td>--</td><td>76.86503115411</td><td>0.0897</td><td>18.64513194789</td><td>0.0566</td><td>62.8252</td><td>0.1094</td><td>534.674</td><td>0.111</td><td>18.449</td><td>0.083</td><td>4.732457</td><td>0.844065</td><td>20.58</td><td>0.15</td><td>J2016.0</td><td>5835.0</td><td>5700.0</td><td>6022.0</td><td>1.5503768920898438</td><td>1.4555847644805908</td><td>1.6246854066848755</td><td>2.510340929031372</td><td>2.4968111515045166</td><td>2.5238707065582275</td><td>true</td><td>71600.0</td><td>3</td><td>196.4</td><td>true</td><td>48</td><td>597.9</td><td>--</td><td>--</td><td>--</td><td>--</td><td>--</td><td>--</td></tr>\n",
       "<tr><td>315.1410034667797</td><td>-4.7302596237905</td><td>11 Aqr</td><td>6912276699251278848</td><td>6912276699251278848</td><td>103682</td><td>199960</td><td>248854510</td><td>21003382-0443486</td><td>J210033.85-044350.1</td><td>315.1412210745</td><td>0.0209</td><td>-4.73087375776</td><td>0.0137</td><td>36.9971</td><td>0.0293</td><td>48.795</td><td>0.028</td><td>-138.18</td><td>0.021</td><td>6.063653</td><td>0.779556</td><td>-17.34</td><td>0.14</td><td>J2016.0</td><td>5920.0</td><td>5863.0</td><td>5967.0</td><td>1.3689217567443848</td><td>1.347441554069519</td><td>1.395668387413025</td><td>2.0736658573150635</td><td>2.0693469047546387</td><td>2.0779848098754883</td><td>true</td><td>71600.0</td><td>1</td><td>86.0</td><td>true</td><td>77</td><td>596.6</td><td>--</td><td>--</td><td>--</td><td>--</td><td>--</td><td>--</td></tr>\n",
       "<tr><td>143.9145924739025</td><td>35.8101325142152</td><td>11 LMi</td><td>798068905726303232</td><td>798068905726303232</td><td>47080</td><td>82885</td><td>8915802</td><td>09353959+3548366</td><td>J093538.92+354834.4</td><td>143.91061083593</td><td>0.0692</td><td>35.80898121341</td><td>0.0601</td><td>89.0092</td><td>0.0937</td><td>-726.514</td><td>0.07</td><td>-259.057</td><td>0.062</td><td>5.200431</td><td>0.934127</td><td>14.39</td><td>0.17</td><td>J2016.0</td><td>5661.0</td><td>5488.0</td><td>6794.75</td><td>0.9361070394515991</td><td>0.6497777700424194</td><td>0.9960556626319885</td><td>0.8108085989952087</td><td>0.8083409070968628</td><td>0.8132762908935547</td><td>true</td><td>71600.0</td><td>1</td><td>95.0</td><td>--</td><td>--</td><td>--</td><td>--</td><td>--</td><td>--</td><td>true</td><td>193.1870708971247</td><td>1</td></tr>\n",
       "<tr><td>81.1060970084435</td><td>17.3835351141963</td><td>111 Tau</td><td>3400292798990117888</td><td>3400292798990117888</td><td>25278</td><td>35296</td><td>47346402</td><td>05242545+1723006</td><td>J052425.63+172301.0</td><td>81.10726354597</td><td>0.0837</td><td>17.3835033119</td><td>0.0574</td><td>68.5908</td><td>0.104</td><td>250.483</td><td>0.108</td><td>-7.156</td><td>0.077</td><td>4.850188</td><td>0.708018</td><td>37.67</td><td>0.24</td><td>J2016.0</td><td>6171.0</td><td>6060.0</td><td>6327.25</td><td>1.192928433418274</td><td>1.1347377300262451</td><td>1.237030029296875</td><td>1.8592839241027832</td><td>1.8510682582855225</td><td>1.867499589920044</td><td>--</td><td>--</td><td>--</td><td>--</td><td>--</td><td>--</td><td>--</td><td>--</td><td>--</td><td>--</td><td>--</td><td>--</td><td>--</td></tr>\n",
       "<tr><td>80.9099146163007</td><td>17.324116905683</td><td>111 Tau B</td><td>3394298532176344960</td><td>3394298532176344960</td><td>25220</td><td>35171</td><td>47345026</td><td>05233836+1719267</td><td>J052338.57+171926.8</td><td>80.91108310812</td><td>0.02</td><td>17.32409154335</td><td>0.0139</td><td>68.7662</td><td>0.0246</td><td>250.984</td><td>0.027</td><td>-5.707</td><td>0.019</td><td>7.543094</td><td>1.348195</td><td>37.94</td><td>0.13</td><td>J2016.0</td><td>4628.66650390625</td><td>4576.0</td><td>4712.0</td><td>0.6723672747612</td><td>0.6487954258918762</td><td>0.6879332661628723</td><td>0.18695256114006042</td><td>0.18674258887767792</td><td>0.18716253340244293</td><td>--</td><td>--</td><td>--</td><td>--</td><td>true</td><td>7</td><td>216.2</td><td>--</td><td>--</td><td>--</td><td>--</td><td>--</td><td>--</td></tr>\n",
       "</table></div>"
      ],
      "text/plain": [
       "<Table length=10>\n",
       "     ra_j2000        dec_j2000     ... spectrum_hermes_snr spectrum_hermes_nobs\n",
       "     float64          float64      ...       float64              int64        \n",
       "----------------- ---------------- ... ------------------- --------------------\n",
       "238.1689210400862 42.4515174680292 ...                  --                   --\n",
       "126.1458923835362 -3.7512424989997 ...                  --                   --\n",
       "191.2475206828197 39.2789161469845 ...                  --                   --\n",
       " 54.2182654350701  0.4016644716193 ...                  --                   --\n",
       " 74.9346751253041 15.9167324100169 ...                  --                   --\n",
       " 76.8625232015097 18.6450499366847 ...                  --                   --\n",
       "315.1410034667797 -4.7302596237905 ...                  --                   --\n",
       "143.9145924739025 35.8101325142152 ...   193.1870708971247                    1\n",
       " 81.1060970084435 17.3835351141963 ...                  --                   --\n",
       " 80.9099146163007  17.324116905683 ...                  --                   --"
      ]
     },
     "execution_count": 315,
     "metadata": {},
     "output_type": "execute_result"
    }
   ],
   "source": [
    "table[0:10]"
   ]
  },
  {
   "cell_type": "code",
   "execution_count": 3,
   "metadata": {},
   "outputs": [
    {
     "name": "stdout",
     "output_type": "stream",
     "text": [
      "HARPS: 190 good spectra, 13 ok spectra\n"
     ]
    }
   ],
   "source": [
    "mag_cut = (table['gmag'] <= 7.5)\n",
    "\n",
    "good_harps = ((table['spectrum_harps_snr'] > 100) & (table['spectrum_harps'] == 'true') & mag_cut)\n",
    "ok_harps = ((table['spectrum_harps_snr'] <= 100) & (table['spectrum_harps'] == 'true') & mag_cut)\n",
    "print('HARPS: {0} good spectra, {1} ok spectra'.format(np.sum(good_harps), np.sum(ok_harps)))"
   ]
  },
  {
   "cell_type": "code",
   "execution_count": 4,
   "metadata": {},
   "outputs": [
    {
     "name": "stdout",
     "output_type": "stream",
     "text": [
      "SOPHIE: 500 good spectra, 137 ok spectra\n"
     ]
    }
   ],
   "source": [
    "good_sophie = ((table['spectrum_sophie_snr'] > 100) & (table['spectrum_sophie'] == 'true') & mag_cut)\n",
    "ok_sophie = ((table['spectrum_sophie_snr'] <= 100) & (table['spectrum_sophie'] == 'true') & mag_cut)\n",
    "print('SOPHIE: {0} good spectra, {1} ok spectra'.format(np.sum(good_sophie), np.sum(ok_sophie)))"
   ]
  },
  {
   "cell_type": "code",
   "execution_count": 5,
   "metadata": {},
   "outputs": [
    {
     "name": "stdout",
     "output_type": "stream",
     "text": [
      "HIRES: 212 good spectra, 335 ok spectra\n"
     ]
    }
   ],
   "source": [
    "good_hires = (table['spectrum_hires_snr'] > 100)  & mag_cut\n",
    "ok_hires = (table['spectrum_hires_snr'] > 0) & (table['spectrum_hires'] == 'true') & mag_cut\n",
    "print('HIRES: {0} good spectra, {1} ok spectra'.format(np.sum(good_hires), np.sum(ok_hires)))"
   ]
  },
  {
   "cell_type": "code",
   "execution_count": 6,
   "metadata": {},
   "outputs": [
    {
     "name": "stdout",
     "output_type": "stream",
     "text": [
      "623 stars with good (SNR>100) spectra\n"
     ]
    }
   ],
   "source": [
    "good_spectra_table = table[good_harps | good_sophie]# | good_hires]\n",
    "print('{0} stars with good (SNR>100) spectra'.format(len(good_spectra_table)))"
   ]
  },
  {
   "cell_type": "code",
   "execution_count": 7,
   "metadata": {},
   "outputs": [
    {
     "name": "stdout",
     "output_type": "stream",
     "text": [
      "663 stars without any spectra\n"
     ]
    }
   ],
   "source": [
    "no_spectra = (table['spectrum_harps'] != \"true\") & (table['spectrum_sophie'] != \"true\") & mag_cut # (table['spectrum_hires'] != \"true\") & mag_cut\n",
    "no_spectra_table = table[no_spectra]\n",
    "print('{0} stars without any spectra'.format(len(no_spectra_table)))"
   ]
  },
  {
   "cell_type": "code",
   "execution_count": 8,
   "metadata": {},
   "outputs": [
    {
     "data": {
      "text/plain": [
       "138"
      ]
     },
     "execution_count": 8,
     "metadata": {},
     "output_type": "execute_result"
    }
   ],
   "source": [
    "1237 - 1099"
   ]
  },
  {
   "cell_type": "code",
   "execution_count": 9,
   "metadata": {},
   "outputs": [
    {
     "name": "stdout",
     "output_type": "stream",
     "text": [
      "118 stars with only ok spectra\n"
     ]
    }
   ],
   "source": [
    "ok_spectra_table = table[~no_spectra & ~good_harps & ~good_sophie & ~good_hires & mag_cut]\n",
    "print('{0} stars with only ok spectra'.format(len(ok_spectra_table)))"
   ]
  },
  {
   "cell_type": "code",
   "execution_count": 10,
   "metadata": {},
   "outputs": [
    {
     "ename": "AttributeError",
     "evalue": "'builtin_function_or_method' object has no attribute 'write'",
     "output_type": "error",
     "traceback": [
      "\u001b[0;31m---------------------------------------------------------------------------\u001b[0m",
      "\u001b[0;31mAttributeError\u001b[0m                            Traceback (most recent call last)",
      "\u001b[0;32m<ipython-input-10-bcebdd355221>\u001b[0m in \u001b[0;36m<module>\u001b[0;34m\u001b[0m\n\u001b[0;32m----> 1\u001b[0;31m ascii.write(good_spectra_table, 'targets_with_spectra.csv', delimiter=',', formats={'spectrum_hires_snr':'%.1f'},\n\u001b[0m\u001b[1;32m      2\u001b[0m            comment=False, overwrite=True)\n",
      "\u001b[0;31mAttributeError\u001b[0m: 'builtin_function_or_method' object has no attribute 'write'"
     ]
    }
   ],
   "source": [
    "ascii.write(good_spectra_table, 'targets_with_spectra.csv', delimiter=',', formats={'spectrum_hires_snr':'%.1f'},\n",
    "           comment=False, overwrite=True)"
   ]
  },
  {
   "cell_type": "code",
   "execution_count": 10,
   "metadata": {},
   "outputs": [],
   "source": [
    "from astropy.io import ascii\n",
    "ascii.write(no_spectra_table, 'targets_need_spectra.csv', delimiter=',', formats={'spectrum_hires_snr':'%.1f'},\n",
    "           comment=False, overwrite=True)"
   ]
  },
  {
   "cell_type": "code",
   "execution_count": 49,
   "metadata": {},
   "outputs": [],
   "source": [
    "ascii.write(ok_spectra_table, 'targets_want_spectra.csv', delimiter=',', formats={'spectrum_hires_snr':'%.1f'},\n",
    "           comment=False, overwrite=True)"
   ]
  },
  {
   "cell_type": "code",
   "execution_count": 11,
   "metadata": {},
   "outputs": [
    {
     "data": {
      "image/png": "[encoded data removed]",
      "text/plain": [
       "<Figure size 1296x432 with 3 Axes>"
      ]
     },
     "metadata": {
      "needs_background": "light"
     },
     "output_type": "display_data"
    }
   ],
   "source": [
    "fig, (ax1,ax2,ax3) = plt.subplots(1,3,figsize=(18,6), sharey=True, sharex=True)\n",
    "bins = np.arange(3,8.25,0.25)\n",
    "ax1.hist(good_spectra_table['gmag'], bins=bins)\n",
    "ax1.text(3.5, 200, 'targets with\\ngood spectra', fontsize=16)\n",
    "ax1.set_yscale('log')\n",
    "ax1.set_ylabel('# targets', fontsize=14)\n",
    "ax1.set_xlabel('g mag', fontsize=14)\n",
    "ax2.hist(ok_spectra_table['gmag'], bins=bins)\n",
    "ax2.text(3.5, 200, 'targets with\\nlow-SNR spectra', fontsize=16)\n",
    "ax2.set_xlabel('g mag', fontsize=14)\n",
    "ax3.hist(no_spectra_table['gmag'], bins=bins)\n",
    "ax3.text(3.5, 200, 'targets with\\nno spectra', fontsize=16)\n",
    "ax3.set_xlabel('g mag', fontsize=14)\n",
    "fig.subplots_adjust();"
   ]
  },
  {
   "cell_type": "code",
   "execution_count": 51,
   "metadata": {},
   "outputs": [
    {
     "data": {
      "text/html": [
       "<i>Table length=116</i>\n",
       "<table id=\"table140200998288976\" class=\"table-striped table-bordered table-condensed\">\n",
       "<thead><tr><th>ra_j2000</th><th>dec_j2000</th><th>primary_name</th><th>gaiadr2_source_id</th><th>gaiaedr3_source_id</th><th>hip</th><th>hd</th><th>tic</th><th>2mass</th><th>wisea</th><th>ra</th><th>ra_error</th><th>dec</th><th>dec_error</th><th>parallax</th><th>parallax_error</th><th>pmra</th><th>pmra_error</th><th>pmdec</th><th>pmdec_error</th><th>gmag</th><th>bp_rp</th><th>radial_velocity</th><th>radial_velocity_error</th><th>ref_epoch</th><th>gaia_teff</th><th>gaia_teff_lower</th><th>gaia_teff_upper</th><th>gaia_radius</th><th>gaia_radius_lower</th><th>gaia_radius_upper</th><th>gaia_lum</th><th>gaia_lum_lower</th><th>gaia_lum_upper</th><th>spectrum_hires</th><th>spectrum_hires_resolution</th><th>spectrum_hires_nobs</th><th>spectrum_hires_snr</th><th>spectrum_harps</th><th>spectrum_harps_nobs</th><th>spectrum_harps_snr</th><th>spectrum_sophie</th><th>spectrum_sophie_nobs</th><th>spectrum_sophie_snr</th></tr></thead>\n",
       "<thead><tr><th></th><th></th><th></th><th></th><th></th><th></th><th></th><th></th><th></th><th></th><th></th><th></th><th></th><th></th><th></th><th></th><th></th><th></th><th></th><th></th><th></th><th></th><th></th><th></th><th></th><th>K</th><th>K</th><th>K</th><th>Rsun</th><th>Rsun</th><th>Rsun</th><th>Lsun</th><th>Lsun</th><th>Lsun</th><th></th><th></th><th></th><th></th><th></th><th></th><th></th><th></th><th></th><th></th></tr></thead>\n",
       "<thead><tr><th>float64</th><th>float64</th><th>str29</th><th>int64</th><th>int64</th><th>int64</th><th>str29</th><th>int64</th><th>str16</th><th>str19</th><th>float64</th><th>float64</th><th>float64</th><th>float64</th><th>float64</th><th>float64</th><th>float64</th><th>float64</th><th>float64</th><th>float64</th><th>float64</th><th>float64</th><th>float64</th><th>float64</th><th>str7</th><th>float32</th><th>float32</th><th>float32</th><th>float32</th><th>float32</th><th>float32</th><th>float32</th><th>float32</th><th>float32</th><th>str29</th><th>float64</th><th>int64</th><th>float64</th><th>str29</th><th>int64</th><th>float64</th><th>str29</th><th>int64</th><th>float64</th></tr></thead>\n",
       "<tr><td>348.1509663089945</td><td>3.6179609972217</td><td>Gaia EDR3 2659153139311907712</td><td>2659153139311907712</td><td>2659153139311907712</td><td>114573</td><td></td><td>262583373</td><td>23123623+0337045</td><td>J231236.30+033703.9</td><td>348.15137843197</td><td>0.0219</td><td>3.61764227239</td><td>0.0184</td><td>14.3935</td><td>0.0241</td><td>92.543</td><td>0.026</td><td>-71.713</td><td>0.021</td><td>7.966337</td><td>0.871699</td><td>7.41</td><td>0.19</td><td>J2016.0</td><td>5581.5</td><td>5501.9</td><td>5644.6665</td><td>1.6526755</td><td>1.615894</td><td>1.7008424</td><td>2.388216</td><td>2.3764503</td><td>2.3999817</td><td></td><td>--</td><td>--</td><td>--</td><td></td><td>--</td><td>--</td><td></td><td>--</td><td>--</td></tr>\n",
       "<tr><td>131.9037937311407</td><td>0.0178793848939</td><td>Gaia EDR3 3075023479574904576</td><td>3075023479574904576</td><td>3075023479574904576</td><td>43172</td><td></td><td>62402560</td><td>08473690+0001044</td><td>J084737.01+000103.4</td><td>131.90446839731</td><td>0.0991</td><td>0.01745997972</td><td>0.0616</td><td>15.9185</td><td>0.1253</td><td>151.8</td><td>0.132</td><td>-94.366</td><td>0.107</td><td>7.62129</td><td>0.814144</td><td>-27.91</td><td>0.15</td><td>J2016.0</td><td>5750.85</td><td>5698.75</td><td>5786.0</td><td>1.6488271</td><td>1.6288548</td><td>1.6791134</td><td>2.6790028</td><td>2.661657</td><td>2.6963484</td><td></td><td>--</td><td>--</td><td>--</td><td></td><td>--</td><td>--</td><td></td><td>--</td><td>--</td></tr>\n",
       "<tr><td>184.9548648891468</td><td>16.8085244139832</td><td>Gaia EDR3 3946449911319493504</td><td>3946449911319493504</td><td>3946449911319493504</td><td>--</td><td></td><td>72416873</td><td>12194916+1648308</td><td>J121949.18+164829.2</td><td>184.95493702648</td><td>0.0225</td><td>16.8079021021</td><td>0.019</td><td>18.3528</td><td>0.0266</td><td>15.537</td><td>0.03</td><td>-140.02</td><td>0.024</td><td>7.742777</td><td>0.831325</td><td>22.13</td><td>0.15</td><td>J2016.0</td><td>5740.5</td><td>5690.0</td><td>5802.3335</td><td>1.363087</td><td>1.3341899</td><td>1.3873898</td><td>1.8177776</td><td>1.8103718</td><td>1.8251835</td><td></td><td>--</td><td>--</td><td>--</td><td></td><td>--</td><td>--</td><td></td><td>--</td><td>--</td></tr>\n",
       "<tr><td>174.1487189852519</td><td>56.1353543141282</td><td>HD100831A</td><td>844865117036623232</td><td>844865117036623232</td><td>56622</td><td>100831A</td><td>137729151</td><td>11363571+5608074</td><td>J113635.47+560806.2</td><td>174.1472877129</td><td>0.0108</td><td>56.13494946936</td><td>0.0121</td><td>21.1416</td><td>0.0165</td><td>-179.449</td><td>0.014</td><td>-91.092</td><td>0.016</td><td>7.555699</td><td>0.801509</td><td>-15.8</td><td>0.19</td><td>J2016.0</td><td>5813.0</td><td>5757.0</td><td>5875.0</td><td>1.2488316</td><td>1.2226124</td><td>1.2732453</td><td>1.6043674</td><td>1.600464</td><td>1.6082708</td><td></td><td>--</td><td>--</td><td>--</td><td></td><td>--</td><td>--</td><td></td><td>--</td><td>--</td></tr>\n",
       "<tr><td>175.9498122214966</td><td>16.323240250982</td><td>HD101907</td><td>3972792766811569792</td><td>3972792766811569792</td><td>57204</td><td>101907</td><td>82594290</td><td>11434797+1619237</td><td>J114347.88+161924.1</td><td>175.94933105228</td><td>0.036</td><td>16.32340777502</td><td>0.0445</td><td>13.0257</td><td>0.0532</td><td>-103.899</td><td>0.047</td><td>37.693</td><td>0.047</td><td>7.848938</td><td>0.81811</td><td>-40.72</td><td>8.12</td><td>J2016.0</td><td>5779.0</td><td>5722.0</td><td>5830.75</td><td>1.9413784</td><td>1.9070704</td><td>1.9802493</td><td>3.7872663</td><td>3.7413585</td><td>3.833174</td><td></td><td>--</td><td>--</td><td>--</td><td></td><td>--</td><td>--</td><td></td><td>--</td><td>--</td></tr>\n",
       "<tr><td>25.3489666886568</td><td>6.0460397530115</td><td>HD10366</td><td>2562408107616075264</td><td>2562408107616075264</td><td>--</td><td>10366</td><td>347346532</td><td>01412375+0602456</td><td>J014123.77+060244.6</td><td>25.34914116403</td><td>0.0228</td><td>6.0456117938</td><td>0.0175</td><td>27.5624</td><td>0.0277</td><td>39.039</td><td>0.029</td><td>-96.291</td><td>0.02</td><td>7.77375</td><td>0.895947</td><td>-0.77</td><td>0.17</td><td>J2016.0</td><td>5533.75</td><td>5492.5</td><td>5598.5</td><td>0.9685715</td><td>0.9462968</td><td>0.9831745</td><td>0.79256743</td><td>0.7903287</td><td>0.7948062</td><td></td><td>--</td><td>--</td><td>--</td><td></td><td>--</td><td>--</td><td></td><td>--</td><td>--</td></tr>\n",
       "<tr><td>181.3022027901175</td><td>-1.5090389474724</td><td>HD104988</td><td>3601738894159011328</td><td>3601738894159011328</td><td>58949</td><td>104988</td><td>96243602</td><td>12051255-0130327</td><td>J120512.16-013031.8</td><td>181.29991927103</td><td>0.024</td><td>-1.50878503548</td><td>0.019</td><td>30.6646</td><td>0.0292</td><td>-513.614</td><td>0.034</td><td>57.13</td><td>0.021</td><td>7.962265</td><td>0.937739</td><td>16.76</td><td>0.17</td><td>J2016.0</td><td>5374.0</td><td>5300.5</td><td>5442.0</td><td>0.8470791</td><td>0.8260422</td><td>0.8707343</td><td>0.53917944</td><td>0.5374902</td><td>0.5408687</td><td></td><td>--</td><td>--</td><td>--</td><td></td><td>--</td><td>--</td><td></td><td>--</td><td>--</td></tr>\n",
       "<tr><td>185.5488956424887</td><td>73.2484831555027</td><td>HD107760</td><td>1690646191681632128</td><td>1690646191681632128</td><td>60331</td><td>107760</td><td>154486565</td><td>12221182+7314542</td><td>J122210.65+731456.5</td><td>185.54187680986</td><td>0.0224</td><td>73.24930272071</td><td>0.0186</td><td>23.3623</td><td>0.0219</td><td>-455.17</td><td>0.03</td><td>184.375</td><td>0.027</td><td>7.850432</td><td>0.952816</td><td>nan</td><td>nan</td><td>J2016.0</td><td>5330.0</td><td>5276.5</td><td>5390.0</td><td>1.2076399</td><td>1.1809033</td><td>1.2322533</td><td>1.0604213</td><td>1.0577992</td><td>1.0630435</td><td></td><td>--</td><td>--</td><td>--</td><td></td><td>--</td><td>--</td><td></td><td>--</td><td>--</td></tr>\n",
       "<tr><td>186.2455870729978</td><td>-4.2256517570903</td><td>HD108081</td><td>3692997981308734592</td><td>3692997981308734592</td><td>60574</td><td>108081</td><td>94894075</td><td>12245897-0413321</td><td>J122458.86-041334.5</td><td>186.24504561457</td><td>0.1276</td><td>-4.22658656907</td><td>0.093</td><td>20.9356</td><td>0.1474</td><td>-121.497</td><td>0.185</td><td>-210.333</td><td>0.135</td><td>7.944973</td><td>0.884962</td><td>60.05</td><td>5.46</td><td>J2016.0</td><td>5552.5</td><td>5456.84</td><td>5707.6665</td><td>1.1870996</td><td>1.1234328</td><td>1.2290848</td><td>1.2067666</td><td>1.1945566</td><td>1.2189766</td><td></td><td>--</td><td>--</td><td>--</td><td></td><td>--</td><td>--</td><td></td><td>--</td><td>--</td></tr>\n",
       "<tr><td>...</td><td>...</td><td>...</td><td>...</td><td>...</td><td>...</td><td>...</td><td>...</td><td>...</td><td>...</td><td>...</td><td>...</td><td>...</td><td>...</td><td>...</td><td>...</td><td>...</td><td>...</td><td>...</td><td>...</td><td>...</td><td>...</td><td>...</td><td>...</td><td>...</td><td>...</td><td>...</td><td>...</td><td>...</td><td>...</td><td>...</td><td>...</td><td>...</td><td>...</td><td>...</td><td>...</td><td>...</td><td>...</td><td>...</td><td>...</td><td>...</td><td>...</td><td>...</td><td>...</td></tr>\n",
       "<tr><td>135.8749766644898</td><td>76.3976803616875</td><td>HIP44463</td><td>1125453818656184448</td><td>1125453818656184448</td><td>44463</td><td>76539</td><td>802700838</td><td>09032988+7623517</td><td>--</td><td>135.87395054966</td><td>0.0131</td><td>76.39681927551</td><td>0.0143</td><td>18.0027</td><td>0.0164</td><td>-54.298</td><td>0.016</td><td>-193.745</td><td>0.017</td><td>7.713592</td><td>0.830553</td><td>15.31</td><td>0.17</td><td>J2016.0</td><td>5738.0</td><td>5691.6665</td><td>5800.0</td><td>1.4069018</td><td>1.376984</td><td>1.429901</td><td>1.9331452</td><td>1.9274266</td><td>1.9388638</td><td></td><td>--</td><td>--</td><td>--</td><td></td><td>--</td><td>--</td><td></td><td>--</td><td>--</td></tr>\n",
       "<tr><td>153.6490351162358</td><td>53.7708371628699</td><td>HIP50180</td><td>851711054387998976</td><td>851711054387998976</td><td>50180</td><td>88638</td><td>840982997</td><td>10143576+5346155</td><td>--</td><td>153.64705038957</td><td>0.4162</td><td>53.77127250826</td><td>0.4041</td><td>26.0164</td><td>0.6536</td><td>-263.926</td><td>0.563</td><td>97.949</td><td>0.564</td><td>7.846532</td><td>0.894003</td><td>48.83</td><td>0.91</td><td>J2016.0</td><td>5548.0</td><td>5512.0</td><td>5619.0</td><td>0.9133316</td><td>0.8903963</td><td>0.9253009</td><td>0.71202874</td><td>0.702359</td><td>0.72169846</td><td></td><td>--</td><td>--</td><td>--</td><td></td><td>--</td><td>--</td><td></td><td>--</td><td>--</td></tr>\n",
       "<tr><td>166.3690706208598</td><td>43.5267741524225</td><td>HIP54211</td><td>778947814402405120</td><td>778947814402602752</td><td>54211</td><td></td><td>252803603</td><td>11052903+4331357</td><td>J110524.36+433146.2</td><td>166.34205974427</td><td>0.0247</td><td>43.53094856108</td><td>0.0244</td><td>203.8876</td><td>0.0332</td><td>-4406.469</td><td>0.031</td><td>938.527</td><td>0.028</td><td>7.912665</td><td>2.104178</td><td>nan</td><td>nan</td><td>J2016.0</td><td>3872.2375</td><td>3578.0</td><td>4183.51</td><td>--</td><td>--</td><td>--</td><td>--</td><td>--</td><td>--</td><td></td><td>--</td><td>--</td><td>--</td><td></td><td>--</td><td>--</td><td></td><td>--</td><td>--</td></tr>\n",
       "<tr><td>251.4325745301967</td><td>19.6425628510714</td><td>HIP82059</td><td>4563055963458318208</td><td>4563055963458318208</td><td>82059</td><td>151329</td><td>1309041236</td><td>16454382+1938335</td><td>--</td><td>251.43201533304</td><td>0.2881</td><td>19.64287868286</td><td>0.2695</td><td>16.888</td><td>0.3984</td><td>-118.498</td><td>0.379</td><td>71.062</td><td>0.358</td><td>7.999983</td><td>0.860694</td><td>-15.31</td><td>0.52</td><td>J2016.0</td><td>5659.0</td><td>5575.0</td><td>5773.9</td><td>1.282191</td><td>1.231668</td><td>1.3211204</td><td>1.5190042</td><td>1.5065995</td><td>1.5314089</td><td></td><td>--</td><td>--</td><td>--</td><td></td><td>--</td><td>--</td><td></td><td>--</td><td>--</td></tr>\n",
       "<tr><td>259.1630128155512</td><td>50.6065342277611</td><td>HIP84520</td><td>1414660320615051264</td><td>1414660320615051264</td><td>84520</td><td>156728</td><td>1271005754</td><td>17163915+5036230</td><td>J171639.12+503624.4</td><td>259.16294875469</td><td>0.1896</td><td>50.60698336595</td><td>0.1815</td><td>24.1025</td><td>0.1953</td><td>-9.148</td><td>0.241</td><td>101.056</td><td>0.234</td><td>7.898359</td><td>0.806931</td><td>-1.52</td><td>0.35</td><td>J2016.0</td><td>5785.0</td><td>5702.5</td><td>5841.5</td><td>0.9622414</td><td>0.94371754</td><td>0.990285</td><td>0.9342783</td><td>0.9285394</td><td>0.9400172</td><td></td><td>--</td><td>--</td><td>--</td><td></td><td>--</td><td>--</td><td></td><td>--</td><td>--</td></tr>\n",
       "<tr><td>288.1146388473043</td><td>16.8501906855741</td><td>HIP94371</td><td>4513495442518338688</td><td>4513495442518338688</td><td>94371</td><td>179558</td><td>1806656081</td><td>19122751+1651010</td><td>--</td><td>288.11528972477</td><td>0.1212</td><td>16.84925153282</td><td>0.1485</td><td>22.0071</td><td>0.1712</td><td>140.16</td><td>0.17</td><td>-211.31</td><td>0.188</td><td>7.75132</td><td>0.933773</td><td>30.27</td><td>0.45</td><td>J2016.0</td><td>5429.6</td><td>5359.8</td><td>5562.0</td><td>1.2725664</td><td>1.2127022</td><td>1.3059273</td><td>1.2680225</td><td>1.2605454</td><td>1.2754997</td><td></td><td>--</td><td>--</td><td>--</td><td></td><td>--</td><td>--</td><td></td><td>--</td><td>--</td></tr>\n",
       "<tr><td>299.3058946807327</td><td>29.8240134392737</td><td>HIP98192</td><td>2030317253745186432</td><td>2030317253745186432</td><td>98192</td><td>189087</td><td>1863946501</td><td>19571345+2949265</td><td>--</td><td>299.30653062483</td><td>0.0186</td><td>29.82504608153</td><td>0.0234</td><td>37.0287</td><td>0.0287</td><td>124.137</td><td>0.026</td><td>232.344</td><td>0.031</td><td>7.689144</td><td>1.003065</td><td>-31.11</td><td>0.17</td><td>J2016.0</td><td>5296.0</td><td>5185.0</td><td>5345.3335</td><td>0.8297882</td><td>0.81454223</td><td>0.86569655</td><td>0.48800147</td><td>0.48722252</td><td>0.4887804</td><td></td><td>--</td><td>--</td><td>--</td><td></td><td>--</td><td>--</td><td></td><td>--</td><td>--</td></tr>\n",
       "<tr><td>301.229770312056</td><td>26.0542216897933</td><td>HIP98894</td><td>1834892977574788864</td><td>1834892977574788864</td><td>98894</td><td>190605</td><td>1949358229</td><td>20045514+2603163</td><td>J200455.18+260311.1</td><td>301.23002624503</td><td>0.0078</td><td>26.05252409184</td><td>0.0121</td><td>22.2794</td><td>0.0179</td><td>51.733</td><td>0.012</td><td>-381.96</td><td>0.015</td><td>7.529469</td><td>0.820893</td><td>23.7</td><td>0.12</td><td>J2016.0</td><td>5752.0</td><td>5709.5</td><td>5790.0</td><td>1.226076</td><td>1.2100352</td><td>1.244397</td><td>1.482535</td><td>1.4790529</td><td>1.4860171</td><td></td><td>--</td><td>--</td><td>--</td><td></td><td>--</td><td>--</td><td></td><td>--</td><td>--</td></tr>\n",
       "<tr><td>302.5555472486299</td><td>43.9455604845342</td><td>HIP99376</td><td>2081078269591424896</td><td>2081078269591424896</td><td>99376</td><td>191854</td><td>1971243197</td><td>20101331+4356440</td><td>--</td><td>302.55561898775</td><td>0.1123</td><td>43.94595548981</td><td>0.1131</td><td>19.2965</td><td>0.1282</td><td>11.622</td><td>0.141</td><td>88.876</td><td>0.149</td><td>7.756342</td><td>0.835521</td><td>nan</td><td>nan</td><td>J2016.0</td><td>5215.175</td><td>4425.0</td><td>6922.675</td><td>--</td><td>--</td><td>--</td><td>--</td><td>--</td><td>--</td><td></td><td>--</td><td>--</td><td>--</td><td></td><td>--</td><td>--</td><td></td><td>--</td><td>--</td></tr>\n",
       "<tr><td>110.029486736171</td><td>21.9811618445206</td><td>del Gem B</td><td>866177431955017600</td><td>866177431955017600</td><td>--</td><td></td><td>184842717</td><td>07200710+2158526</td><td>--</td><td>110.02935159815</td><td>0.0339</td><td>21.98122098192</td><td>0.0356</td><td>53.9507</td><td>0.0452</td><td>-28.196</td><td>0.041</td><td>13.306</td><td>0.034</td><td>7.971241</td><td>1.147288</td><td>nan</td><td>nan</td><td>J2016.0</td><td>4951.937</td><td>4777.0</td><td>5129.02</td><td>0.59054744</td><td>0.5504732</td><td>0.6345919</td><td>0.18893164</td><td>0.18857801</td><td>0.18928528</td><td></td><td>--</td><td>--</td><td>--</td><td></td><td>--</td><td>--</td><td></td><td>--</td><td>--</td></tr>\n",
       "</table>"
      ],
      "text/plain": [
       "<Table length=116>\n",
       "     ra_j2000        dec_j2000     ... spectrum_sophie_nobs spectrum_sophie_snr\n",
       "                                   ...                                         \n",
       "     float64          float64      ...        int64               float64      \n",
       "----------------- ---------------- ... -------------------- -------------------\n",
       "348.1509663089945  3.6179609972217 ...                   --                  --\n",
       "131.9037937311407  0.0178793848939 ...                   --                  --\n",
       "184.9548648891468 16.8085244139832 ...                   --                  --\n",
       "174.1487189852519 56.1353543141282 ...                   --                  --\n",
       "175.9498122214966  16.323240250982 ...                   --                  --\n",
       " 25.3489666886568  6.0460397530115 ...                   --                  --\n",
       "181.3022027901175 -1.5090389474724 ...                   --                  --\n",
       "185.5488956424887 73.2484831555027 ...                   --                  --\n",
       "186.2455870729978 -4.2256517570903 ...                   --                  --\n",
       "              ...              ... ...                  ...                 ...\n",
       "135.8749766644898 76.3976803616875 ...                   --                  --\n",
       "153.6490351162358 53.7708371628699 ...                   --                  --\n",
       "166.3690706208598 43.5267741524225 ...                   --                  --\n",
       "251.4325745301967 19.6425628510714 ...                   --                  --\n",
       "259.1630128155512 50.6065342277611 ...                   --                  --\n",
       "288.1146388473043 16.8501906855741 ...                   --                  --\n",
       "299.3058946807327 29.8240134392737 ...                   --                  --\n",
       " 301.229770312056 26.0542216897933 ...                   --                  --\n",
       "302.5555472486299 43.9455604845342 ...                   --                  --\n",
       " 110.029486736171 21.9811618445206 ...                   --                  --"
      ]
     },
     "execution_count": 51,
     "metadata": {},
     "output_type": "execute_result"
    }
   ],
   "source": [
    "no_spectra_table[(no_spectra_table['gmag'] >= 7.5) & (no_spectra_table['bp_rp'] >= 0.8)]"
   ]
  },
  {
   "cell_type": "code",
   "execution_count": 52,
   "metadata": {},
   "outputs": [
    {
     "data": {
      "image/png": "[encoded data removed]",
      "text/plain": [
       "<Figure size 720x576 with 1 Axes>"
      ]
     },
     "metadata": {
      "needs_background": "light"
     },
     "output_type": "display_data"
    }
   ],
   "source": [
    "fig, ax = plt.subplots(1, 1, figsize=(10,8))\n",
    "ms = 6\n",
    "ax.plot(no_spectra_table['bp_rp'], no_spectra_table['gmag'] + 5.*(np.log10(no_spectra_table['parallax']/1.e3)+1), \n",
    "        c='k', alpha=0.5, marker='.', ls='', ms=ms, label='no spectra ({0})'.format(len(no_spectra_table)))\n",
    "ax.plot(ok_spectra_table['bp_rp'], ok_spectra_table['gmag'] + 5.*(np.log10(ok_spectra_table['parallax']/1.e3)+1), \n",
    "        c='r', alpha=0.5, marker='.', ls='', ms=ms, label='ok spectra ({0})'.format(len(ok_spectra_table)))\n",
    "ax.plot(good_spectra_table['bp_rp'], good_spectra_table['gmag'] + 5.*(np.log10(good_spectra_table['parallax']/1.e3)+1), \n",
    "        c='g', alpha=0.5, marker='.', ls='', ms=ms, label='good spectra ({0})'.format(len(good_spectra_table)))\n",
    "ax.set_ylim([7,2.5])\n",
    "ax.set_xlim([0.5,1.7])\n",
    "plt.legend(fontsize=14)\n",
    "ax.set_xlabel('Bp-Rp', fontsize=16)\n",
    "ax.set_ylabel('Absolute G mag', fontsize=16);\n",
    "#plt.savefig('hires_cmag_snr{0}.png'.format(min_snr));"
   ]
  },
  {
   "cell_type": "markdown",
   "metadata": {},
   "source": [
    "#### HIDES (Takeda et al. 2005):"
   ]
  },
  {
   "cell_type": "code",
   "execution_count": 53,
   "metadata": {},
   "outputs": [],
   "source": [
    "import os\n",
    "hides_files = os.listdir('hides/reduced')\n",
    "hides_hds = [f[1:7].lstrip('0') for f in hides_files]"
   ]
  },
  {
   "cell_type": "code",
   "execution_count": 54,
   "metadata": {},
   "outputs": [
    {
     "data": {
      "text/plain": [
       "161"
      ]
     },
     "execution_count": 54,
     "metadata": {},
     "output_type": "execute_result"
    }
   ],
   "source": [
    "len(np.unique(hides_hds))"
   ]
  },
  {
   "cell_type": "code",
   "execution_count": 55,
   "metadata": {},
   "outputs": [
    {
     "data": {
      "text/html": [
       "<i>Table length=54</i>\n",
       "<table id=\"table140201022168272\" class=\"table-striped table-bordered table-condensed\">\n",
       "<thead><tr><th>ra_j2000</th><th>dec_j2000</th><th>primary_name</th><th>gaiadr2_source_id</th><th>gaiaedr3_source_id</th><th>hip</th><th>hd</th><th>tic</th><th>2mass</th><th>wisea</th><th>ra</th><th>ra_error</th><th>dec</th><th>dec_error</th><th>parallax</th><th>parallax_error</th><th>pmra</th><th>pmra_error</th><th>pmdec</th><th>pmdec_error</th><th>gmag</th><th>bp_rp</th><th>radial_velocity</th><th>radial_velocity_error</th><th>ref_epoch</th><th>gaia_teff</th><th>gaia_teff_lower</th><th>gaia_teff_upper</th><th>gaia_radius</th><th>gaia_radius_lower</th><th>gaia_radius_upper</th><th>gaia_lum</th><th>gaia_lum_lower</th><th>gaia_lum_upper</th><th>spectrum_hires</th><th>spectrum_hires_resolution</th><th>spectrum_hires_nobs</th><th>spectrum_hires_snr</th><th>spectrum_harps</th><th>spectrum_harps_nobs</th><th>spectrum_harps_snr</th><th>spectrum_sophie</th><th>spectrum_sophie_nobs</th><th>spectrum_sophie_snr</th></tr></thead>\n",
       "<thead><tr><th></th><th></th><th></th><th></th><th></th><th></th><th></th><th></th><th></th><th></th><th></th><th></th><th></th><th></th><th></th><th></th><th></th><th></th><th></th><th></th><th></th><th></th><th></th><th></th><th></th><th>K</th><th>K</th><th>K</th><th>Rsun</th><th>Rsun</th><th>Rsun</th><th>Lsun</th><th>Lsun</th><th>Lsun</th><th></th><th></th><th></th><th></th><th></th><th></th><th></th><th></th><th></th><th></th></tr></thead>\n",
       "<thead><tr><th>float64</th><th>float64</th><th>str29</th><th>int64</th><th>int64</th><th>int64</th><th>str29</th><th>int64</th><th>str16</th><th>str19</th><th>float64</th><th>float64</th><th>float64</th><th>float64</th><th>float64</th><th>float64</th><th>float64</th><th>float64</th><th>float64</th><th>float64</th><th>float64</th><th>float64</th><th>float64</th><th>float64</th><th>str7</th><th>float32</th><th>float32</th><th>float32</th><th>float32</th><th>float32</th><th>float32</th><th>float32</th><th>float32</th><th>float32</th><th>str29</th><th>float64</th><th>int64</th><th>float64</th><th>str29</th><th>int64</th><th>float64</th><th>str29</th><th>int64</th><th>float64</th></tr></thead>\n",
       "<tr><td>238.1689210400862</td><td>42.4515174680292</td><td>1 Her</td><td>1384195086792268800</td><td>1384195086792268800</td><td>77760</td><td>142373</td><td>157364190</td><td>15524052+4227052</td><td>J155240.95+422712.1</td><td>238.17156439238</td><td>0.0608</td><td>42.45431545672</td><td>0.0739</td><td>62.9028</td><td>0.0807</td><td>438.839</td><td>0.08</td><td>629.541</td><td>0.099</td><td>4.424265</td><td>0.784468</td><td>-56.01</td><td>0.16</td><td>J2016.0</td><td>6073.0</td><td>5888.5</td><td>6158.0</td><td>1.6416837</td><td>1.5966756</td><td>1.7461708</td><td>3.3028345</td><td>3.2885118</td><td>3.3171573</td><td></td><td>--</td><td>--</td><td>--</td><td></td><td>--</td><td>--</td><td></td><td>--</td><td>--</td></tr>\n",
       "<tr><td>191.2475206828197</td><td>39.2789161469845</td><td>10 CVn</td><td>1521686782461765888</td><td>1521686782461765888</td><td>62207</td><td>110897</td><td>389853353</td><td>12445938+3916441</td><td>--</td><td>191.24545542461</td><td>0.0197</td><td>39.27953401499</td><td>0.0174</td><td>56.9588</td><td>0.0323</td><td>-359.699</td><td>0.018</td><td>139.016</td><td>0.018</td><td>5.803025</td><td>0.756415</td><td>80.45</td><td>0.19</td><td>J2016.0</td><td>5967.75</td><td>5926.5</td><td>6026.3335</td><td>0.98277783</td><td>0.96376306</td><td>0.9965062</td><td>1.103692</td><td>1.1017659</td><td>1.1056182</td><td>true</td><td>102700.0</td><td>3</td><td>139.7855500400524</td><td></td><td>--</td><td>--</td><td></td><td>--</td><td>--</td></tr>\n",
       "<tr><td>54.2182654350701</td><td>0.4016644716193</td><td>10 Tau</td><td>3263836568393943808</td><td>3263836568394170880</td><td>16852</td><td>22484</td><td>649766486</td><td>03365238+0024054</td><td>J033652.23+002400.9</td><td>54.21723179469</td><td>0.1306</td><td>0.39952459488</td><td>0.1093</td><td>71.837</td><td>0.1503</td><td>-232.563</td><td>0.164</td><td>-481.472</td><td>0.143</td><td>4.141093</td><td>0.757795</td><td>nan</td><td>nan</td><td>J2016.0</td><td>6082.3335</td><td>5830.0</td><td>6164.6665</td><td>--</td><td>--</td><td>--</td><td>--</td><td>--</td><td>--</td><td>true</td><td>71600.0</td><td>2</td><td>151.42654985173505</td><td></td><td>--</td><td>--</td><td></td><td>--</td><td>--</td></tr>\n",
       "<tr><td>143.9145924739025</td><td>35.8101325142152</td><td>11 LMi</td><td>798068905726303232</td><td>798068905726303232</td><td>47080</td><td>82885</td><td>8915802</td><td>09353959+3548366</td><td>J093538.92+354834.4</td><td>143.91061083593</td><td>0.0692</td><td>35.80898121341</td><td>0.0601</td><td>89.0092</td><td>0.0937</td><td>-726.514</td><td>0.07</td><td>-259.057</td><td>0.062</td><td>5.200431</td><td>0.934127</td><td>14.39</td><td>0.17</td><td>J2016.0</td><td>5661.0</td><td>5488.0</td><td>6794.75</td><td>0.93610704</td><td>0.64977777</td><td>0.99605566</td><td>0.8108086</td><td>0.8083409</td><td>0.8132763</td><td>true</td><td>71600.0</td><td>1</td><td>95.0</td><td></td><td>--</td><td>--</td><td></td><td>--</td><td>--</td></tr>\n",
       "<tr><td>81.1060970084435</td><td>17.3835351141963</td><td>111 Tau</td><td>3400292798990117888</td><td>3400292798990117888</td><td>25278</td><td>35296</td><td>47346402</td><td>05242545+1723006</td><td>J052425.63+172301.0</td><td>81.10726354597</td><td>0.0837</td><td>17.3835033119</td><td>0.0574</td><td>68.5908</td><td>0.104</td><td>250.483</td><td>0.108</td><td>-7.156</td><td>0.077</td><td>4.850188</td><td>0.708018</td><td>37.67</td><td>0.24</td><td>J2016.0</td><td>6171.0</td><td>6060.0</td><td>6327.25</td><td>1.1929284</td><td>1.1347377</td><td>1.23703</td><td>1.8592839</td><td>1.8510683</td><td>1.8674996</td><td></td><td>--</td><td>--</td><td>--</td><td></td><td>--</td><td>--</td><td></td><td>--</td><td>--</td></tr>\n",
       "<tr><td>41.0499442308761</td><td>49.2284485192149</td><td>13 Per</td><td>438829629113960704</td><td>438829629114680704</td><td>12777</td><td>16895</td><td>302158903</td><td>02441197+4913423</td><td>J024412.13+491342.8</td><td>41.05222216366</td><td>0.1241</td><td>49.22805187168</td><td>0.1205</td><td>89.685</td><td>0.1638</td><td>334.708</td><td>0.182</td><td>-89.251</td><td>0.161</td><td>3.983001</td><td>0.692074</td><td>25.09</td><td>0.66</td><td>J2016.0</td><td>6282.5</td><td>6072.25</td><td>6353.25</td><td>1.3403078</td><td>1.3106226</td><td>1.4347303</td><td>2.5213537</td><td>2.5080245</td><td>2.534683</td><td>true</td><td>71600.0</td><td>1</td><td>108.0</td><td></td><td>--</td><td>--</td><td></td><td>--</td><td>--</td></tr>\n",
       "<tr><td>242.6013153162529</td><td>43.8176409463358</td><td>14 Her</td><td>1385293808145621504</td><td>1385293808145621504</td><td>79248</td><td>145675</td><td>219483057</td><td>16102432+4349037</td><td>J161024.44+434900.5</td><td>242.60212681176</td><td>0.0222</td><td>43.81632083727</td><td>0.0268</td><td>55.8657</td><td>0.0291</td><td>131.745</td><td>0.028</td><td>-297.025</td><td>0.037</td><td>6.39524</td><td>1.002047</td><td>-13.99</td><td>0.15</td><td>J2016.0</td><td>5282.0</td><td>5209.3335</td><td>5533.0</td><td>1.0036839</td><td>0.91468686</td><td>1.0318806</td><td>0.70645136</td><td>0.7059177</td><td>0.706985</td><td>true</td><td>71600.0</td><td>7</td><td>274.238946905796</td><td></td><td>--</td><td>--</td><td></td><td>--</td><td>--</td></tr>\n",
       "<tr><td>79.785314374634</td><td>40.0990514113722</td><td>15 Aur</td><td>188771135583573504</td><td>188771135583573504</td><td>24813</td><td>34411</td><td>409104974</td><td>05190848+4005565</td><td>J051909.51+400547.6</td><td>79.78833900873</td><td>0.1068</td><td>40.09609817128</td><td>0.0608</td><td>79.6021</td><td>0.1005</td><td>520.569</td><td>0.132</td><td>-664.488</td><td>0.097</td><td>4.525885</td><td>0.790791</td><td>66.53</td><td>0.14</td><td>J2016.0</td><td>5979.0</td><td>5839.0</td><td>6157.0</td><td>1.2711927</td><td>1.1987543</td><td>1.3328816</td><td>1.8605087</td><td>1.8540174</td><td>1.867</td><td>true</td><td>71600.0</td><td>7</td><td>214.2498541423074</td><td></td><td>--</td><td>--</td><td></td><td>--</td><td>--</td></tr>\n",
       "<tr><td>240.2610853730992</td><td>33.303510965763</td><td>15 CrB</td><td>1323427759184545536</td><td>1323427759184545536</td><td>78459</td><td>143761</td><td>458494003</td><td>16010264+3318124</td><td>J160102.51+331804.6</td><td>240.26003097651</td><td>0.0329</td><td>33.300078769</td><td>0.0425</td><td>57.1076</td><td>0.0508</td><td>-198.278</td><td>0.043</td><td>-772.245</td><td>0.053</td><td>5.2328</td><td>0.798955</td><td>17.98</td><td>0.14</td><td>J2016.0</td><td>5852.5</td><td>5793.25</td><td>6008.25</td><td>1.3289931</td><td>1.2609841</td><td>1.3563164</td><td>1.8668346</td><td>1.8626639</td><td>1.8710054</td><td>true</td><td>71600.0</td><td>2</td><td>140.0071426749364</td><td></td><td>--</td><td>--</td><td></td><td>--</td><td>--</td></tr>\n",
       "<tr><td>...</td><td>...</td><td>...</td><td>...</td><td>...</td><td>...</td><td>...</td><td>...</td><td>...</td><td>...</td><td>...</td><td>...</td><td>...</td><td>...</td><td>...</td><td>...</td><td>...</td><td>...</td><td>...</td><td>...</td><td>...</td><td>...</td><td>...</td><td>...</td><td>...</td><td>...</td><td>...</td><td>...</td><td>...</td><td>...</td><td>...</td><td>...</td><td>...</td><td>...</td><td>...</td><td>...</td><td>...</td><td>...</td><td>...</td><td>...</td><td>...</td><td>...</td><td>...</td><td>...</td></tr>\n",
       "<tr><td>105.8769134615568</td><td>29.3370814225828</td><td>HD52711</td><td>887822001246832384</td><td>887822001246832384</td><td>34017</td><td>52711</td><td>91686663</td><td>07033043+2920150</td><td>J070330.59+292005.1</td><td>105.8777119696</td><td>0.0385</td><td>29.33340231276</td><td>0.0369</td><td>52.7712</td><td>0.0438</td><td>156.623</td><td>0.054</td><td>-827.8</td><td>0.052</td><td>5.789583</td><td>0.772835</td><td>24.68</td><td>0.19</td><td>J2016.0</td><td>5933.35</td><td>5885.0</td><td>6200.0</td><td>1.0794346</td><td>0.98858255</td><td>1.0972444</td><td>1.30103</td><td>1.2980326</td><td>1.3040274</td><td>true</td><td>102700.0</td><td>5</td><td>292.05992535779365</td><td></td><td>--</td><td>--</td><td></td><td>--</td><td>--</td></tr>\n",
       "<tr><td>23.4284821526627</td><td>-7.025344108611</td><td>HD9562</td><td>2477891500647336704</td><td>2477891500647336704</td><td>7276</td><td>9562</td><td>29845542</td><td>01334282-0701311</td><td>J013342.97-070132.2</td><td>23.42926407995</td><td>0.0465</td><td>-7.02571111597</td><td>0.0237</td><td>33.5829</td><td>0.0527</td><td>174.613</td><td>0.07</td><td>-82.577</td><td>0.027</td><td>5.601216</td><td>0.804189</td><td>-14.83</td><td>0.19</td><td>J2016.0</td><td>5896.0</td><td>5823.25</td><td>6018.0</td><td>1.8745805</td><td>1.799346</td><td>1.9217114</td><td>3.825893</td><td>3.8088298</td><td>3.842956</td><td>true</td><td>71600.0</td><td>2</td><td>136.61991070118586</td><td></td><td>--</td><td>--</td><td></td><td>--</td><td>--</td></tr>\n",
       "<tr><td>2.1705774156078</td><td>36.6271256247555</td><td>HIP699</td><td>2877522230262577024</td><td>2877522230262577024</td><td>699</td><td>400</td><td>612002469</td><td>00084037+3637377</td><td>J000840.83+363736.4</td><td>2.16994537178</td><td>0.017</td><td>36.62657221496</td><td>0.0112</td><td>30.6686</td><td>0.0252</td><td>-114.128</td><td>0.026</td><td>-124.518</td><td>0.015</td><td>6.082332</td><td>0.675087</td><td>-15.1</td><td>0.15</td><td>J2016.0</td><td>6221.5</td><td>6140.1333</td><td>6295.0</td><td>1.4688498</td><td>1.4347496</td><td>1.508037</td><td>2.9122581</td><td>2.9054701</td><td>2.9190462</td><td></td><td>--</td><td>--</td><td>--</td><td></td><td>--</td><td>--</td><td></td><td>--</td><td>--</td></tr>\n",
       "<tr><td>289.9124947689875</td><td>37.3305405939957</td><td>HIP94981</td><td>2051069711047203712</td><td>2051069711047203712</td><td>94981</td><td>181655</td><td>1714738338</td><td>19193897+3719500</td><td>--</td><td>289.9121513252</td><td>0.0718</td><td>37.32972399625</td><td>0.0977</td><td>39.8305</td><td>0.0925</td><td>-61.445</td><td>0.096</td><td>-183.735</td><td>0.124</td><td>6.127782</td><td>0.84008</td><td>2.2</td><td>0.18</td><td>J2016.0</td><td>5704.6665</td><td>5676.6665</td><td>5765.0</td><td>1.3417642</td><td>1.3138267</td><td>1.3550333</td><td>1.7177824</td><td>1.7125969</td><td>1.7229679</td><td>true</td><td>71600.0</td><td>1</td><td>77.0</td><td></td><td>--</td><td>--</td><td></td><td>--</td><td>--</td></tr>\n",
       "<tr><td>291.2424998809593</td><td>11.9444134668138</td><td>b Aql</td><td>4315804351350378496</td><td>4315804351350378496</td><td>95447</td><td>182572</td><td>359981217</td><td>19245822+1156401</td><td>--</td><td>291.24577656808</td><td>0.0405</td><td>11.94727112335</td><td>0.0462</td><td>67.0153</td><td>0.0657</td><td>721.292</td><td>0.054</td><td>642.968</td><td>0.059</td><td>4.971372</td><td>0.904215</td><td>-100.27</td><td>0.15</td><td>J2016.0</td><td>5581.25</td><td>5488.0</td><td>5787.0</td><td>1.4274313</td><td>1.3277344</td><td>1.4763521</td><td>1.7812753</td><td>1.7767261</td><td>1.7858244</td><td>true</td><td>102700.0</td><td>5</td><td>279.5335400269528</td><td></td><td>--</td><td>--</td><td></td><td>--</td><td>--</td></tr>\n",
       "<tr><td>138.5855918201797</td><td>61.4233169639246</td><td>c UMa</td><td>1040054235130174080</td><td>1040054235130174080</td><td>45333</td><td>79028</td><td>86177169</td><td>09142054+6125239</td><td>J091420.52+612523.9</td><td>138.58551910282</td><td>0.0947</td><td>61.42317881515</td><td>0.0998</td><td>49.4145</td><td>0.1544</td><td>-7.826</td><td>0.112</td><td>-31.083</td><td>0.149</td><td>5.021104</td><td>0.785966</td><td>-15.4</td><td>7.19</td><td>J2016.0</td><td>5882.0</td><td>5835.0</td><td>6011.0503</td><td>1.636865</td><td>1.5673363</td><td>1.6633406</td><td>2.8894856</td><td>2.8769724</td><td>2.9019988</td><td></td><td>--</td><td>--</td><td>--</td><td></td><td>--</td><td>--</td><td></td><td>--</td><td>--</td></tr>\n",
       "<tr><td>17.0679289393636</td><td>54.9201558892397</td><td>mu. Cas</td><td>411413822074322432</td><td>411413822074322432</td><td>5336</td><td>6582</td><td>252191219</td><td>01081597+5455148</td><td>J010820.48+545456.6</td><td>17.0947498612</td><td>0.2806</td><td>54.91320397756</td><td>0.289</td><td>130.2881</td><td>0.4348</td><td>3468.251</td><td>0.354</td><td>-1564.844</td><td>0.365</td><td>4.948012</td><td>0.922226</td><td>-96.93</td><td>0.18</td><td>J2016.0</td><td>5630.0</td><td>5443.0</td><td>5826.225</td><td>--</td><td>--</td><td>--</td><td>--</td><td>--</td><td>--</td><td></td><td>--</td><td>--</td><td>--</td><td></td><td>--</td><td>--</td><td></td><td>--</td><td>--</td></tr>\n",
       "<tr><td>121.9410677112424</td><td>21.5818130113987</td><td>mu. Cnc</td><td>676768820148924416</td><td>676768820148924416</td><td>39780</td><td>67228</td><td>446006789</td><td>08074584+2134543</td><td>J080745.85+213454.1</td><td>121.94117872459</td><td>0.0714</td><td>21.58151183942</td><td>0.0704</td><td>41.9916</td><td>0.0841</td><td>23.227</td><td>0.104</td><td>-67.764</td><td>0.088</td><td>5.127919</td><td>0.811164</td><td>-35.94</td><td>0.15</td><td>J2016.0</td><td>5900.0</td><td>5775.0</td><td>6073.25</td><td>1.8612112</td><td>1.7565372</td><td>1.9426551</td><td>3.7817607</td><td>3.766931</td><td>3.7965903</td><td>true</td><td>71600.0</td><td>2</td><td>148.05404418657398</td><td></td><td>--</td><td>--</td><td></td><td>--</td><td>--</td></tr>\n",
       "<tr><td>12.5316206769626</td><td>-10.6443288478993</td><td>phi02 Cet</td><td>2473608009504466688</td><td>2473608009504466688</td><td>3909</td><td>4813</td><td>3962869</td><td>00500759-1038394</td><td>--</td><td>12.53058946078</td><td>0.076</td><td>-10.64534919402</td><td>0.0432</td><td>62.8022</td><td>0.0951</td><td>-228.031</td><td>0.128</td><td>-229.577</td><td>0.1</td><td>5.029543</td><td>0.686372</td><td>8.23</td><td>0.17</td><td>J2016.0</td><td>6222.0</td><td>6140.5</td><td>6264.0</td><td>1.17109</td><td>1.1554383</td><td>1.2023829</td><td>1.8518051</td><td>1.8453655</td><td>1.8582447</td><td>true</td><td>71600.0</td><td>1</td><td>91.0</td><td></td><td>--</td><td>--</td><td></td><td>--</td><td>--</td></tr>\n",
       "<tr><td>206.8155757166774</td><td>17.4568915432223</td><td>tau Boo A</td><td>1244571953471006720</td><td>1244571953471006720</td><td>67275</td><td>120136</td><td>72506701</td><td>13471581+1727249</td><td>J134715.36+172725.6</td><td>206.8133909945</td><td>0.0689</td><td>17.45717363773</td><td>0.0643</td><td>64.047</td><td>0.1093</td><td>-468.923</td><td>0.095</td><td>63.469</td><td>0.074</td><td>4.356021</td><td>0.644483</td><td>-16.94</td><td>0.35</td><td>J2016.0</td><td>6420.0</td><td>6265.5</td><td>6490.5</td><td>1.4959807</td><td>1.4636585</td><td>1.5706687</td><td>3.425207</td><td>3.3999949</td><td>3.450419</td><td>true</td><td>71600.0</td><td>3</td><td>155.3351215919954</td><td></td><td>--</td><td>--</td><td></td><td>--</td><td>--</td></tr>\n",
       "</table>"
      ],
      "text/plain": [
       "<Table length=54>\n",
       "     ra_j2000         dec_j2000     ... spectrum_sophie_nobs spectrum_sophie_snr\n",
       "                                    ...                                         \n",
       "     float64           float64      ...        int64               float64      \n",
       "----------------- ----------------- ... -------------------- -------------------\n",
       "238.1689210400862  42.4515174680292 ...                   --                  --\n",
       "191.2475206828197  39.2789161469845 ...                   --                  --\n",
       " 54.2182654350701   0.4016644716193 ...                   --                  --\n",
       "143.9145924739025  35.8101325142152 ...                   --                  --\n",
       " 81.1060970084435  17.3835351141963 ...                   --                  --\n",
       " 41.0499442308761  49.2284485192149 ...                   --                  --\n",
       "242.6013153162529  43.8176409463358 ...                   --                  --\n",
       "  79.785314374634  40.0990514113722 ...                   --                  --\n",
       "240.2610853730992   33.303510965763 ...                   --                  --\n",
       "              ...               ... ...                  ...                 ...\n",
       "105.8769134615568  29.3370814225828 ...                   --                  --\n",
       " 23.4284821526627   -7.025344108611 ...                   --                  --\n",
       "  2.1705774156078  36.6271256247555 ...                   --                  --\n",
       "289.9124947689875  37.3305405939957 ...                   --                  --\n",
       "291.2424998809593  11.9444134668138 ...                   --                  --\n",
       "138.5855918201797  61.4233169639246 ...                   --                  --\n",
       " 17.0679289393636  54.9201558892397 ...                   --                  --\n",
       "121.9410677112424  21.5818130113987 ...                   --                  --\n",
       " 12.5316206769626 -10.6443288478993 ...                   --                  --\n",
       "206.8155757166774  17.4568915432223 ...                   --                  --"
      ]
     },
     "execution_count": 55,
     "metadata": {},
     "output_type": "execute_result"
    }
   ],
   "source": [
    "table[np.isin(table['hd'], hides_hds) & (table['spectrum_harps'] != 'true') & (table['spectrum_sophie'] != 'true')]"
   ]
  },
  {
   "cell_type": "markdown",
   "metadata": {},
   "source": [
    "#### FIES archive:"
   ]
  },
  {
   "cell_type": "code",
   "execution_count": 33,
   "metadata": {
    "collapsed": true,
    "jupyter": {
     "outputs_hidden": true
    }
   },
   "outputs": [
    {
     "name": "stderr",
     "output_type": "stream",
     "text": [
      "/Users/mbedell/opt/miniconda3/envs/gr8stars/lib/python3.7/site-packages/ipykernel_launcher.py:4: ConversionWarning: Some errors were detected !\n",
      "    Line #4 (got 1 columns instead of 11)\n",
      "    Line #5 (got 1 columns instead of 11)\n",
      "    Line #16 (got 1 columns instead of 11)\n",
      "    Line #25 (got 1 columns instead of 11)\n",
      "    Line #36 (got 1 columns instead of 11)\n",
      "    Line #44 (got 1 columns instead of 11)\n",
      "    Line #45 (got 1 columns instead of 11)\n",
      "    Line #47 (got 1 columns instead of 11)\n",
      "    Line #48 (got 1 columns instead of 11)\n",
      "    Line #50 (got 1 columns instead of 11)\n",
      "    Line #51 (got 1 columns instead of 11)\n",
      "    Line #52 (got 1 columns instead of 11)\n",
      "    Line #55 (got 1 columns instead of 11)\n",
      "    Line #58 (got 1 columns instead of 11)\n",
      "    Line #60 (got 1 columns instead of 11)\n",
      "    Line #64 (got 1 columns instead of 11)\n",
      "    Line #67 (got 12 columns instead of 11)\n",
      "    Line #81 (got 1 columns instead of 11)\n",
      "    Line #89 (got 1 columns instead of 11)\n",
      "    Line #97 (got 1 columns instead of 11)\n",
      "    Line #163 (got 12 columns instead of 11)\n",
      "    Line #164 (got 12 columns instead of 11)\n",
      "    Line #165 (got 12 columns instead of 11)\n",
      "    Line #166 (got 12 columns instead of 11)\n",
      "    Line #168 (got 12 columns instead of 11)\n",
      "    Line #169 (got 12 columns instead of 11)\n",
      "    Line #171 (got 12 columns instead of 11)\n",
      "    Line #172 (got 12 columns instead of 11)\n",
      "    Line #173 (got 12 columns instead of 11)\n",
      "    Line #174 (got 12 columns instead of 11)\n",
      "    Line #778 (got 1 columns instead of 11)\n",
      "    Line #779 (got 1 columns instead of 11)\n",
      "    Line #781 (got 1 columns instead of 11)\n",
      "    Line #808 (got 1 columns instead of 11)\n",
      "    Line #823 (got 1 columns instead of 11)\n",
      "    Line #825 (got 1 columns instead of 11)\n",
      "    Line #829 (got 1 columns instead of 11)\n",
      "    Line #870 (got 1 columns instead of 11)\n",
      "    Line #872 (got 1 columns instead of 11)\n",
      "    Line #876 (got 1 columns instead of 11)\n",
      "    Line #877 (got 1 columns instead of 11)\n",
      "    Line #878 (got 1 columns instead of 11)\n",
      "    Line #879 (got 1 columns instead of 11)\n",
      "    Line #880 (got 1 columns instead of 11)\n",
      "    Line #882 (got 1 columns instead of 11)\n",
      "    Line #883 (got 1 columns instead of 11)\n",
      "    Line #884 (got 1 columns instead of 11)\n",
      "    Line #885 (got 1 columns instead of 11)\n",
      "    Line #898 (got 1 columns instead of 11)\n",
      "    Line #899 (got 1 columns instead of 11)\n",
      "    Line #900 (got 1 columns instead of 11)\n",
      "    Line #901 (got 1 columns instead of 11)\n",
      "    Line #902 (got 1 columns instead of 11)\n",
      "    Line #903 (got 1 columns instead of 11)\n",
      "    Line #907 (got 1 columns instead of 11)\n",
      "    Line #910 (got 1 columns instead of 11)\n",
      "    Line #913 (got 1 columns instead of 11)\n",
      "    Line #914 (got 1 columns instead of 11)\n",
      "    Line #915 (got 1 columns instead of 11)\n",
      "    Line #916 (got 1 columns instead of 11)\n",
      "    Line #917 (got 1 columns instead of 11)\n",
      "    Line #918 (got 1 columns instead of 11)\n",
      "    Line #919 (got 1 columns instead of 11)\n",
      "    Line #920 (got 1 columns instead of 11)\n",
      "    Line #921 (got 1 columns instead of 11)\n",
      "    Line #922 (got 1 columns instead of 11)\n",
      "    Line #923 (got 1 columns instead of 11)\n",
      "    Line #924 (got 1 columns instead of 11)\n",
      "    Line #926 (got 1 columns instead of 11)\n",
      "    Line #927 (got 1 columns instead of 11)\n",
      "    Line #928 (got 1 columns instead of 11)\n",
      "    Line #929 (got 1 columns instead of 11)\n",
      "    Line #932 (got 1 columns instead of 11)\n",
      "    Line #933 (got 1 columns instead of 11)\n",
      "    Line #934 (got 1 columns instead of 11)\n",
      "    Line #939 (got 1 columns instead of 11)\n",
      "    Line #940 (got 1 columns instead of 11)\n",
      "    Line #942 (got 1 columns instead of 11)\n",
      "    Line #944 (got 1 columns instead of 11)\n",
      "    Line #993 (got 1 columns instead of 11)\n",
      "    Line #994 (got 1 columns instead of 11)\n",
      "    Line #995 (got 1 columns instead of 11)\n",
      "    Line #996 (got 12 columns instead of 11)\n",
      "    Line #997 (got 1 columns instead of 11)\n",
      "    Line #999 (got 1 columns instead of 11)\n",
      "    Line #1000 (got 1 columns instead of 11)\n",
      "    Line #1001 (got 1 columns instead of 11)\n",
      "    Line #1002 (got 1 columns instead of 11)\n",
      "    Line #1003 (got 1 columns instead of 11)\n",
      "    Line #1004 (got 1 columns instead of 11)\n",
      "    Line #1005 (got 1 columns instead of 11)\n",
      "    Line #1006 (got 1 columns instead of 11)\n",
      "    Line #1007 (got 1 columns instead of 11)\n",
      "    Line #1008 (got 1 columns instead of 11)\n",
      "    Line #1009 (got 1 columns instead of 11)\n",
      "    Line #1010 (got 12 columns instead of 11)\n",
      "    Line #1011 (got 1 columns instead of 11)\n",
      "    Line #1012 (got 1 columns instead of 11)\n",
      "    Line #1013 (got 1 columns instead of 11)\n",
      "    Line #1014 (got 1 columns instead of 11)\n",
      "    Line #1016 (got 1 columns instead of 11)\n",
      "    Line #1017 (got 1 columns instead of 11)\n",
      "    Line #1019 (got 1 columns instead of 11)\n",
      "    Line #1020 (got 1 columns instead of 11)\n",
      "    Line #1023 (got 1 columns instead of 11)\n",
      "    Line #1024 (got 1 columns instead of 11)\n",
      "    Line #1025 (got 1 columns instead of 11)\n",
      "    Line #1026 (got 1 columns instead of 11)\n",
      "    Line #1027 (got 1 columns instead of 11)\n",
      "    Line #1028 (got 1 columns instead of 11)\n",
      "    Line #1029 (got 1 columns instead of 11)\n",
      "    Line #1032 (got 1 columns instead of 11)\n",
      "    Line #1041 (got 1 columns instead of 11)\n",
      "    Line #1043 (got 1 columns instead of 11)\n",
      "    Line #1045 (got 1 columns instead of 11)\n",
      "    Line #1048 (got 1 columns instead of 11)\n",
      "    Line #1049 (got 1 columns instead of 11)\n",
      "    Line #1050 (got 1 columns instead of 11)\n",
      "    Line #1051 (got 1 columns instead of 11)\n",
      "    Line #1052 (got 1 columns instead of 11)\n",
      "    Line #1053 (got 1 columns instead of 11)\n",
      "    Line #1056 (got 1 columns instead of 11)\n",
      "    Line #1057 (got 1 columns instead of 11)\n",
      "    Line #1058 (got 1 columns instead of 11)\n",
      "    Line #1060 (got 1 columns instead of 11)\n",
      "    Line #1061 (got 1 columns instead of 11)\n",
      "    Line #1062 (got 1 columns instead of 11)\n",
      "    Line #1063 (got 1 columns instead of 11)\n",
      "    Line #1064 (got 1 columns instead of 11)\n",
      "    Line #1065 (got 1 columns instead of 11)\n",
      "    Line #1070 (got 1 columns instead of 11)\n",
      "    Line #1071 (got 1 columns instead of 11)\n",
      "    Line #1072 (got 1 columns instead of 11)\n",
      "    Line #1073 (got 1 columns instead of 11)\n",
      "    Line #1074 (got 1 columns instead of 11)\n",
      "    Line #1075 (got 1 columns instead of 11)\n",
      "    Line #1131 (got 10 columns instead of 11)\n",
      "    Line #1132 (got 10 columns instead of 11)\n",
      "    Line #1133 (got 10 columns instead of 11)\n",
      "    Line #1134 (got 10 columns instead of 11)\n",
      "    Line #1135 (got 10 columns instead of 11)\n",
      "    Line #1136 (got 10 columns instead of 11)\n",
      "    Line #1137 (got 10 columns instead of 11)\n",
      "    Line #1138 (got 10 columns instead of 11)\n",
      "    Line #1304 (got 10 columns instead of 11)\n",
      "    Line #1305 (got 10 columns instead of 11)\n",
      "    Line #1306 (got 10 columns instead of 11)\n",
      "    Line #1307 (got 10 columns instead of 11)\n",
      "    Line #1308 (got 10 columns instead of 11)\n",
      "    Line #1309 (got 10 columns instead of 11)\n",
      "    Line #1310 (got 10 columns instead of 11)\n",
      "    Line #1311 (got 10 columns instead of 11)\n",
      "    Line #1312 (got 10 columns instead of 11)\n",
      "    Line #1313 (got 10 columns instead of 11)\n",
      "    Line #1314 (got 10 columns instead of 11)\n",
      "    Line #1315 (got 10 columns instead of 11)\n",
      "    Line #1316 (got 10 columns instead of 11)\n",
      "    Line #1317 (got 10 columns instead of 11)\n",
      "    Line #1318 (got 10 columns instead of 11)\n",
      "    Line #1319 (got 10 columns instead of 11)\n",
      "    Line #1320 (got 10 columns instead of 11)\n",
      "    Line #1321 (got 10 columns instead of 11)\n",
      "    Line #1322 (got 10 columns instead of 11)\n",
      "    Line #1323 (got 10 columns instead of 11)\n",
      "    Line #1324 (got 10 columns instead of 11)\n",
      "    Line #1325 (got 10 columns instead of 11)\n",
      "    Line #1326 (got 10 columns instead of 11)\n",
      "    Line #1327 (got 10 columns instead of 11)\n",
      "    Line #1328 (got 10 columns instead of 11)\n",
      "    Line #1329 (got 10 columns instead of 11)\n",
      "    Line #1330 (got 10 columns instead of 11)\n",
      "    Line #1331 (got 10 columns instead of 11)\n",
      "    Line #1332 (got 10 columns instead of 11)\n",
      "    Line #1333 (got 10 columns instead of 11)\n",
      "    Line #1334 (got 10 columns instead of 11)\n",
      "    Line #1335 (got 10 columns instead of 11)\n",
      "    Line #1336 (got 10 columns instead of 11)\n",
      "    Line #1337 (got 10 columns instead of 11)\n",
      "    Line #1338 (got 10 columns instead of 11)\n",
      "    Line #1339 (got 10 columns instead of 11)\n",
      "    Line #1340 (got 10 columns instead of 11)\n",
      "    Line #1341 (got 10 columns instead of 11)\n",
      "    Line #1342 (got 10 columns instead of 11)\n",
      "    Line #1343 (got 10 columns instead of 11)\n",
      "    Line #1344 (got 10 columns instead of 11)\n",
      "    Line #1345 (got 10 columns instead of 11)\n",
      "    Line #1346 (got 10 columns instead of 11)\n",
      "    Line #1404 (got 10 columns instead of 11)\n",
      "    Line #1429 (got 1 columns instead of 11)\n",
      "    Line #1430 (got 1 columns instead of 11)\n",
      "    Line #1431 (got 1 columns instead of 11)\n",
      "    Line #1432 (got 1 columns instead of 11)\n",
      "    Line #1434 (got 1 columns instead of 11)\n",
      "    Line #1435 (got 1 columns instead of 11)\n",
      "    Line #1436 (got 1 columns instead of 11)\n",
      "    Line #1437 (got 1 columns instead of 11)\n",
      "    Line #1442 (got 1 columns instead of 11)\n",
      "    Line #1445 (got 1 columns instead of 11)\n",
      "    Line #1446 (got 1 columns instead of 11)\n",
      "    Line #1448 (got 1 columns instead of 11)\n",
      "    Line #1449 (got 1 columns instead of 11)\n",
      "    Line #1450 (got 1 columns instead of 11)\n",
      "    Line #1454 (got 1 columns instead of 11)\n",
      "    Line #1455 (got 1 columns instead of 11)\n",
      "    Line #1457 (got 1 columns instead of 11)\n",
      "    Line #1458 (got 1 columns instead of 11)\n",
      "    Line #1459 (got 1 columns instead of 11)\n",
      "    Line #1460 (got 1 columns instead of 11)\n",
      "    Line #1472 (got 12 columns instead of 11)\n",
      "    Line #1473 (got 12 columns instead of 11)\n",
      "    Line #1474 (got 12 columns instead of 11)\n",
      "    Line #1475 (got 12 columns instead of 11)\n",
      "    Line #1476 (got 12 columns instead of 11)\n",
      "    Line #1477 (got 12 columns instead of 11)\n",
      "    Line #1478 (got 12 columns instead of 11)\n",
      "    Line #1479 (got 12 columns instead of 11)\n",
      "    Line #1480 (got 12 columns instead of 11)\n",
      "    Line #1481 (got 12 columns instead of 11)\n",
      "    Line #1482 (got 12 columns instead of 11)\n",
      "    Line #1483 (got 12 columns instead of 11)\n",
      "    Line #1484 (got 12 columns instead of 11)\n",
      "    Line #1485 (got 12 columns instead of 11)\n",
      "    Line #1486 (got 12 columns instead of 11)\n",
      "    Line #1487 (got 12 columns instead of 11)\n",
      "    Line #1488 (got 13 columns instead of 11)\n",
      "    Line #1489 (got 13 columns instead of 11)\n",
      "    Line #1490 (got 13 columns instead of 11)\n",
      "    Line #1491 (got 13 columns instead of 11)\n",
      "    Line #1492 (got 13 columns instead of 11)\n",
      "    Line #1493 (got 13 columns instead of 11)\n",
      "    Line #1494 (got 13 columns instead of 11)\n",
      "    Line #1495 (got 13 columns instead of 11)\n",
      "    Line #1496 (got 13 columns instead of 11)\n",
      "    Line #1497 (got 13 columns instead of 11)\n",
      "    Line #1498 (got 13 columns instead of 11)\n",
      "    Line #1499 (got 13 columns instead of 11)\n",
      "    Line #1500 (got 13 columns instead of 11)\n",
      "    Line #1501 (got 13 columns instead of 11)\n",
      "    Line #1502 (got 13 columns instead of 11)\n",
      "    Line #1503 (got 13 columns instead of 11)\n",
      "    Line #1504 (got 13 columns instead of 11)\n",
      "    Line #1505 (got 13 columns instead of 11)\n",
      "    Line #1506 (got 13 columns instead of 11)\n",
      "    Line #1507 (got 13 columns instead of 11)\n",
      "    Line #1508 (got 13 columns instead of 11)\n",
      "    Line #1509 (got 13 columns instead of 11)\n",
      "    Line #1510 (got 13 columns instead of 11)\n",
      "    Line #1511 (got 13 columns instead of 11)\n",
      "    Line #1512 (got 13 columns instead of 11)\n",
      "    Line #1513 (got 12 columns instead of 11)\n",
      "    Line #1514 (got 12 columns instead of 11)\n",
      "    Line #1515 (got 12 columns instead of 11)\n",
      "    Line #1516 (got 12 columns instead of 11)\n",
      "    Line #1517 (got 12 columns instead of 11)\n",
      "    Line #1518 (got 12 columns instead of 11)\n",
      "    Line #1519 (got 12 columns instead of 11)\n",
      "    Line #1520 (got 12 columns instead of 11)\n",
      "    Line #1521 (got 12 columns instead of 11)\n",
      "    Line #1522 (got 12 columns instead of 11)\n",
      "    Line #1523 (got 12 columns instead of 11)\n",
      "    Line #1524 (got 12 columns instead of 11)\n",
      "    Line #1525 (got 12 columns instead of 11)\n",
      "    Line #1526 (got 12 columns instead of 11)\n",
      "    Line #1527 (got 12 columns instead of 11)\n",
      "    Line #1528 (got 12 columns instead of 11)\n",
      "    Line #1529 (got 12 columns instead of 11)\n",
      "    Line #1530 (got 12 columns instead of 11)\n",
      "    Line #1531 (got 12 columns instead of 11)\n",
      "    Line #1532 (got 12 columns instead of 11)\n",
      "    Line #1533 (got 12 columns instead of 11)\n",
      "    Line #1534 (got 12 columns instead of 11)\n",
      "    Line #1535 (got 12 columns instead of 11)\n",
      "    Line #1536 (got 12 columns instead of 11)\n",
      "    Line #1537 (got 12 columns instead of 11)\n",
      "    Line #1538 (got 12 columns instead of 11)\n",
      "    Line #1539 (got 12 columns instead of 11)\n",
      "    Line #1540 (got 12 columns instead of 11)\n",
      "    Line #1541 (got 12 columns instead of 11)\n",
      "    Line #1542 (got 1 columns instead of 11)\n",
      "    Line #1543 (got 1 columns instead of 11)\n",
      "    Line #1561 (got 1 columns instead of 11)\n",
      "    Line #1564 (got 1 columns instead of 11)\n",
      "    Line #1565 (got 1 columns instead of 11)\n",
      "    Line #1566 (got 1 columns instead of 11)\n",
      "    Line #1570 (got 1 columns instead of 11)\n",
      "    Line #1571 (got 1 columns instead of 11)\n",
      "    Line #1572 (got 1 columns instead of 11)\n",
      "    Line #1573 (got 1 columns instead of 11)\n",
      "    Line #1576 (got 1 columns instead of 11)\n",
      "    Line #1577 (got 1 columns instead of 11)\n",
      "    Line #1578 (got 1 columns instead of 11)\n",
      "    Line #1580 (got 1 columns instead of 11)\n",
      "    Line #1582 (got 1 columns instead of 11)\n",
      "    Line #1583 (got 1 columns instead of 11)\n",
      "    Line #1584 (got 1 columns instead of 11)\n",
      "    Line #1585 (got 1 columns instead of 11)\n",
      "    Line #1591 (got 1 columns instead of 11)\n",
      "    Line #1595 (got 1 columns instead of 11)\n",
      "    Line #1598 (got 1 columns instead of 11)\n",
      "  after removing the cwd from sys.path.\n"
     ]
    }
   ],
   "source": [
    "fies = np.genfromtxt('fies/fies_mortier.log', names=['primary_name','fits_name','mode',\n",
    "                                             'resolution','exptime','date','name1','idk',\n",
    "                                             'ra','dec','name2'],\n",
    "             skip_header=2, invalid_raise=False, dtype=None, encoding=None)"
   ]
  },
  {
   "cell_type": "code",
   "execution_count": 34,
   "metadata": {},
   "outputs": [],
   "source": [
    "fies = Table(fies[fies['resolution'] == 'HiRes'])"
   ]
  },
  {
   "cell_type": "code",
   "execution_count": 77,
   "metadata": {},
   "outputs": [
    {
     "data": {
      "text/html": [
       "<div><i>Table length=3</i>\n",
       "<table id=\"table140535798090512\" class=\"table-striped table-bordered table-condensed\">\n",
       "<thead><tr><th>primary_name</th><th>fits_name</th><th>mode</th><th>resolution</th><th>exptime</th><th>date</th><th>name1</th><th>idk</th><th>ra</th><th>dec</th><th>name2</th></tr></thead>\n",
       "<thead><tr><th>str16</th><th>str15</th><th>str5</th><th>str10</th><th>float64</th><th>str21</th><th>str18</th><th>str6</th><th>float64</th><th>float64</th><th>str17</th></tr></thead>\n",
       "<tr><td>HD101177A</td><td>FIye070034.fits</td><td>F4</td><td>HiRes</td><td>180.0</td><td>2015-05-07T20:51:43</td><td>HD101177</td><td>None</td><td>174.6647469133</td><td>45.1217411156</td><td>HD101177</td></tr>\n",
       "<tr><td>HD101177A</td><td>FIyg120101.fits</td><td>F4</td><td>HiRes</td><td>300.0</td><td>2015-07-12T20:59:43</td><td>HIP056809A</td><td>None</td><td>174.6825180187</td><td>45.0899533484</td><td>HIP056809A</td></tr>\n",
       "<tr><td>HD101177A</td><td>FIyg120102.fits</td><td>F4</td><td>HiRes</td><td>1500.0</td><td>2015-07-12T21:08:05</td><td>HIP056809B</td><td>None</td><td>174.6792936872</td><td>45.0888591995</td><td>HIP056809B</td></tr>\n",
       "</table></div>"
      ],
      "text/plain": [
       "<Table length=3>\n",
       "primary_name    fits_name    mode ...       ra            dec        name2   \n",
       "   str16          str15      str5 ...    float64        float64      str17   \n",
       "------------ --------------- ---- ... -------------- ------------- ----------\n",
       "   HD101177A FIye070034.fits   F4 ... 174.6647469133 45.1217411156   HD101177\n",
       "   HD101177A FIyg120101.fits   F4 ... 174.6825180187 45.0899533484 HIP056809A\n",
       "   HD101177A FIyg120102.fits   F4 ... 174.6792936872 45.0888591995 HIP056809B"
      ]
     },
     "execution_count": 77,
     "metadata": {},
     "output_type": "execute_result"
    }
   ],
   "source": [
    "fies[fies['primary_name'] == 'HD101177A']"
   ]
  },
  {
   "cell_type": "code",
   "execution_count": 66,
   "metadata": {},
   "outputs": [],
   "source": [
    "fies_stars = np.unique(fies['primary_name'])\n",
    "table_primary_nospaces = np.array([t.replace(\" \",\"\") for t in table['primary_name']])\n",
    "\n",
    "table.add_column(Column(name='spectrum_fies', dtype='<U29', length=len(table)))\n",
    "table.add_column(Column(name='spectrum_fies_nobs', dtype='int', length=len(table)))\n",
    "table.add_column(Column(name='spectrum_fies_exptime', length=len(table)))\n",
    "\n",
    "for f in fies_stars:\n",
    "    table['spectrum_fies'][table_primary_nospaces == f] = 'true'\n",
    "    all_fies = fies[fies['primary_name'] == f]\n",
    "    table['spectrum_fies_nobs'][table_primary_nospaces == f] = len(all_fies)\n",
    "    table['spectrum_fies_exptime'][table_primary_nospaces == f] = np.sum(all_fies['exptime'])"
   ]
  },
  {
   "cell_type": "code",
   "execution_count": 67,
   "metadata": {},
   "outputs": [
    {
     "data": {
      "text/html": [
       "<div><i>Table length=2858</i>\n",
       "<table id=\"table140535785080464\" class=\"table-striped table-bordered table-condensed\">\n",
       "<thead><tr><th>ra_j2000</th><th>dec_j2000</th><th>primary_name</th><th>gaiadr2_source_id</th><th>gaiaedr3_source_id</th><th>hip</th><th>hd</th><th>tic</th><th>2mass</th><th>wisea</th><th>ra</th><th>ra_error</th><th>dec</th><th>dec_error</th><th>parallax</th><th>parallax_error</th><th>pmra</th><th>pmra_error</th><th>pmdec</th><th>pmdec_error</th><th>gmag</th><th>bp_rp</th><th>radial_velocity</th><th>radial_velocity_error</th><th>ref_epoch</th><th>gaia_teff</th><th>gaia_teff_lower</th><th>gaia_teff_upper</th><th>gaia_radius</th><th>gaia_radius_lower</th><th>gaia_radius_upper</th><th>gaia_lum</th><th>gaia_lum_lower</th><th>gaia_lum_upper</th><th>spectrum_hires</th><th>spectrum_hires_resolution</th><th>spectrum_hires_nobs</th><th>spectrum_hires_snr</th><th>spectrum_harps</th><th>spectrum_harps_nobs</th><th>spectrum_harps_snr</th><th>spectrum_sophie</th><th>spectrum_sophie_nobs</th><th>spectrum_sophie_snr</th><th>spectrum_fies</th><th>spectrum_fies_nobs</th><th>spectrum_fies_exptime</th></tr></thead>\n",
       "<thead><tr><th>float64</th><th>float64</th><th>str29</th><th>int64</th><th>int64</th><th>int64</th><th>str7</th><th>int64</th><th>str16</th><th>str19</th><th>float64</th><th>float64</th><th>float64</th><th>float64</th><th>float64</th><th>float64</th><th>float64</th><th>float64</th><th>float64</th><th>float64</th><th>float64</th><th>float64</th><th>float64</th><th>float64</th><th>str7</th><th>float64</th><th>float64</th><th>float64</th><th>float64</th><th>float64</th><th>float64</th><th>float64</th><th>float64</th><th>float64</th><th>str4</th><th>float64</th><th>int64</th><th>float64</th><th>str4</th><th>int64</th><th>float64</th><th>str4</th><th>int64</th><th>float64</th><th>str29</th><th>int64</th><th>float64</th></tr></thead>\n",
       "<tr><td>238.1689210400862</td><td>42.4515174680292</td><td>1 Her</td><td>1384195086792268800</td><td>1384195086792268800</td><td>77760</td><td>142373</td><td>157364190</td><td>15524052+4227052</td><td>J155240.95+422712.1</td><td>238.17156439238</td><td>0.0608</td><td>42.45431545672</td><td>0.0739</td><td>62.9028</td><td>0.0807</td><td>438.839</td><td>0.08</td><td>629.541</td><td>0.099</td><td>4.424265</td><td>0.784468</td><td>-56.01</td><td>0.16</td><td>J2016.0</td><td>6073.0</td><td>5888.5</td><td>6158.0</td><td>1.6416836977005005</td><td>1.5966756343841553</td><td>1.7461707592010498</td><td>3.3028345108032227</td><td>3.2885117530822754</td><td>3.31715726852417</td><td>--</td><td>--</td><td>--</td><td>--</td><td>--</td><td>--</td><td>--</td><td>--</td><td>--</td><td>--</td><td></td><td>0</td><td>0.0</td></tr>\n",
       "<tr><td>126.1458923835362</td><td>-3.7512424989997</td><td>1 Hya</td><td>3066710282611675776</td><td>3066710282611675776</td><td>41211</td><td>70958</td><td>168975758</td><td>08243502-0345045</td><td>J082434.89-034504.6</td><td>126.14494794137</td><td>0.045</td><td>-3.75135791807</td><td>0.032</td><td>36.9674</td><td>0.061</td><td>-212.044</td><td>0.06</td><td>-25.969</td><td>0.059</td><td>5.468879</td><td>0.648508</td><td>96.87</td><td>5.64</td><td>J2016.0</td><td>6320.5</td><td>6246.0</td><td>6395.0</td><td>1.5511353015899658</td><td>1.5152051448822021</td><td>1.5883586406707764</td><td>3.4593920707702637</td><td>3.446709156036377</td><td>3.4720749855041504</td><td>--</td><td>--</td><td>--</td><td>--</td><td>--</td><td>--</td><td>--</td><td>--</td><td>--</td><td>--</td><td></td><td>0</td><td>0.0</td></tr>\n",
       "<tr><td>191.2475206828197</td><td>39.2789161469845</td><td>10 CVn</td><td>1521686782461765888</td><td>1521686782461765888</td><td>62207</td><td>110897</td><td>389853353</td><td>12445938+3916441</td><td>--</td><td>191.24545542461</td><td>0.0197</td><td>39.27953401499</td><td>0.0174</td><td>56.9588</td><td>0.0323</td><td>-359.699</td><td>0.018</td><td>139.016</td><td>0.018</td><td>5.803025</td><td>0.756415</td><td>80.45</td><td>0.19</td><td>J2016.0</td><td>5967.75</td><td>5926.5</td><td>6026.33349609375</td><td>0.9827778339385986</td><td>0.9637630581855774</td><td>0.9965062141418457</td><td>1.1036920547485352</td><td>1.1017658710479736</td><td>1.1056182384490967</td><td>true</td><td>102700.0</td><td>3</td><td>139.8</td><td>--</td><td>--</td><td>--</td><td>--</td><td>--</td><td>--</td><td></td><td>0</td><td>0.0</td></tr>\n",
       "<tr><td>54.2182654350701</td><td>0.4016644716193</td><td>10 Tau</td><td>3263836568393943808</td><td>3263836568394170880</td><td>16852</td><td>22484</td><td>649766486</td><td>03365238+0024054</td><td>J033652.23+002400.9</td><td>54.21723179469</td><td>0.1306</td><td>0.39952459488</td><td>0.1093</td><td>71.837</td><td>0.1503</td><td>-232.563</td><td>0.164</td><td>-481.472</td><td>0.143</td><td>4.141093</td><td>0.757795</td><td>nan</td><td>nan</td><td>J2016.0</td><td>6082.33349609375</td><td>5830.0</td><td>6164.66650390625</td><td>--</td><td>--</td><td>--</td><td>--</td><td>--</td><td>--</td><td>true</td><td>71600.0</td><td>2</td><td>151.4</td><td>--</td><td>--</td><td>--</td><td>--</td><td>--</td><td>--</td><td></td><td>0</td><td>0.0</td></tr>\n",
       "<tr><td>74.9346751253041</td><td>15.9167324100169</td><td>101 Tau</td><td>3393284752392701312</td><td>3393284752392701312</td><td>23214</td><td>31845</td><td>389121767</td><td>04594432+1555002</td><td>J045944.38+155459.9</td><td>74.93506827868</td><td>0.0241</td><td>15.91660060912</td><td>0.0127</td><td>22.3771</td><td>0.0262</td><td>85.068</td><td>0.033</td><td>-29.655</td><td>0.021</td><td>6.644502</td><td>0.59449</td><td>41.72</td><td>0.54</td><td>J2016.0</td><td>6520.25</td><td>6444.5</td><td>6551.5</td><td>1.4123555421829224</td><td>1.3989139795303345</td><td>1.4457528591156006</td><td>3.2481775283813477</td><td>3.2326443195343018</td><td>3.2637107372283936</td><td>--</td><td>--</td><td>--</td><td>--</td><td>true</td><td>1</td><td>123.5</td><td>--</td><td>--</td><td>--</td><td></td><td>0</td><td>0.0</td></tr>\n",
       "<tr><td>76.8625232015097</td><td>18.6450499366847</td><td>104 Tau</td><td>3407611182744289152</td><td>3407611182744289152</td><td>23835</td><td>32923</td><td>27136704</td><td>05072692+1838420</td><td>--</td><td>76.86503115411</td><td>0.0897</td><td>18.64513194789</td><td>0.0566</td><td>62.8252</td><td>0.1094</td><td>534.674</td><td>0.111</td><td>18.449</td><td>0.083</td><td>4.732457</td><td>0.844065</td><td>20.58</td><td>0.15</td><td>J2016.0</td><td>5835.0</td><td>5700.0</td><td>6022.0</td><td>1.5503768920898438</td><td>1.4555847644805908</td><td>1.6246854066848755</td><td>2.510340929031372</td><td>2.4968111515045166</td><td>2.5238707065582275</td><td>true</td><td>71600.0</td><td>3</td><td>196.4</td><td>true</td><td>48</td><td>597.9</td><td>--</td><td>--</td><td>--</td><td></td><td>0</td><td>0.0</td></tr>\n",
       "<tr><td>315.1410034667797</td><td>-4.7302596237905</td><td>11 Aqr</td><td>6912276699251278848</td><td>6912276699251278848</td><td>103682</td><td>199960</td><td>248854510</td><td>21003382-0443486</td><td>J210033.85-044350.1</td><td>315.1412210745</td><td>0.0209</td><td>-4.73087375776</td><td>0.0137</td><td>36.9971</td><td>0.0293</td><td>48.795</td><td>0.028</td><td>-138.18</td><td>0.021</td><td>6.063653</td><td>0.779556</td><td>-17.34</td><td>0.14</td><td>J2016.0</td><td>5920.0</td><td>5863.0</td><td>5967.0</td><td>1.3689217567443848</td><td>1.347441554069519</td><td>1.395668387413025</td><td>2.0736658573150635</td><td>2.0693469047546387</td><td>2.0779848098754883</td><td>true</td><td>71600.0</td><td>1</td><td>86.0</td><td>true</td><td>77</td><td>596.6</td><td>--</td><td>--</td><td>--</td><td></td><td>0</td><td>0.0</td></tr>\n",
       "<tr><td>143.9145924739025</td><td>35.8101325142152</td><td>11 LMi</td><td>798068905726303232</td><td>798068905726303232</td><td>47080</td><td>82885</td><td>8915802</td><td>09353959+3548366</td><td>J093538.92+354834.4</td><td>143.91061083593</td><td>0.0692</td><td>35.80898121341</td><td>0.0601</td><td>89.0092</td><td>0.0937</td><td>-726.514</td><td>0.07</td><td>-259.057</td><td>0.062</td><td>5.200431</td><td>0.934127</td><td>14.39</td><td>0.17</td><td>J2016.0</td><td>5661.0</td><td>5488.0</td><td>6794.75</td><td>0.9361070394515991</td><td>0.6497777700424194</td><td>0.9960556626319885</td><td>0.8108085989952087</td><td>0.8083409070968628</td><td>0.8132762908935547</td><td>true</td><td>71600.0</td><td>1</td><td>95.0</td><td>--</td><td>--</td><td>--</td><td>--</td><td>--</td><td>--</td><td>true</td><td>1</td><td>180.0</td></tr>\n",
       "<tr><td>81.1060970084435</td><td>17.3835351141963</td><td>111 Tau</td><td>3400292798990117888</td><td>3400292798990117888</td><td>25278</td><td>35296</td><td>47346402</td><td>05242545+1723006</td><td>J052425.63+172301.0</td><td>81.10726354597</td><td>0.0837</td><td>17.3835033119</td><td>0.0574</td><td>68.5908</td><td>0.104</td><td>250.483</td><td>0.108</td><td>-7.156</td><td>0.077</td><td>4.850188</td><td>0.708018</td><td>37.67</td><td>0.24</td><td>J2016.0</td><td>6171.0</td><td>6060.0</td><td>6327.25</td><td>1.192928433418274</td><td>1.1347377300262451</td><td>1.237030029296875</td><td>1.8592839241027832</td><td>1.8510682582855225</td><td>1.867499589920044</td><td>--</td><td>--</td><td>--</td><td>--</td><td>--</td><td>--</td><td>--</td><td>--</td><td>--</td><td>--</td><td></td><td>0</td><td>0.0</td></tr>\n",
       "<tr><td>80.9099146163007</td><td>17.324116905683</td><td>111 Tau B</td><td>3394298532176344960</td><td>3394298532176344960</td><td>25220</td><td>35171</td><td>47345026</td><td>05233836+1719267</td><td>J052338.57+171926.8</td><td>80.91108310812</td><td>0.02</td><td>17.32409154335</td><td>0.0139</td><td>68.7662</td><td>0.0246</td><td>250.984</td><td>0.027</td><td>-5.707</td><td>0.019</td><td>7.543094</td><td>1.348195</td><td>37.94</td><td>0.13</td><td>J2016.0</td><td>4628.66650390625</td><td>4576.0</td><td>4712.0</td><td>0.6723672747612</td><td>0.6487954258918762</td><td>0.6879332661628723</td><td>0.18695256114006042</td><td>0.18674258887767792</td><td>0.18716253340244293</td><td>--</td><td>--</td><td>--</td><td>--</td><td>true</td><td>7</td><td>216.2</td><td>--</td><td>--</td><td>--</td><td></td><td>0</td><td>0.0</td></tr>\n",
       "<tr><td>...</td><td>...</td><td>...</td><td>...</td><td>...</td><td>...</td><td>...</td><td>...</td><td>...</td><td>...</td><td>...</td><td>...</td><td>...</td><td>...</td><td>...</td><td>...</td><td>...</td><td>...</td><td>...</td><td>...</td><td>...</td><td>...</td><td>...</td><td>...</td><td>...</td><td>...</td><td>...</td><td>...</td><td>...</td><td>...</td><td>...</td><td>...</td><td>...</td><td>...</td><td>...</td><td>...</td><td>...</td><td>...</td><td>...</td><td>...</td><td>...</td><td>...</td><td>...</td><td>...</td><td>...</td><td>...</td><td>...</td></tr>\n",
       "<tr><td>265.4920968199907</td><td>72.1569015732554</td><td>psi01 Dra B</td><td>1651268763281885952</td><td>1651268763282397312</td><td>86620</td><td>162004</td><td>441804565</td><td>17415811+7209251</td><td>--</td><td>265.49259095531</td><td>0.0528</td><td>72.15567296218</td><td>0.0531</td><td>44.0496</td><td>0.0515</td><td>34.067</td><td>0.075</td><td>-276.438</td><td>0.083</td><td>5.656994</td><td>0.689108</td><td>-10.85</td><td>0.36</td><td>J2016.0</td><td>6213.33349609375</td><td>6100.0</td><td>6310.33349609375</td><td>1.2557345628738403</td><td>1.2174259424209595</td><td>1.3028292655944824</td><td>2.117332696914673</td><td>2.1136281490325928</td><td>2.121037244796753</td><td>--</td><td>--</td><td>--</td><td>--</td><td>--</td><td>--</td><td>--</td><td>--</td><td>--</td><td>--</td><td></td><td>0</td><td>0.0</td></tr>\n",
       "<tr><td>101.6847372295683</td><td>43.5774245466935</td><td>psi05 Aur</td><td>952326504452337792</td><td>952326504452337792</td><td>32480</td><td>48682A</td><td>307754027</td><td>06464434+4334385</td><td>J064644.35+433440.6</td><td>101.68472063329</td><td>0.0724</td><td>43.57815575951</td><td>0.078</td><td>60.2024</td><td>0.0865</td><td>-2.705</td><td>0.08</td><td>164.523</td><td>0.074</td><td>5.105546</td><td>0.736392</td><td>-23.78</td><td>0.2</td><td>J2016.0</td><td>6064.0</td><td>6025.0</td><td>6169.33349609375</td><td>1.245977759361267</td><td>1.203794002532959</td><td>1.2621604204177856</td><td>1.8912633657455444</td><td>1.8820643424987793</td><td>1.9004623889923096</td><td>true</td><td>102700.0</td><td>5</td><td>199.9</td><td>--</td><td>--</td><td>--</td><td>--</td><td>--</td><td>--</td><td></td><td>0</td><td>0.0</td></tr>\n",
       "<tr><td>133.1492129350178</td><td>28.3308208317972</td><td>rho Cnc</td><td>704967037090946688</td><td>704967037090946688</td><td>43587</td><td>75732</td><td>332064670</td><td>08523579+2819509</td><td>J085235.41+281948.5</td><td>133.14676062083</td><td>0.0299</td><td>28.32978300036</td><td>0.0198</td><td>79.4482</td><td>0.0429</td><td>-485.681</td><td>0.04</td><td>-233.517</td><td>0.037</td><td>5.732681</td><td>1.008672</td><td>27.26</td><td>0.14</td><td>J2016.0</td><td>5306.0</td><td>5153.64990234375</td><td>5547.0</td><td>0.9463781118392944</td><td>0.8659300804138184</td><td>1.0031579732894897</td><td>0.639577329158783</td><td>0.6387168169021606</td><td>0.6404378414154053</td><td>true</td><td>229700.0</td><td>5</td><td>224.1</td><td>true</td><td>20</td><td>221.8</td><td>--</td><td>--</td><td>--</td><td></td><td>0</td><td>0.0</td></tr>\n",
       "<tr><td>243.6702226831735</td><td>33.85861434163</td><td>sig02 CrB</td><td>1328866562170960512</td><td>1328866562170960512</td><td>79607</td><td>146361A</td><td>17542164</td><td>16144084+3351307</td><td>J161440.64+335130.2</td><td>243.66878716838</td><td>0.0335</td><td>33.85822643128</td><td>0.0412</td><td>44.0575</td><td>0.0459</td><td>-268.216</td><td>0.043</td><td>-87.282</td><td>0.058</td><td>5.431288</td><td>0.805306</td><td>nan</td><td>nan</td><td>J2016.0</td><td>5873.66650390625</td><td>5776.0</td><td>6009.0</td><td>1.5609130859375</td><td>1.4913957118988037</td><td>1.61414635181427</td><td>2.612698554992676</td><td>2.6050362586975098</td><td>2.620360851287842</td><td>true</td><td>71600.0</td><td>2</td><td>120.9</td><td>--</td><td>--</td><td>--</td><td>--</td><td>--</td><td>--</td><td></td><td>0</td><td>0.0</td></tr>\n",
       "<tr><td>137.5981111060804</td><td>67.1340171599767</td><td>sig02 UMa A</td><td>1068982214258617216</td><td>1068982214258617216</td><td>45038</td><td>--</td><td>219709102</td><td>09102351+6708030</td><td>J091023.55+670802.1</td><td>137.59826115668</td><td>0.0428</td><td>67.13362657576</td><td>0.0613</td><td>48.7404</td><td>0.0763</td><td>13.119</td><td>0.057</td><td>-87.881</td><td>0.079</td><td>4.679625</td><td>0.657651</td><td>-3.09</td><td>0.16</td><td>J2016.0</td><td>6315.33349609375</td><td>6211.75</td><td>6361.0</td><td>1.7301928997039795</td><td>1.705439567565918</td><td>1.7883774042129517</td><td>4.290114879608154</td><td>4.268640995025635</td><td>4.311588764190674</td><td>--</td><td>--</td><td>--</td><td>--</td><td>--</td><td>--</td><td>--</td><td>--</td><td>--</td><td>--</td><td></td><td>0</td><td>0.0</td></tr>\n",
       "<tr><td>206.8155757166774</td><td>17.4568915432223</td><td>tau Boo A</td><td>1244571953471006720</td><td>1244571953471006720</td><td>67275</td><td>120136</td><td>72506701</td><td>13471581+1727249</td><td>J134715.36+172725.6</td><td>206.8133909945</td><td>0.0689</td><td>17.45717363773</td><td>0.0643</td><td>64.047</td><td>0.1093</td><td>-468.923</td><td>0.095</td><td>63.469</td><td>0.074</td><td>4.356021</td><td>0.644483</td><td>-16.94</td><td>0.35</td><td>J2016.0</td><td>6420.0</td><td>6265.5</td><td>6490.5</td><td>1.4959807395935059</td><td>1.4636584520339966</td><td>1.5706686973571777</td><td>3.4252068996429443</td><td>3.3999948501586914</td><td>3.4504189491271973</td><td>true</td><td>71600.0</td><td>3</td><td>155.3</td><td>--</td><td>--</td><td>--</td><td>--</td><td>--</td><td>--</td><td></td><td>0</td><td>0.0</td></tr>\n",
       "<tr><td>142.2872140307247</td><td>-2.7689394557207</td><td>tau01 Hya</td><td>3837697972130323456</td><td>3837697972130323456</td><td>46509</td><td>81997</td><td>77549389</td><td>09290891-0246083</td><td>J092909.00-024608.4</td><td>142.28773185495</td><td>0.4133</td><td>-2.76907841031</td><td>0.5363</td><td>54.9187</td><td>0.4523</td><td>116.374</td><td>0.517</td><td>-31.265</td><td>0.546</td><td>4.465013</td><td>0.616504</td><td>11.3</td><td>0.53</td><td>J2016.0</td><td>6440.5</td><td>6366.5</td><td>6513.33349609375</td><td>1.5783369541168213</td><td>1.5432357788085938</td><td>1.615241289138794</td><td>3.8616464138031006</td><td>3.816453695297241</td><td>3.90683913230896</td><td>--</td><td>--</td><td>--</td><td>--</td><td>--</td><td>--</td><td>--</td><td>--</td><td>--</td><td>--</td><td></td><td>0</td><td>0.0</td></tr>\n",
       "<tr><td>123.0530017120375</td><td>17.6476414755374</td><td>zet Cnc A</td><td>657244586015485440</td><td>657244586015485440</td><td>--</td><td>68257</td><td>800823403</td><td>--</td><td>--</td><td>123.05355357003</td><td>0.1512</td><td>17.64698177411</td><td>0.1447</td><td>40.8879</td><td>0.1463</td><td>118.325</td><td>0.181</td><td>-148.433</td><td>0.174</td><td>5.51876</td><td>0.685199</td><td>nan</td><td>nan</td><td>J2016.0</td><td>5190.33349609375</td><td>4436.66650390625</td><td>6938.0</td><td>--</td><td>--</td><td>--</td><td>--</td><td>--</td><td>--</td><td>--</td><td>--</td><td>--</td><td>--</td><td>--</td><td>--</td><td>--</td><td>--</td><td>--</td><td>--</td><td></td><td>0</td><td>0.0</td></tr>\n",
       "<tr><td>123.0549982992694</td><td>17.6484907402495</td><td>zet Cnc C</td><td>657244521593508992</td><td>657244521593508992</td><td>--</td><td>68256</td><td>800823400</td><td>--</td><td>--</td><td>123.05517079353</td><td>0.4855</td><td>17.64782012402</td><td>0.4092</td><td>41.1543</td><td>0.5756</td><td>36.985</td><td>0.529</td><td>-150.889</td><td>0.46</td><td>5.93185</td><td>0.789882</td><td>nan</td><td>nan</td><td>J2016.0</td><td>5887.0</td><td>5836.0</td><td>5933.5</td><td>1.2968666553497314</td><td>1.276619553565979</td><td>1.3196319341659546</td><td>1.8199585676193237</td><td>1.7967939376831055</td><td>1.843123197555542</td><td>--</td><td>--</td><td>--</td><td>--</td><td>--</td><td>--</td><td>--</td><td>--</td><td>--</td><td>--</td><td></td><td>0</td><td>0.0</td></tr>\n",
       "<tr><td>18.4385612342386</td><td>7.5782445295192</td><td>zet Psc B</td><td>2577061260424130304</td><td>2577061260424130304</td><td>5743</td><td>7345</td><td>610985024</td><td>01134528+0734417</td><td>--</td><td>18.439186723</td><td>0.0438</td><td>7.57800679701</td><td>0.0296</td><td>24.6896</td><td>0.0589</td><td>139.506</td><td>0.068</td><td>-53.49</td><td>0.04</td><td>6.175464</td><td>0.63841</td><td>nan</td><td>nan</td><td>J2016.0</td><td>6343.14990234375</td><td>6173.7998046875</td><td>7040.66650390625</td><td>1.709801197052002</td><td>1.3878036737442017</td><td>1.8048889636993408</td><td>4.263888835906982</td><td>4.250926494598389</td><td>4.276851177215576</td><td>true</td><td>71600.0</td><td>1</td><td>94.0</td><td>--</td><td>--</td><td>--</td><td>--</td><td>--</td><td>--</td><td></td><td>0</td><td>0.0</td></tr>\n",
       "</table></div>"
      ],
      "text/plain": [
       "<Table length=2858>\n",
       "     ra_j2000        dec_j2000     ... spectrum_fies_nobs spectrum_fies_exptime\n",
       "     float64          float64      ...       int64               float64       \n",
       "----------------- ---------------- ... ------------------ ---------------------\n",
       "238.1689210400862 42.4515174680292 ...                  0                   0.0\n",
       "126.1458923835362 -3.7512424989997 ...                  0                   0.0\n",
       "191.2475206828197 39.2789161469845 ...                  0                   0.0\n",
       " 54.2182654350701  0.4016644716193 ...                  0                   0.0\n",
       " 74.9346751253041 15.9167324100169 ...                  0                   0.0\n",
       " 76.8625232015097 18.6450499366847 ...                  0                   0.0\n",
       "315.1410034667797 -4.7302596237905 ...                  0                   0.0\n",
       "143.9145924739025 35.8101325142152 ...                  1                 180.0\n",
       " 81.1060970084435 17.3835351141963 ...                  0                   0.0\n",
       " 80.9099146163007  17.324116905683 ...                  0                   0.0\n",
       "              ...              ... ...                ...                   ...\n",
       "265.4920968199907 72.1569015732554 ...                  0                   0.0\n",
       "101.6847372295683 43.5774245466935 ...                  0                   0.0\n",
       "133.1492129350178 28.3308208317972 ...                  0                   0.0\n",
       "243.6702226831735   33.85861434163 ...                  0                   0.0\n",
       "137.5981111060804 67.1340171599767 ...                  0                   0.0\n",
       "206.8155757166774 17.4568915432223 ...                  0                   0.0\n",
       "142.2872140307247 -2.7689394557207 ...                  0                   0.0\n",
       "123.0530017120375 17.6476414755374 ...                  0                   0.0\n",
       "123.0549982992694 17.6484907402495 ...                  0                   0.0\n",
       " 18.4385612342386  7.5782445295192 ...                  0                   0.0"
      ]
     },
     "execution_count": 67,
     "metadata": {},
     "output_type": "execute_result"
    }
   ],
   "source": [
    "table"
   ]
  },
  {
   "cell_type": "code",
   "execution_count": 76,
   "metadata": {},
   "outputs": [],
   "source": [
    "has_good_fies = table[(table['spectrum_fies'] == 'true') & (table['spectrum_fies_exptime'] >= 1800.)]\n",
    "from astropy.io import ascii\n",
    "ascii.write(has_good_fies, 'targets_with_fies.csv', delimiter=',', formats={'spectrum_hires_snr':'%.1f'},\n",
    "           comment=False, overwrite=True)"
   ]
  },
  {
   "cell_type": "code",
   "execution_count": 78,
   "metadata": {},
   "outputs": [
    {
     "data": {
      "text/html": [
       "<div><i>Table length=18</i>\n",
       "<table id=\"table140535798090704\" class=\"table-striped table-bordered table-condensed\">\n",
       "<thead><tr><th>ra_j2000</th><th>dec_j2000</th><th>primary_name</th><th>gaiadr2_source_id</th><th>gaiaedr3_source_id</th><th>hip</th><th>hd</th><th>tic</th><th>2mass</th><th>wisea</th><th>ra</th><th>ra_error</th><th>dec</th><th>dec_error</th><th>parallax</th><th>parallax_error</th><th>pmra</th><th>pmra_error</th><th>pmdec</th><th>pmdec_error</th><th>gmag</th><th>bp_rp</th><th>radial_velocity</th><th>radial_velocity_error</th><th>ref_epoch</th><th>gaia_teff</th><th>gaia_teff_lower</th><th>gaia_teff_upper</th><th>gaia_radius</th><th>gaia_radius_lower</th><th>gaia_radius_upper</th><th>gaia_lum</th><th>gaia_lum_lower</th><th>gaia_lum_upper</th><th>spectrum_hires</th><th>spectrum_hires_resolution</th><th>spectrum_hires_nobs</th><th>spectrum_hires_snr</th><th>spectrum_harps</th><th>spectrum_harps_nobs</th><th>spectrum_harps_snr</th><th>spectrum_sophie</th><th>spectrum_sophie_nobs</th><th>spectrum_sophie_snr</th><th>spectrum_fies</th><th>spectrum_fies_nobs</th><th>spectrum_fies_exptime</th></tr></thead>\n",
       "<thead><tr><th>float64</th><th>float64</th><th>str29</th><th>int64</th><th>int64</th><th>int64</th><th>str7</th><th>int64</th><th>str16</th><th>str19</th><th>float64</th><th>float64</th><th>float64</th><th>float64</th><th>float64</th><th>float64</th><th>float64</th><th>float64</th><th>float64</th><th>float64</th><th>float64</th><th>float64</th><th>float64</th><th>float64</th><th>str7</th><th>float64</th><th>float64</th><th>float64</th><th>float64</th><th>float64</th><th>float64</th><th>float64</th><th>float64</th><th>float64</th><th>str4</th><th>float64</th><th>int64</th><th>float64</th><th>str4</th><th>int64</th><th>float64</th><th>str4</th><th>int64</th><th>float64</th><th>str29</th><th>int64</th><th>float64</th></tr></thead>\n",
       "<tr><td>295.466552844129</td><td>50.517524746342</td><td>16 Cyg B</td><td>2135550755683407232</td><td>2135550755683407232</td><td>96901</td><td>186427</td><td>27533327</td><td>19415198+5031032</td><td>J194151.82+503102.2</td><td>295.46561283744</td><td>0.0139</td><td>50.5168016497</td><td>0.0222</td><td>47.3302</td><td>0.0171</td><td>-134.482</td><td>0.018</td><td>-162.698</td><td>0.027</td><td>6.073419</td><td>0.82616</td><td>-27.73</td><td>0.16</td><td>J2016.0</td><td>5777.25</td><td>5696.5</td><td>5890.0</td><td>1.1198002099990845</td><td>1.077338695526123</td><td>1.151772379875183</td><td>1.2585208415985107</td><td>1.2572907209396362</td><td>1.2597509622573853</td><td>true</td><td>71600.0</td><td>2</td><td>129.4</td><td>--</td><td>--</td><td>--</td><td>--</td><td>--</td><td>--</td><td>true</td><td>8</td><td>2100.0</td></tr>\n",
       "<tr><td>243.6682808607854</td><td>33.8575267185817</td><td>17 CrB B</td><td>1328866562170960384</td><td>1328866562170960384</td><td>79607</td><td>146361B</td><td>17542166</td><td>16144043+3351272</td><td>--</td><td>243.66672417598</td><td>0.0115</td><td>33.85717773456</td><td>0.0152</td><td>44.134</td><td>0.0179</td><td>-290.86</td><td>0.015</td><td>-78.524</td><td>0.021</td><td>6.43822</td><td>0.781727</td><td>-14.79</td><td>0.14</td><td>J2016.0</td><td>5884.75</td><td>5859.0</td><td>5928.0</td><td>0.9749740362167358</td><td>0.9607993364334106</td><td>0.9835627675056458</td><td>1.0270531177520752</td><td>1.0260554552078247</td><td>1.0280507802963257</td><td>true</td><td>71600.0</td><td>2</td><td>120.9</td><td>--</td><td>--</td><td>--</td><td>--</td><td>--</td><td>--</td><td>true</td><td>10</td><td>3500.0</td></tr>\n",
       "<tr><td>25.6240105213668</td><td>20.2685126826973</td><td>2 Ari</td><td>96331172942614528</td><td>96331172942614528</td><td>7981</td><td>10476</td><td>113710966</td><td>01422977+2016073</td><td>J014229.55+201559.7</td><td>25.62258568628</td><td>0.1209</td><td>20.26551918226</td><td>0.0906</td><td>130.8234</td><td>0.1532</td><td>-300.737</td><td>0.137</td><td>-673.539</td><td>0.106</td><td>4.99968</td><td>1.022485</td><td>-33.58</td><td>0.17</td><td>J2016.0</td><td>5489.33349609375</td><td>5063.5</td><td>6576.0</td><td>0.7443567514419556</td><td>0.5186766982078552</td><td>0.8748200535774231</td><td>0.4532475173473358</td><td>0.45170915126800537</td><td>0.45478588342666626</td><td>true</td><td>102700.0</td><td>5</td><td>315.3</td><td>--</td><td>--</td><td>--</td><td>--</td><td>--</td><td>--</td><td>true</td><td>7</td><td>6100.0</td></tr>\n",
       "<tr><td>9.8408558047264</td><td>21.2504758066667</td><td>54 Psc</td><td>2802397960855105920</td><td>2802397960855105920</td><td>3093</td><td>3651</td><td>434210589</td><td>00392187+2115024</td><td>J003921.43+211457.4</td><td>9.83865291546</td><td>0.0368</td><td>21.24883304645</td><td>0.0165</td><td>90.0248</td><td>0.0482</td><td>-461.948</td><td>0.068</td><td>-369.624</td><td>0.025</td><td>5.654319</td><td>1.018104</td><td>-33.0</td><td>0.16</td><td>J2016.0</td><td>5280.0</td><td>5158.0</td><td>5456.0</td><td>0.8785584568977356</td><td>0.8227914571762085</td><td>0.9206103086471558</td><td>0.5404701232910156</td><td>0.5398627519607544</td><td>0.5410774946212769</td><td>true</td><td>102700.0</td><td>5</td><td>308.2</td><td>--</td><td>--</td><td>--</td><td>--</td><td>--</td><td>--</td><td>true</td><td>14</td><td>12435.0</td></tr>\n",
       "<tr><td>316.7247482895924</td><td>38.7494173194371</td><td>61 Cyg A</td><td>1872046574983507456</td><td>1872046609345556480</td><td>104214</td><td>201091</td><td>165602000</td><td>21065341+3844529</td><td>--</td><td>316.748479294</td><td>0.0388</td><td>38.7638624465</td><td>0.0485</td><td>285.9949</td><td>0.0599</td><td>4164.209</td><td>0.055</td><td>3249.614</td><td>0.055</td><td>4.766713</td><td>1.46259</td><td>-65.94</td><td>0.14</td><td>J2016.0</td><td>4327.0</td><td>4223.919921875</td><td>4427.66015625</td><td>0.7201448678970337</td><td>0.6877729296684265</td><td>0.7557224035263062</td><td>0.16378797590732574</td><td>0.16338737308979034</td><td>0.16418857872486115</td><td>true</td><td>102700.0</td><td>5</td><td>342.2</td><td>--</td><td>--</td><td>--</td><td>--</td><td>--</td><td>--</td><td>true</td><td>4</td><td>2100.0</td></tr>\n",
       "<tr><td>316.7302660185277</td><td>38.7420440332954</td><td>61 Cyg B</td><td>1872046574983497216</td><td>1872046574983497216</td><td>104217</td><td>201092</td><td>165602023</td><td>21065473+3844265</td><td>--</td><td>316.75366275256</td><td>0.019</td><td>38.75607277206</td><td>0.0232</td><td>286.0054</td><td>0.0289</td><td>4105.976</td><td>0.026</td><td>3155.942</td><td>0.027</td><td>5.450644</td><td>1.715341</td><td>-64.43</td><td>0.13</td><td>J2016.0</td><td>4177.3046875</td><td>3988.0</td><td>4725.25</td><td>0.5798373818397522</td><td>0.4531572759151459</td><td>0.6361920237541199</td><td>0.09223415702581406</td><td>0.09210682660341263</td><td>0.09236148744821548</td><td>true</td><td>102700.0</td><td>5</td><td>345.7</td><td>--</td><td>--</td><td>--</td><td>--</td><td>--</td><td>--</td><td>true</td><td>4</td><td>2100.0</td></tr>\n",
       "<tr><td>293.0899592077505</td><td>69.6611766125574</td><td>61 Dra</td><td>2261614264930275072</td><td>2261614264931057664</td><td>96100</td><td>185144</td><td>259237827</td><td>19322153+6939413</td><td>J193222.79+693922.3</td><td>293.09759805108</td><td>0.0754</td><td>69.65345106255</td><td>0.0708</td><td>173.4939</td><td>0.0748</td><td>597.384</td><td>0.115</td><td>-1738.286</td><td>0.102</td><td>4.449041</td><td>0.994315</td><td>26.58</td><td>0.16</td><td>J2016.0</td><td>5450.5</td><td>5137.0</td><td>5924.0</td><td>0.7520942687988281</td><td>0.636670708656311</td><td>0.8466927409172058</td><td>0.4497639834880829</td><td>0.4479914605617523</td><td>0.45153650641441345</td><td>true</td><td>229700.0</td><td>3</td><td>180.2</td><td>--</td><td>--</td><td>--</td><td>--</td><td>--</td><td>--</td><td>true</td><td>670</td><td>183275.059</td></tr>\n",
       "<tr><td>171.6888405415297</td><td>3.0130990660291</td><td>83 Leo A</td><td>3812355328621651328</td><td>3812355328621651328</td><td>55846</td><td>99491</td><td>363549733</td><td>11264531+0300475</td><td>J112644.79+030050.0</td><td>171.68560957309</td><td>0.0189</td><td>3.01390342777</td><td>0.0222</td><td>55.009</td><td>0.024</td><td>-725.963</td><td>0.029</td><td>180.98</td><td>0.03</td><td>6.298396</td><td>0.937201</td><td>3.96</td><td>0.16</td><td>J2016.0</td><td>5520.0</td><td>5407.0</td><td>5582.25</td><td>0.9608256220817566</td><td>0.9395159482955933</td><td>1.0014054775238037</td><td>0.7722184062004089</td><td>0.7712716460227966</td><td>0.7731651663780212</td><td>true</td><td>71600.0</td><td>2</td><td>132.9</td><td>--</td><td>--</td><td>--</td><td>--</td><td>--</td><td>--</td><td>true</td><td>14</td><td>8400.0</td></tr>\n",
       "<tr><td>174.6870845151961</td><td>45.1084173777253</td><td>HD101177A</td><td>773861404893710208</td><td>773861404893710208</td><td>56809</td><td>101177A</td><td>393884179</td><td>11384487+4506303</td><td>--</td><td>174.68333229178</td><td>0.0113</td><td>45.10848445536</td><td>0.0184</td><td>42.9391</td><td>0.0231</td><td>-595.844</td><td>0.014</td><td>15.079</td><td>0.026</td><td>6.323875</td><td>0.753345</td><td>-17.01</td><td>0.13</td><td>J2016.0</td><td>5932.0</td><td>5911.33349609375</td><td>5965.0</td><td>1.0414279699325562</td><td>1.0299369096755981</td><td>1.048722505569458</td><td>1.2099230289459229</td><td>1.2082575559616089</td><td>1.2115885019302368</td><td>--</td><td>--</td><td>--</td><td>--</td><td>--</td><td>--</td><td>--</td><td>--</td><td>--</td><td>--</td><td>true</td><td>3</td><td>1980.0</td></tr>\n",
       "<tr><td>198.0822544525975</td><td>17.5171195373102</td><td>HD114762A</td><td>3937211745904553600</td><td>3937211745905473024</td><td>64426</td><td>114762A</td><td>138172859</td><td>13121982+1731016</td><td>J131219.31+173101.6</td><td>198.07954666801</td><td>0.0779</td><td>17.5171242759</td><td>0.0666</td><td>26.1979</td><td>0.1082</td><td>-580.999</td><td>0.126</td><td>1.062</td><td>0.142</td><td>7.151907</td><td>0.733335</td><td>49.98</td><td>0.24</td><td>J2016.0</td><td>5945.5</td><td>5870.0</td><td>6030.20751953125</td><td>1.2161191701889038</td><td>1.1821930408477783</td><td>1.2476038932800293</td><td>1.664947509765625</td><td>1.6442612409591675</td><td>1.6856337785720825</td><td>true</td><td>71600.0</td><td>3</td><td>140.9</td><td>--</td><td>--</td><td>--</td><td>--</td><td>--</td><td>--</td><td>true</td><td>7</td><td>7500.0</td></tr>\n",
       "<tr><td>347.7086594335611</td><td>45.5122723372906</td><td>HD218868</td><td>1935133906475484544</td><td>1935133906477014016</td><td>114456</td><td>218868</td><td>455819325</td><td>23105007+4530440</td><td>J231049.97+453041.3</td><td>347.70810989568</td><td>0.0131</td><td>45.51099625165</td><td>0.014</td><td>42.464</td><td>0.0227</td><td>-86.646</td><td>0.017</td><td>-287.12</td><td>0.018</td><td>6.804549</td><td>0.902808</td><td>-30.69</td><td>0.15</td><td>J2016.0</td><td>5541.5</td><td>5478.7001953125</td><td>5592.75</td><td>0.9756693243980408</td><td>0.957869827747345</td><td>0.9981647729873657</td><td>0.8087407946586609</td><td>0.8077764511108398</td><td>0.8097051382064819</td><td>true</td><td>71600.0</td><td>4</td><td>181.7</td><td>--</td><td>--</td><td>--</td><td>--</td><td>--</td><td>--</td><td>true</td><td>8</td><td>4800.0</td></tr>\n",
       "<tr><td>351.6681672571224</td><td>45.3381408542053</td><td>HD220821</td><td>1937497444157480320</td><td>1937497444157480320</td><td>115715</td><td>220821</td><td>174158125</td><td>23264032+4520170</td><td>J232640.86+452018.5</td><td>351.67093641837</td><td>0.0476</td><td>45.33861727791</td><td>0.043</td><td>28.5222</td><td>0.0734</td><td>437.963</td><td>0.053</td><td>107.188</td><td>0.051</td><td>7.245266</td><td>0.832856</td><td>-1.99</td><td>0.27</td><td>J2016.0</td><td>5731.0</td><td>5699.0</td><td>5783.33349609375</td><td>1.1213661432266235</td><td>1.1011635065078735</td><td>1.1339945793151855</td><td>1.2221126556396484</td><td>1.2169326543807983</td><td>1.2272926568984985</td><td>--</td><td>--</td><td>--</td><td>--</td><td>--</td><td>--</td><td>--</td><td>--</td><td>--</td><td>--</td><td>true</td><td>2</td><td>2400.0</td></tr>\n",
       "<tr><td>85.3347320001797</td><td>53.4810580051907</td><td>HD37394</td><td>263916708025623680</td><td>263916708025623680</td><td>26779</td><td>37394</td><td>311063391</td><td>05412033+5328523</td><td>J054120.37+532846.5</td><td>85.33475293852</td><td>0.0201</td><td>53.47873143857</td><td>0.0168</td><td>81.4987</td><td>0.0253</td><td>2.804</td><td>0.024</td><td>-523.477</td><td>0.021</td><td>5.990948</td><td>1.009822</td><td>1.07</td><td>0.18</td><td>J2016.0</td><td>5303.0</td><td>5240.0</td><td>5402.5</td><td>0.8192657828330994</td><td>0.7893661856651306</td><td>0.8390840888023376</td><td>0.47822341322898865</td><td>0.4777122735977173</td><td>0.47873455286026</td><td>--</td><td>--</td><td>--</td><td>--</td><td>--</td><td>--</td><td>--</td><td>--</td><td>--</td><td>--</td><td>true</td><td>4</td><td>2080.0</td></tr>\n",
       "<tr><td>12.0957332295495</td><td>5.2806137458205</td><td>HD4628</td><td>2552925644460225152</td><td>2552925644460225152</td><td>3765</td><td>4628</td><td>257393898</td><td>00482303+0516497</td><td>J004823.57+051638.1</td><td>12.09910707515</td><td>0.0526</td><td>5.27553944692</td><td>0.0229</td><td>134.4948</td><td>0.0578</td><td>755.894</td><td>0.077</td><td>-1141.719</td><td>0.061</td><td>5.467689</td><td>1.109594</td><td>-10.41</td><td>0.15</td><td>J2016.0</td><td>5013.5</td><td>4973.0</td><td>5055.33349609375</td><td>0.7280661463737488</td><td>0.7160663604736328</td><td>0.7399731278419495</td><td>0.30171746015548706</td><td>0.3013443350791931</td><td>0.302090585231781</td><td>true</td><td>71600.0</td><td>6</td><td>268.7</td><td>--</td><td>--</td><td>--</td><td>--</td><td>--</td><td>--</td><td>true</td><td>300</td><td>101360.95999999999</td></tr>\n",
       "<tr><td>114.0059602415448</td><td>-3.1517716552561</td><td>HD60779</td><td>3060787930730737920</td><td>3060787930730737920</td><td>36976</td><td>60779</td><td>65672998</td><td>07360145-0309064</td><td>--</td><td>114.00471910548</td><td>0.0156</td><td>-3.15127545668</td><td>0.0126</td><td>28.221</td><td>0.0185</td><td>-278.833</td><td>0.019</td><td>111.645</td><td>0.014</td><td>7.022779</td><td>0.735582</td><td>129.75</td><td>0.15</td><td>J2016.0</td><td>5978.7001953125</td><td>5655.86669921875</td><td>6046.5</td><td>1.12614107131958</td><td>1.1010277271270752</td><td>1.2583690881729126</td><td>1.459847331047058</td><td>1.4569783210754395</td><td>1.4627163410186768</td><td>--</td><td>--</td><td>--</td><td>--</td><td>--</td><td>--</td><td>--</td><td>--</td><td>--</td><td>--</td><td>true</td><td>4</td><td>3300.0</td></tr>\n",
       "<tr><td>138.6028451960604</td><td>52.6863617977567</td><td>HD79211</td><td>1022456104850892928</td><td>1022456104850892928</td><td>120005</td><td>79211</td><td>251078597</td><td>09142485+5241118</td><td>--</td><td>138.59131179667</td><td>0.0156</td><td>52.68342944184</td><td>0.0145</td><td>157.8825</td><td>0.0211</td><td>-1573.04</td><td>0.018</td><td>-659.906</td><td>0.019</td><td>7.054455</td><td>1.84645</td><td>11.98</td><td>0.18</td><td>J2016.0</td><td>3995.01513671875</td><td>3892.89501953125</td><td>4113.52978515625</td><td>0.5744035840034485</td><td>0.5417821407318115</td><td>0.6049348711967468</td><td>0.07571861892938614</td><td>0.07567659020423889</td><td>0.07576064765453339</td><td>true</td><td>71600.0</td><td>2</td><td>208.6</td><td>--</td><td>--</td><td>--</td><td>--</td><td>--</td><td>--</td><td>true</td><td>7</td><td>2100.0</td></tr>\n",
       "<tr><td>152.1797524400626</td><td>34.2422629573455</td><td>HD87883</td><td>747266452000257280</td><td>747266452000257280</td><td>49699</td><td>87883</td><td>407591082</td><td>10084315+3414322</td><td>J100843.06+341431.2</td><td>152.1794067796</td><td>0.0198</td><td>34.24198989809</td><td>0.0186</td><td>54.6678</td><td>0.0295</td><td>-64.293</td><td>0.027</td><td>-61.438</td><td>0.025</td><td>7.286231</td><td>1.132443</td><td>9.3</td><td>0.17</td><td>J2016.0</td><td>4964.73681640625</td><td>4913.35498046875</td><td>5025.87646484375</td><td>0.7908482551574707</td><td>0.7717240452766418</td><td>0.8074755072593689</td><td>0.34234657883644104</td><td>0.34199291467666626</td><td>0.3427002429962158</td><td>true</td><td>71600.0</td><td>3</td><td>139.0</td><td>--</td><td>--</td><td>--</td><td>--</td><td>--</td><td>--</td><td>true</td><td>17</td><td>9884.014</td></tr>\n",
       "<tr><td>17.0679289393636</td><td>54.9201558892397</td><td>mu. Cas</td><td>411413822074322432</td><td>411413822074322432</td><td>5336</td><td>6582</td><td>252191219</td><td>01081597+5455148</td><td>J010820.48+545456.6</td><td>17.0947498612</td><td>0.2806</td><td>54.91320397756</td><td>0.289</td><td>130.2881</td><td>0.4348</td><td>3468.251</td><td>0.354</td><td>-1564.844</td><td>0.365</td><td>4.948012</td><td>0.922226</td><td>-96.93</td><td>0.18</td><td>J2016.0</td><td>5630.0</td><td>5443.0</td><td>5826.22509765625</td><td>--</td><td>--</td><td>--</td><td>--</td><td>--</td><td>--</td><td>--</td><td>--</td><td>--</td><td>--</td><td>--</td><td>--</td><td>--</td><td>--</td><td>--</td><td>--</td><td>true</td><td>5</td><td>3420.0</td></tr>\n",
       "</table></div>"
      ],
      "text/plain": [
       "<Table length=18>\n",
       "     ra_j2000        dec_j2000     ... spectrum_fies_nobs spectrum_fies_exptime\n",
       "     float64          float64      ...       int64               float64       \n",
       "----------------- ---------------- ... ------------------ ---------------------\n",
       " 295.466552844129  50.517524746342 ...                  8                2100.0\n",
       "243.6682808607854 33.8575267185817 ...                 10                3500.0\n",
       " 25.6240105213668 20.2685126826973 ...                  7                6100.0\n",
       "  9.8408558047264 21.2504758066667 ...                 14               12435.0\n",
       "316.7247482895924 38.7494173194371 ...                  4                2100.0\n",
       "316.7302660185277 38.7420440332954 ...                  4                2100.0\n",
       "293.0899592077505 69.6611766125574 ...                670            183275.059\n",
       "171.6888405415297  3.0130990660291 ...                 14                8400.0\n",
       "174.6870845151961 45.1084173777253 ...                  3                1980.0\n",
       "198.0822544525975 17.5171195373102 ...                  7                7500.0\n",
       "347.7086594335611 45.5122723372906 ...                  8                4800.0\n",
       "351.6681672571224 45.3381408542053 ...                  2                2400.0\n",
       " 85.3347320001797 53.4810580051907 ...                  4                2080.0\n",
       " 12.0957332295495  5.2806137458205 ...                300    101360.95999999999\n",
       "114.0059602415448 -3.1517716552561 ...                  4                3300.0\n",
       "138.6028451960604 52.6863617977567 ...                  7                2100.0\n",
       "152.1797524400626 34.2422629573455 ...                 17              9884.014\n",
       " 17.0679289393636 54.9201558892397 ...                  5                3420.0"
      ]
     },
     "execution_count": 78,
     "metadata": {},
     "output_type": "execute_result"
    }
   ],
   "source": [
    "has_good_fies"
   ]
  },
  {
   "cell_type": "code",
   "execution_count": 74,
   "metadata": {},
   "outputs": [
    {
     "data": {
      "text/html": [
       "<div><i>Table length=2840</i>\n",
       "<table id=\"table140535793589712\" class=\"table-striped table-bordered table-condensed\">\n",
       "<thead><tr><th>ra_j2000</th><th>dec_j2000</th><th>primary_name</th><th>gaiadr2_source_id</th><th>gaiaedr3_source_id</th><th>hip</th><th>hd</th><th>tic</th><th>2mass</th><th>wisea</th><th>ra</th><th>ra_error</th><th>dec</th><th>dec_error</th><th>parallax</th><th>parallax_error</th><th>pmra</th><th>pmra_error</th><th>pmdec</th><th>pmdec_error</th><th>gmag</th><th>bp_rp</th><th>radial_velocity</th><th>radial_velocity_error</th><th>ref_epoch</th><th>gaia_teff</th><th>gaia_teff_lower</th><th>gaia_teff_upper</th><th>gaia_radius</th><th>gaia_radius_lower</th><th>gaia_radius_upper</th><th>gaia_lum</th><th>gaia_lum_lower</th><th>gaia_lum_upper</th><th>spectrum_hires</th><th>spectrum_hires_resolution</th><th>spectrum_hires_nobs</th><th>spectrum_hires_snr</th><th>spectrum_harps</th><th>spectrum_harps_nobs</th><th>spectrum_harps_snr</th><th>spectrum_sophie</th><th>spectrum_sophie_nobs</th><th>spectrum_sophie_snr</th><th>spectrum_fies</th><th>spectrum_fies_nobs</th><th>spectrum_fies_exptime</th></tr></thead>\n",
       "<thead><tr><th>float64</th><th>float64</th><th>str29</th><th>int64</th><th>int64</th><th>int64</th><th>str7</th><th>int64</th><th>str16</th><th>str19</th><th>float64</th><th>float64</th><th>float64</th><th>float64</th><th>float64</th><th>float64</th><th>float64</th><th>float64</th><th>float64</th><th>float64</th><th>float64</th><th>float64</th><th>float64</th><th>float64</th><th>str7</th><th>float64</th><th>float64</th><th>float64</th><th>float64</th><th>float64</th><th>float64</th><th>float64</th><th>float64</th><th>float64</th><th>str4</th><th>float64</th><th>int64</th><th>float64</th><th>str4</th><th>int64</th><th>float64</th><th>str4</th><th>int64</th><th>float64</th><th>str29</th><th>int64</th><th>float64</th></tr></thead>\n",
       "<tr><td>238.1689210400862</td><td>42.4515174680292</td><td>1 Her</td><td>1384195086792268800</td><td>1384195086792268800</td><td>77760</td><td>142373</td><td>157364190</td><td>15524052+4227052</td><td>J155240.95+422712.1</td><td>238.17156439238</td><td>0.0608</td><td>42.45431545672</td><td>0.0739</td><td>62.9028</td><td>0.0807</td><td>438.839</td><td>0.08</td><td>629.541</td><td>0.099</td><td>4.424265</td><td>0.784468</td><td>-56.01</td><td>0.16</td><td>J2016.0</td><td>6073.0</td><td>5888.5</td><td>6158.0</td><td>1.6416836977005005</td><td>1.5966756343841553</td><td>1.7461707592010498</td><td>3.3028345108032227</td><td>3.2885117530822754</td><td>3.31715726852417</td><td>--</td><td>--</td><td>--</td><td>--</td><td>--</td><td>--</td><td>--</td><td>--</td><td>--</td><td>--</td><td></td><td>0</td><td>0.0</td></tr>\n",
       "<tr><td>126.1458923835362</td><td>-3.7512424989997</td><td>1 Hya</td><td>3066710282611675776</td><td>3066710282611675776</td><td>41211</td><td>70958</td><td>168975758</td><td>08243502-0345045</td><td>J082434.89-034504.6</td><td>126.14494794137</td><td>0.045</td><td>-3.75135791807</td><td>0.032</td><td>36.9674</td><td>0.061</td><td>-212.044</td><td>0.06</td><td>-25.969</td><td>0.059</td><td>5.468879</td><td>0.648508</td><td>96.87</td><td>5.64</td><td>J2016.0</td><td>6320.5</td><td>6246.0</td><td>6395.0</td><td>1.5511353015899658</td><td>1.5152051448822021</td><td>1.5883586406707764</td><td>3.4593920707702637</td><td>3.446709156036377</td><td>3.4720749855041504</td><td>--</td><td>--</td><td>--</td><td>--</td><td>--</td><td>--</td><td>--</td><td>--</td><td>--</td><td>--</td><td></td><td>0</td><td>0.0</td></tr>\n",
       "<tr><td>191.2475206828197</td><td>39.2789161469845</td><td>10 CVn</td><td>1521686782461765888</td><td>1521686782461765888</td><td>62207</td><td>110897</td><td>389853353</td><td>12445938+3916441</td><td>--</td><td>191.24545542461</td><td>0.0197</td><td>39.27953401499</td><td>0.0174</td><td>56.9588</td><td>0.0323</td><td>-359.699</td><td>0.018</td><td>139.016</td><td>0.018</td><td>5.803025</td><td>0.756415</td><td>80.45</td><td>0.19</td><td>J2016.0</td><td>5967.75</td><td>5926.5</td><td>6026.33349609375</td><td>0.9827778339385986</td><td>0.9637630581855774</td><td>0.9965062141418457</td><td>1.1036920547485352</td><td>1.1017658710479736</td><td>1.1056182384490967</td><td>true</td><td>102700.0</td><td>3</td><td>139.8</td><td>--</td><td>--</td><td>--</td><td>--</td><td>--</td><td>--</td><td></td><td>0</td><td>0.0</td></tr>\n",
       "<tr><td>54.2182654350701</td><td>0.4016644716193</td><td>10 Tau</td><td>3263836568393943808</td><td>3263836568394170880</td><td>16852</td><td>22484</td><td>649766486</td><td>03365238+0024054</td><td>J033652.23+002400.9</td><td>54.21723179469</td><td>0.1306</td><td>0.39952459488</td><td>0.1093</td><td>71.837</td><td>0.1503</td><td>-232.563</td><td>0.164</td><td>-481.472</td><td>0.143</td><td>4.141093</td><td>0.757795</td><td>nan</td><td>nan</td><td>J2016.0</td><td>6082.33349609375</td><td>5830.0</td><td>6164.66650390625</td><td>--</td><td>--</td><td>--</td><td>--</td><td>--</td><td>--</td><td>true</td><td>71600.0</td><td>2</td><td>151.4</td><td>--</td><td>--</td><td>--</td><td>--</td><td>--</td><td>--</td><td></td><td>0</td><td>0.0</td></tr>\n",
       "<tr><td>74.9346751253041</td><td>15.9167324100169</td><td>101 Tau</td><td>3393284752392701312</td><td>3393284752392701312</td><td>23214</td><td>31845</td><td>389121767</td><td>04594432+1555002</td><td>J045944.38+155459.9</td><td>74.93506827868</td><td>0.0241</td><td>15.91660060912</td><td>0.0127</td><td>22.3771</td><td>0.0262</td><td>85.068</td><td>0.033</td><td>-29.655</td><td>0.021</td><td>6.644502</td><td>0.59449</td><td>41.72</td><td>0.54</td><td>J2016.0</td><td>6520.25</td><td>6444.5</td><td>6551.5</td><td>1.4123555421829224</td><td>1.3989139795303345</td><td>1.4457528591156006</td><td>3.2481775283813477</td><td>3.2326443195343018</td><td>3.2637107372283936</td><td>--</td><td>--</td><td>--</td><td>--</td><td>true</td><td>1</td><td>123.5</td><td>--</td><td>--</td><td>--</td><td></td><td>0</td><td>0.0</td></tr>\n",
       "<tr><td>76.8625232015097</td><td>18.6450499366847</td><td>104 Tau</td><td>3407611182744289152</td><td>3407611182744289152</td><td>23835</td><td>32923</td><td>27136704</td><td>05072692+1838420</td><td>--</td><td>76.86503115411</td><td>0.0897</td><td>18.64513194789</td><td>0.0566</td><td>62.8252</td><td>0.1094</td><td>534.674</td><td>0.111</td><td>18.449</td><td>0.083</td><td>4.732457</td><td>0.844065</td><td>20.58</td><td>0.15</td><td>J2016.0</td><td>5835.0</td><td>5700.0</td><td>6022.0</td><td>1.5503768920898438</td><td>1.4555847644805908</td><td>1.6246854066848755</td><td>2.510340929031372</td><td>2.4968111515045166</td><td>2.5238707065582275</td><td>true</td><td>71600.0</td><td>3</td><td>196.4</td><td>true</td><td>48</td><td>597.9</td><td>--</td><td>--</td><td>--</td><td></td><td>0</td><td>0.0</td></tr>\n",
       "<tr><td>315.1410034667797</td><td>-4.7302596237905</td><td>11 Aqr</td><td>6912276699251278848</td><td>6912276699251278848</td><td>103682</td><td>199960</td><td>248854510</td><td>21003382-0443486</td><td>J210033.85-044350.1</td><td>315.1412210745</td><td>0.0209</td><td>-4.73087375776</td><td>0.0137</td><td>36.9971</td><td>0.0293</td><td>48.795</td><td>0.028</td><td>-138.18</td><td>0.021</td><td>6.063653</td><td>0.779556</td><td>-17.34</td><td>0.14</td><td>J2016.0</td><td>5920.0</td><td>5863.0</td><td>5967.0</td><td>1.3689217567443848</td><td>1.347441554069519</td><td>1.395668387413025</td><td>2.0736658573150635</td><td>2.0693469047546387</td><td>2.0779848098754883</td><td>true</td><td>71600.0</td><td>1</td><td>86.0</td><td>true</td><td>77</td><td>596.6</td><td>--</td><td>--</td><td>--</td><td></td><td>0</td><td>0.0</td></tr>\n",
       "<tr><td>143.9145924739025</td><td>35.8101325142152</td><td>11 LMi</td><td>798068905726303232</td><td>798068905726303232</td><td>47080</td><td>82885</td><td>8915802</td><td>09353959+3548366</td><td>J093538.92+354834.4</td><td>143.91061083593</td><td>0.0692</td><td>35.80898121341</td><td>0.0601</td><td>89.0092</td><td>0.0937</td><td>-726.514</td><td>0.07</td><td>-259.057</td><td>0.062</td><td>5.200431</td><td>0.934127</td><td>14.39</td><td>0.17</td><td>J2016.0</td><td>5661.0</td><td>5488.0</td><td>6794.75</td><td>0.9361070394515991</td><td>0.6497777700424194</td><td>0.9960556626319885</td><td>0.8108085989952087</td><td>0.8083409070968628</td><td>0.8132762908935547</td><td>true</td><td>71600.0</td><td>1</td><td>95.0</td><td>--</td><td>--</td><td>--</td><td>--</td><td>--</td><td>--</td><td>true</td><td>1</td><td>180.0</td></tr>\n",
       "<tr><td>81.1060970084435</td><td>17.3835351141963</td><td>111 Tau</td><td>3400292798990117888</td><td>3400292798990117888</td><td>25278</td><td>35296</td><td>47346402</td><td>05242545+1723006</td><td>J052425.63+172301.0</td><td>81.10726354597</td><td>0.0837</td><td>17.3835033119</td><td>0.0574</td><td>68.5908</td><td>0.104</td><td>250.483</td><td>0.108</td><td>-7.156</td><td>0.077</td><td>4.850188</td><td>0.708018</td><td>37.67</td><td>0.24</td><td>J2016.0</td><td>6171.0</td><td>6060.0</td><td>6327.25</td><td>1.192928433418274</td><td>1.1347377300262451</td><td>1.237030029296875</td><td>1.8592839241027832</td><td>1.8510682582855225</td><td>1.867499589920044</td><td>--</td><td>--</td><td>--</td><td>--</td><td>--</td><td>--</td><td>--</td><td>--</td><td>--</td><td>--</td><td></td><td>0</td><td>0.0</td></tr>\n",
       "<tr><td>80.9099146163007</td><td>17.324116905683</td><td>111 Tau B</td><td>3394298532176344960</td><td>3394298532176344960</td><td>25220</td><td>35171</td><td>47345026</td><td>05233836+1719267</td><td>J052338.57+171926.8</td><td>80.91108310812</td><td>0.02</td><td>17.32409154335</td><td>0.0139</td><td>68.7662</td><td>0.0246</td><td>250.984</td><td>0.027</td><td>-5.707</td><td>0.019</td><td>7.543094</td><td>1.348195</td><td>37.94</td><td>0.13</td><td>J2016.0</td><td>4628.66650390625</td><td>4576.0</td><td>4712.0</td><td>0.6723672747612</td><td>0.6487954258918762</td><td>0.6879332661628723</td><td>0.18695256114006042</td><td>0.18674258887767792</td><td>0.18716253340244293</td><td>--</td><td>--</td><td>--</td><td>--</td><td>true</td><td>7</td><td>216.2</td><td>--</td><td>--</td><td>--</td><td></td><td>0</td><td>0.0</td></tr>\n",
       "<tr><td>...</td><td>...</td><td>...</td><td>...</td><td>...</td><td>...</td><td>...</td><td>...</td><td>...</td><td>...</td><td>...</td><td>...</td><td>...</td><td>...</td><td>...</td><td>...</td><td>...</td><td>...</td><td>...</td><td>...</td><td>...</td><td>...</td><td>...</td><td>...</td><td>...</td><td>...</td><td>...</td><td>...</td><td>...</td><td>...</td><td>...</td><td>...</td><td>...</td><td>...</td><td>...</td><td>...</td><td>...</td><td>...</td><td>...</td><td>...</td><td>...</td><td>...</td><td>...</td><td>...</td><td>...</td><td>...</td><td>...</td></tr>\n",
       "<tr><td>265.4920968199907</td><td>72.1569015732554</td><td>psi01 Dra B</td><td>1651268763281885952</td><td>1651268763282397312</td><td>86620</td><td>162004</td><td>441804565</td><td>17415811+7209251</td><td>--</td><td>265.49259095531</td><td>0.0528</td><td>72.15567296218</td><td>0.0531</td><td>44.0496</td><td>0.0515</td><td>34.067</td><td>0.075</td><td>-276.438</td><td>0.083</td><td>5.656994</td><td>0.689108</td><td>-10.85</td><td>0.36</td><td>J2016.0</td><td>6213.33349609375</td><td>6100.0</td><td>6310.33349609375</td><td>1.2557345628738403</td><td>1.2174259424209595</td><td>1.3028292655944824</td><td>2.117332696914673</td><td>2.1136281490325928</td><td>2.121037244796753</td><td>--</td><td>--</td><td>--</td><td>--</td><td>--</td><td>--</td><td>--</td><td>--</td><td>--</td><td>--</td><td></td><td>0</td><td>0.0</td></tr>\n",
       "<tr><td>101.6847372295683</td><td>43.5774245466935</td><td>psi05 Aur</td><td>952326504452337792</td><td>952326504452337792</td><td>32480</td><td>48682A</td><td>307754027</td><td>06464434+4334385</td><td>J064644.35+433440.6</td><td>101.68472063329</td><td>0.0724</td><td>43.57815575951</td><td>0.078</td><td>60.2024</td><td>0.0865</td><td>-2.705</td><td>0.08</td><td>164.523</td><td>0.074</td><td>5.105546</td><td>0.736392</td><td>-23.78</td><td>0.2</td><td>J2016.0</td><td>6064.0</td><td>6025.0</td><td>6169.33349609375</td><td>1.245977759361267</td><td>1.203794002532959</td><td>1.2621604204177856</td><td>1.8912633657455444</td><td>1.8820643424987793</td><td>1.9004623889923096</td><td>true</td><td>102700.0</td><td>5</td><td>199.9</td><td>--</td><td>--</td><td>--</td><td>--</td><td>--</td><td>--</td><td></td><td>0</td><td>0.0</td></tr>\n",
       "<tr><td>133.1492129350178</td><td>28.3308208317972</td><td>rho Cnc</td><td>704967037090946688</td><td>704967037090946688</td><td>43587</td><td>75732</td><td>332064670</td><td>08523579+2819509</td><td>J085235.41+281948.5</td><td>133.14676062083</td><td>0.0299</td><td>28.32978300036</td><td>0.0198</td><td>79.4482</td><td>0.0429</td><td>-485.681</td><td>0.04</td><td>-233.517</td><td>0.037</td><td>5.732681</td><td>1.008672</td><td>27.26</td><td>0.14</td><td>J2016.0</td><td>5306.0</td><td>5153.64990234375</td><td>5547.0</td><td>0.9463781118392944</td><td>0.8659300804138184</td><td>1.0031579732894897</td><td>0.639577329158783</td><td>0.6387168169021606</td><td>0.6404378414154053</td><td>true</td><td>229700.0</td><td>5</td><td>224.1</td><td>true</td><td>20</td><td>221.8</td><td>--</td><td>--</td><td>--</td><td></td><td>0</td><td>0.0</td></tr>\n",
       "<tr><td>243.6702226831735</td><td>33.85861434163</td><td>sig02 CrB</td><td>1328866562170960512</td><td>1328866562170960512</td><td>79607</td><td>146361A</td><td>17542164</td><td>16144084+3351307</td><td>J161440.64+335130.2</td><td>243.66878716838</td><td>0.0335</td><td>33.85822643128</td><td>0.0412</td><td>44.0575</td><td>0.0459</td><td>-268.216</td><td>0.043</td><td>-87.282</td><td>0.058</td><td>5.431288</td><td>0.805306</td><td>nan</td><td>nan</td><td>J2016.0</td><td>5873.66650390625</td><td>5776.0</td><td>6009.0</td><td>1.5609130859375</td><td>1.4913957118988037</td><td>1.61414635181427</td><td>2.612698554992676</td><td>2.6050362586975098</td><td>2.620360851287842</td><td>true</td><td>71600.0</td><td>2</td><td>120.9</td><td>--</td><td>--</td><td>--</td><td>--</td><td>--</td><td>--</td><td></td><td>0</td><td>0.0</td></tr>\n",
       "<tr><td>137.5981111060804</td><td>67.1340171599767</td><td>sig02 UMa A</td><td>1068982214258617216</td><td>1068982214258617216</td><td>45038</td><td>--</td><td>219709102</td><td>09102351+6708030</td><td>J091023.55+670802.1</td><td>137.59826115668</td><td>0.0428</td><td>67.13362657576</td><td>0.0613</td><td>48.7404</td><td>0.0763</td><td>13.119</td><td>0.057</td><td>-87.881</td><td>0.079</td><td>4.679625</td><td>0.657651</td><td>-3.09</td><td>0.16</td><td>J2016.0</td><td>6315.33349609375</td><td>6211.75</td><td>6361.0</td><td>1.7301928997039795</td><td>1.705439567565918</td><td>1.7883774042129517</td><td>4.290114879608154</td><td>4.268640995025635</td><td>4.311588764190674</td><td>--</td><td>--</td><td>--</td><td>--</td><td>--</td><td>--</td><td>--</td><td>--</td><td>--</td><td>--</td><td></td><td>0</td><td>0.0</td></tr>\n",
       "<tr><td>206.8155757166774</td><td>17.4568915432223</td><td>tau Boo A</td><td>1244571953471006720</td><td>1244571953471006720</td><td>67275</td><td>120136</td><td>72506701</td><td>13471581+1727249</td><td>J134715.36+172725.6</td><td>206.8133909945</td><td>0.0689</td><td>17.45717363773</td><td>0.0643</td><td>64.047</td><td>0.1093</td><td>-468.923</td><td>0.095</td><td>63.469</td><td>0.074</td><td>4.356021</td><td>0.644483</td><td>-16.94</td><td>0.35</td><td>J2016.0</td><td>6420.0</td><td>6265.5</td><td>6490.5</td><td>1.4959807395935059</td><td>1.4636584520339966</td><td>1.5706686973571777</td><td>3.4252068996429443</td><td>3.3999948501586914</td><td>3.4504189491271973</td><td>true</td><td>71600.0</td><td>3</td><td>155.3</td><td>--</td><td>--</td><td>--</td><td>--</td><td>--</td><td>--</td><td></td><td>0</td><td>0.0</td></tr>\n",
       "<tr><td>142.2872140307247</td><td>-2.7689394557207</td><td>tau01 Hya</td><td>3837697972130323456</td><td>3837697972130323456</td><td>46509</td><td>81997</td><td>77549389</td><td>09290891-0246083</td><td>J092909.00-024608.4</td><td>142.28773185495</td><td>0.4133</td><td>-2.76907841031</td><td>0.5363</td><td>54.9187</td><td>0.4523</td><td>116.374</td><td>0.517</td><td>-31.265</td><td>0.546</td><td>4.465013</td><td>0.616504</td><td>11.3</td><td>0.53</td><td>J2016.0</td><td>6440.5</td><td>6366.5</td><td>6513.33349609375</td><td>1.5783369541168213</td><td>1.5432357788085938</td><td>1.615241289138794</td><td>3.8616464138031006</td><td>3.816453695297241</td><td>3.90683913230896</td><td>--</td><td>--</td><td>--</td><td>--</td><td>--</td><td>--</td><td>--</td><td>--</td><td>--</td><td>--</td><td></td><td>0</td><td>0.0</td></tr>\n",
       "<tr><td>123.0530017120375</td><td>17.6476414755374</td><td>zet Cnc A</td><td>657244586015485440</td><td>657244586015485440</td><td>--</td><td>68257</td><td>800823403</td><td>--</td><td>--</td><td>123.05355357003</td><td>0.1512</td><td>17.64698177411</td><td>0.1447</td><td>40.8879</td><td>0.1463</td><td>118.325</td><td>0.181</td><td>-148.433</td><td>0.174</td><td>5.51876</td><td>0.685199</td><td>nan</td><td>nan</td><td>J2016.0</td><td>5190.33349609375</td><td>4436.66650390625</td><td>6938.0</td><td>--</td><td>--</td><td>--</td><td>--</td><td>--</td><td>--</td><td>--</td><td>--</td><td>--</td><td>--</td><td>--</td><td>--</td><td>--</td><td>--</td><td>--</td><td>--</td><td></td><td>0</td><td>0.0</td></tr>\n",
       "<tr><td>123.0549982992694</td><td>17.6484907402495</td><td>zet Cnc C</td><td>657244521593508992</td><td>657244521593508992</td><td>--</td><td>68256</td><td>800823400</td><td>--</td><td>--</td><td>123.05517079353</td><td>0.4855</td><td>17.64782012402</td><td>0.4092</td><td>41.1543</td><td>0.5756</td><td>36.985</td><td>0.529</td><td>-150.889</td><td>0.46</td><td>5.93185</td><td>0.789882</td><td>nan</td><td>nan</td><td>J2016.0</td><td>5887.0</td><td>5836.0</td><td>5933.5</td><td>1.2968666553497314</td><td>1.276619553565979</td><td>1.3196319341659546</td><td>1.8199585676193237</td><td>1.7967939376831055</td><td>1.843123197555542</td><td>--</td><td>--</td><td>--</td><td>--</td><td>--</td><td>--</td><td>--</td><td>--</td><td>--</td><td>--</td><td></td><td>0</td><td>0.0</td></tr>\n",
       "<tr><td>18.4385612342386</td><td>7.5782445295192</td><td>zet Psc B</td><td>2577061260424130304</td><td>2577061260424130304</td><td>5743</td><td>7345</td><td>610985024</td><td>01134528+0734417</td><td>--</td><td>18.439186723</td><td>0.0438</td><td>7.57800679701</td><td>0.0296</td><td>24.6896</td><td>0.0589</td><td>139.506</td><td>0.068</td><td>-53.49</td><td>0.04</td><td>6.175464</td><td>0.63841</td><td>nan</td><td>nan</td><td>J2016.0</td><td>6343.14990234375</td><td>6173.7998046875</td><td>7040.66650390625</td><td>1.709801197052002</td><td>1.3878036737442017</td><td>1.8048889636993408</td><td>4.263888835906982</td><td>4.250926494598389</td><td>4.276851177215576</td><td>true</td><td>71600.0</td><td>1</td><td>94.0</td><td>--</td><td>--</td><td>--</td><td>--</td><td>--</td><td>--</td><td></td><td>0</td><td>0.0</td></tr>\n",
       "</table></div>"
      ],
      "text/plain": [
       "<Table length=2840>\n",
       "     ra_j2000        dec_j2000     ... spectrum_fies_nobs spectrum_fies_exptime\n",
       "     float64          float64      ...       int64               float64       \n",
       "----------------- ---------------- ... ------------------ ---------------------\n",
       "238.1689210400862 42.4515174680292 ...                  0                   0.0\n",
       "126.1458923835362 -3.7512424989997 ...                  0                   0.0\n",
       "191.2475206828197 39.2789161469845 ...                  0                   0.0\n",
       " 54.2182654350701  0.4016644716193 ...                  0                   0.0\n",
       " 74.9346751253041 15.9167324100169 ...                  0                   0.0\n",
       " 76.8625232015097 18.6450499366847 ...                  0                   0.0\n",
       "315.1410034667797 -4.7302596237905 ...                  0                   0.0\n",
       "143.9145924739025 35.8101325142152 ...                  1                 180.0\n",
       " 81.1060970084435 17.3835351141963 ...                  0                   0.0\n",
       " 80.9099146163007  17.324116905683 ...                  0                   0.0\n",
       "              ...              ... ...                ...                   ...\n",
       "265.4920968199907 72.1569015732554 ...                  0                   0.0\n",
       "101.6847372295683 43.5774245466935 ...                  0                   0.0\n",
       "133.1492129350178 28.3308208317972 ...                  0                   0.0\n",
       "243.6702226831735   33.85861434163 ...                  0                   0.0\n",
       "137.5981111060804 67.1340171599767 ...                  0                   0.0\n",
       "206.8155757166774 17.4568915432223 ...                  0                   0.0\n",
       "142.2872140307247 -2.7689394557207 ...                  0                   0.0\n",
       "123.0530017120375 17.6476414755374 ...                  0                   0.0\n",
       "123.0549982992694 17.6484907402495 ...                  0                   0.0\n",
       " 18.4385612342386  7.5782445295192 ...                  0                   0.0"
      ]
     },
     "execution_count": 74,
     "metadata": {},
     "output_type": "execute_result"
    }
   ],
   "source": [
    "no_good_fies = table[(table['spectrum_fies'] != 'true') | (table['spectrum_fies_exptime'] <= 1800.)]"
   ]
  },
  {
   "cell_type": "code",
   "execution_count": 75,
   "metadata": {},
   "outputs": [
    {
     "data": {
      "text/html": [
       "<div><i>Table length=49</i>\n",
       "<table id=\"table140535793589968\" class=\"table-striped table-bordered table-condensed\">\n",
       "<thead><tr><th>ra_j2000</th><th>dec_j2000</th><th>primary_name</th><th>gaiadr2_source_id</th><th>gaiaedr3_source_id</th><th>hip</th><th>hd</th><th>tic</th><th>2mass</th><th>wisea</th><th>ra</th><th>ra_error</th><th>dec</th><th>dec_error</th><th>parallax</th><th>parallax_error</th><th>pmra</th><th>pmra_error</th><th>pmdec</th><th>pmdec_error</th><th>gmag</th><th>bp_rp</th><th>radial_velocity</th><th>radial_velocity_error</th><th>ref_epoch</th><th>gaia_teff</th><th>gaia_teff_lower</th><th>gaia_teff_upper</th><th>gaia_radius</th><th>gaia_radius_lower</th><th>gaia_radius_upper</th><th>gaia_lum</th><th>gaia_lum_lower</th><th>gaia_lum_upper</th><th>spectrum_hires</th><th>spectrum_hires_resolution</th><th>spectrum_hires_nobs</th><th>spectrum_hires_snr</th><th>spectrum_harps</th><th>spectrum_harps_nobs</th><th>spectrum_harps_snr</th><th>spectrum_sophie</th><th>spectrum_sophie_nobs</th><th>spectrum_sophie_snr</th><th>spectrum_fies</th><th>spectrum_fies_nobs</th><th>spectrum_fies_exptime</th></tr></thead>\n",
       "<thead><tr><th>float64</th><th>float64</th><th>str29</th><th>int64</th><th>int64</th><th>int64</th><th>str7</th><th>int64</th><th>str16</th><th>str19</th><th>float64</th><th>float64</th><th>float64</th><th>float64</th><th>float64</th><th>float64</th><th>float64</th><th>float64</th><th>float64</th><th>float64</th><th>float64</th><th>float64</th><th>float64</th><th>float64</th><th>str7</th><th>float64</th><th>float64</th><th>float64</th><th>float64</th><th>float64</th><th>float64</th><th>float64</th><th>float64</th><th>float64</th><th>str4</th><th>float64</th><th>int64</th><th>float64</th><th>str4</th><th>int64</th><th>float64</th><th>str4</th><th>int64</th><th>float64</th><th>str29</th><th>int64</th><th>float64</th></tr></thead>\n",
       "<tr><td>143.9145924739025</td><td>35.8101325142152</td><td>11 LMi</td><td>798068905726303232</td><td>798068905726303232</td><td>47080</td><td>82885</td><td>8915802</td><td>09353959+3548366</td><td>J093538.92+354834.4</td><td>143.91061083593</td><td>0.0692</td><td>35.80898121341</td><td>0.0601</td><td>89.0092</td><td>0.0937</td><td>-726.514</td><td>0.07</td><td>-259.057</td><td>0.062</td><td>5.200431</td><td>0.934127</td><td>14.39</td><td>0.17</td><td>J2016.0</td><td>5661.0</td><td>5488.0</td><td>6794.75</td><td>0.9361070394515991</td><td>0.6497777700424194</td><td>0.9960556626319885</td><td>0.8108085989952087</td><td>0.8083409070968628</td><td>0.8132762908935547</td><td>true</td><td>71600.0</td><td>1</td><td>95.0</td><td>--</td><td>--</td><td>--</td><td>--</td><td>--</td><td>--</td><td>true</td><td>1</td><td>180.0</td></tr>\n",
       "<tr><td>295.466552844129</td><td>50.517524746342</td><td>16 Cyg B</td><td>2135550755683407232</td><td>2135550755683407232</td><td>96901</td><td>186427</td><td>27533327</td><td>19415198+5031032</td><td>J194151.82+503102.2</td><td>295.46561283744</td><td>0.0139</td><td>50.5168016497</td><td>0.0222</td><td>47.3302</td><td>0.0171</td><td>-134.482</td><td>0.018</td><td>-162.698</td><td>0.027</td><td>6.073419</td><td>0.82616</td><td>-27.73</td><td>0.16</td><td>J2016.0</td><td>5777.25</td><td>5696.5</td><td>5890.0</td><td>1.1198002099990845</td><td>1.077338695526123</td><td>1.151772379875183</td><td>1.2585208415985107</td><td>1.2572907209396362</td><td>1.2597509622573853</td><td>true</td><td>71600.0</td><td>2</td><td>129.4</td><td>--</td><td>--</td><td>--</td><td>--</td><td>--</td><td>--</td><td>true</td><td>8</td><td>2100.0</td></tr>\n",
       "<tr><td>243.6682808607854</td><td>33.8575267185817</td><td>17 CrB B</td><td>1328866562170960384</td><td>1328866562170960384</td><td>79607</td><td>146361B</td><td>17542166</td><td>16144043+3351272</td><td>--</td><td>243.66672417598</td><td>0.0115</td><td>33.85717773456</td><td>0.0152</td><td>44.134</td><td>0.0179</td><td>-290.86</td><td>0.015</td><td>-78.524</td><td>0.021</td><td>6.43822</td><td>0.781727</td><td>-14.79</td><td>0.14</td><td>J2016.0</td><td>5884.75</td><td>5859.0</td><td>5928.0</td><td>0.9749740362167358</td><td>0.9607993364334106</td><td>0.9835627675056458</td><td>1.0270531177520752</td><td>1.0260554552078247</td><td>1.0280507802963257</td><td>true</td><td>71600.0</td><td>2</td><td>120.9</td><td>--</td><td>--</td><td>--</td><td>--</td><td>--</td><td>--</td><td>true</td><td>10</td><td>3500.0</td></tr>\n",
       "<tr><td>25.6240105213668</td><td>20.2685126826973</td><td>2 Ari</td><td>96331172942614528</td><td>96331172942614528</td><td>7981</td><td>10476</td><td>113710966</td><td>01422977+2016073</td><td>J014229.55+201559.7</td><td>25.62258568628</td><td>0.1209</td><td>20.26551918226</td><td>0.0906</td><td>130.8234</td><td>0.1532</td><td>-300.737</td><td>0.137</td><td>-673.539</td><td>0.106</td><td>4.99968</td><td>1.022485</td><td>-33.58</td><td>0.17</td><td>J2016.0</td><td>5489.33349609375</td><td>5063.5</td><td>6576.0</td><td>0.7443567514419556</td><td>0.5186766982078552</td><td>0.8748200535774231</td><td>0.4532475173473358</td><td>0.45170915126800537</td><td>0.45478588342666626</td><td>true</td><td>102700.0</td><td>5</td><td>315.3</td><td>--</td><td>--</td><td>--</td><td>--</td><td>--</td><td>--</td><td>true</td><td>7</td><td>6100.0</td></tr>\n",
       "<tr><td>243.326873802572</td><td>13.5269015045144</td><td>49 Ser A</td><td>4464207428579939840</td><td>4464207428579939840</td><td>79492</td><td>145958A</td><td>119985828</td><td>16131843+1331379</td><td>--</td><td>243.32769175625</td><td>0.0149</td><td>13.52503510048</td><td>0.0137</td><td>41.1287</td><td>0.0197</td><td>178.934</td><td>0.018</td><td>-419.941</td><td>0.017</td><td>7.181707</td><td>0.919627</td><td>17.86</td><td>0.2</td><td>J2016.0</td><td>5449.75</td><td>5390.0</td><td>5524.0</td><td>0.8793821334838867</td><td>0.8559008240699768</td><td>0.8989866971969604</td><td>0.6145486831665039</td><td>0.6136478781700134</td><td>0.6154494881629944</td><td>--</td><td>--</td><td>--</td><td>--</td><td>--</td><td>--</td><td>--</td><td>--</td><td>--</td><td>--</td><td>true</td><td>2</td><td>1440.0</td></tr>\n",
       "<tr><td>243.3267527244158</td><td>13.5280454584107</td><td>49 Ser B</td><td>4464207428577214464</td><td>4464207428577214464</td><td>79492</td><td>145958B</td><td>119985831</td><td>16131840+1331415</td><td>--</td><td>243.32764025304</td><td>0.0152</td><td>13.52616795585</td><td>0.0143</td><td>41.1545</td><td>0.0203</td><td>194.154</td><td>0.018</td><td>-422.438</td><td>0.018</td><td>7.262869</td><td>0.938375</td><td>18.51</td><td>0.17</td><td>J2016.0</td><td>5462.66650390625</td><td>5405.0</td><td>5558.0</td><td>0.8402643203735352</td><td>0.8116863369941711</td><td>0.8582897186279297</td><td>0.5664287805557251</td><td>0.5656882524490356</td><td>0.5671693086624146</td><td>--</td><td>--</td><td>--</td><td>--</td><td>--</td><td>--</td><td>--</td><td>--</td><td>--</td><td>--</td><td>true</td><td>2</td><td>1440.0</td></tr>\n",
       "<tr><td>88.5956723695345</td><td>20.276255390142</td><td>54 Ori</td><td>3399063235753901952</td><td>3399063235755057792</td><td>27913</td><td>39587</td><td>114776214</td><td>05542300+2016344</td><td>J055422.84+201633.3</td><td>88.59482419468</td><td>0.3168</td><td>20.27585214802</td><td>0.3124</td><td>114.9497</td><td>0.528</td><td>-179.014</td><td>0.405</td><td>-90.73</td><td>0.337</td><td>4.241686</td><td>0.796229</td><td>-15.48</td><td>0.18</td><td>J2016.0</td><td>6028.33349609375</td><td>5947.0</td><td>6104.5</td><td>1.014517903327942</td><td>0.9893593192100525</td><td>1.0424575805664062</td><td>1.2246252298355103</td><td>1.2182329893112183</td><td>1.2310174703598022</td><td>--</td><td>--</td><td>--</td><td>--</td><td>--</td><td>--</td><td>--</td><td>--</td><td>--</td><td>--</td><td>true</td><td>2</td><td>600.0</td></tr>\n",
       "<tr><td>9.8408558047264</td><td>21.2504758066667</td><td>54 Psc</td><td>2802397960855105920</td><td>2802397960855105920</td><td>3093</td><td>3651</td><td>434210589</td><td>00392187+2115024</td><td>J003921.43+211457.4</td><td>9.83865291546</td><td>0.0368</td><td>21.24883304645</td><td>0.0165</td><td>90.0248</td><td>0.0482</td><td>-461.948</td><td>0.068</td><td>-369.624</td><td>0.025</td><td>5.654319</td><td>1.018104</td><td>-33.0</td><td>0.16</td><td>J2016.0</td><td>5280.0</td><td>5158.0</td><td>5456.0</td><td>0.8785584568977356</td><td>0.8227914571762085</td><td>0.9206103086471558</td><td>0.5404701232910156</td><td>0.5398627519607544</td><td>0.5410774946212769</td><td>true</td><td>102700.0</td><td>5</td><td>308.2</td><td>--</td><td>--</td><td>--</td><td>--</td><td>--</td><td>--</td><td>true</td><td>14</td><td>12435.0</td></tr>\n",
       "<tr><td>316.7247482895924</td><td>38.7494173194371</td><td>61 Cyg A</td><td>1872046574983507456</td><td>1872046609345556480</td><td>104214</td><td>201091</td><td>165602000</td><td>21065341+3844529</td><td>--</td><td>316.748479294</td><td>0.0388</td><td>38.7638624465</td><td>0.0485</td><td>285.9949</td><td>0.0599</td><td>4164.209</td><td>0.055</td><td>3249.614</td><td>0.055</td><td>4.766713</td><td>1.46259</td><td>-65.94</td><td>0.14</td><td>J2016.0</td><td>4327.0</td><td>4223.919921875</td><td>4427.66015625</td><td>0.7201448678970337</td><td>0.6877729296684265</td><td>0.7557224035263062</td><td>0.16378797590732574</td><td>0.16338737308979034</td><td>0.16418857872486115</td><td>true</td><td>102700.0</td><td>5</td><td>342.2</td><td>--</td><td>--</td><td>--</td><td>--</td><td>--</td><td>--</td><td>true</td><td>4</td><td>2100.0</td></tr>\n",
       "<tr><td>316.7302660185277</td><td>38.7420440332954</td><td>61 Cyg B</td><td>1872046574983497216</td><td>1872046574983497216</td><td>104217</td><td>201092</td><td>165602023</td><td>21065473+3844265</td><td>--</td><td>316.75366275256</td><td>0.019</td><td>38.75607277206</td><td>0.0232</td><td>286.0054</td><td>0.0289</td><td>4105.976</td><td>0.026</td><td>3155.942</td><td>0.027</td><td>5.450644</td><td>1.715341</td><td>-64.43</td><td>0.13</td><td>J2016.0</td><td>4177.3046875</td><td>3988.0</td><td>4725.25</td><td>0.5798373818397522</td><td>0.4531572759151459</td><td>0.6361920237541199</td><td>0.09223415702581406</td><td>0.09210682660341263</td><td>0.09236148744821548</td><td>true</td><td>102700.0</td><td>5</td><td>345.7</td><td>--</td><td>--</td><td>--</td><td>--</td><td>--</td><td>--</td><td>true</td><td>4</td><td>2100.0</td></tr>\n",
       "<tr><td>...</td><td>...</td><td>...</td><td>...</td><td>...</td><td>...</td><td>...</td><td>...</td><td>...</td><td>...</td><td>...</td><td>...</td><td>...</td><td>...</td><td>...</td><td>...</td><td>...</td><td>...</td><td>...</td><td>...</td><td>...</td><td>...</td><td>...</td><td>...</td><td>...</td><td>...</td><td>...</td><td>...</td><td>...</td><td>...</td><td>...</td><td>...</td><td>...</td><td>...</td><td>...</td><td>...</td><td>...</td><td>...</td><td>...</td><td>...</td><td>...</td><td>...</td><td>...</td><td>...</td><td>...</td><td>...</td><td>...</td></tr>\n",
       "<tr><td>128.6318827160388</td><td>-0.7260635399938</td><td>HD72760</td><td>3073562610873679872</td><td>3073562610873679872</td><td>42074</td><td>72760</td><td>121286109</td><td>08343166-0043339</td><td>J083431.50-004333.5</td><td>128.63101342054</td><td>0.0172</td><td>-0.72598249312</td><td>0.0111</td><td>47.258</td><td>0.0223</td><td>-195.576</td><td>0.025</td><td>18.236</td><td>0.019</td><td>7.111849</td><td>0.974971</td><td>35.15</td><td>0.13</td><td>J2016.0</td><td>5339.0</td><td>5271.0</td><td>5397.5</td><td>0.8270962238311768</td><td>0.8092646598815918</td><td>0.8485742807388306</td><td>0.5007794499397278</td><td>0.5001275539398193</td><td>0.5014313459396362</td><td>true</td><td>71600.0</td><td>1</td><td>95.0</td><td>--</td><td>--</td><td>--</td><td>--</td><td>--</td><td>--</td><td>true</td><td>1</td><td>900.0</td></tr>\n",
       "<tr><td>138.6028451960604</td><td>52.6863617977567</td><td>HD79211</td><td>1022456104850892928</td><td>1022456104850892928</td><td>120005</td><td>79211</td><td>251078597</td><td>09142485+5241118</td><td>--</td><td>138.59131179667</td><td>0.0156</td><td>52.68342944184</td><td>0.0145</td><td>157.8825</td><td>0.0211</td><td>-1573.04</td><td>0.018</td><td>-659.906</td><td>0.019</td><td>7.054455</td><td>1.84645</td><td>11.98</td><td>0.18</td><td>J2016.0</td><td>3995.01513671875</td><td>3892.89501953125</td><td>4113.52978515625</td><td>0.5744035840034485</td><td>0.5417821407318115</td><td>0.6049348711967468</td><td>0.07571861892938614</td><td>0.07567659020423889</td><td>0.07576064765453339</td><td>true</td><td>71600.0</td><td>2</td><td>208.6</td><td>--</td><td>--</td><td>--</td><td>--</td><td>--</td><td>--</td><td>true</td><td>7</td><td>2100.0</td></tr>\n",
       "<tr><td>152.1797524400626</td><td>34.2422629573455</td><td>HD87883</td><td>747266452000257280</td><td>747266452000257280</td><td>49699</td><td>87883</td><td>407591082</td><td>10084315+3414322</td><td>J100843.06+341431.2</td><td>152.1794067796</td><td>0.0198</td><td>34.24198989809</td><td>0.0186</td><td>54.6678</td><td>0.0295</td><td>-64.293</td><td>0.027</td><td>-61.438</td><td>0.025</td><td>7.286231</td><td>1.132443</td><td>9.3</td><td>0.17</td><td>J2016.0</td><td>4964.73681640625</td><td>4913.35498046875</td><td>5025.87646484375</td><td>0.7908482551574707</td><td>0.7717240452766418</td><td>0.8074755072593689</td><td>0.34234657883644104</td><td>0.34199291467666626</td><td>0.3427002429962158</td><td>true</td><td>71600.0</td><td>3</td><td>139.0</td><td>--</td><td>--</td><td>--</td><td>--</td><td>--</td><td>--</td><td>true</td><td>17</td><td>9884.014</td></tr>\n",
       "<tr><td>152.8422497884927</td><td>49.4542363908576</td><td>HD88230</td><td>823773494718931968</td><td>823773494718931968</td><td>49908</td><td>88230</td><td>371520835</td><td>10112218+4927153</td><td>J101120.70+492709.9</td><td>152.83292895823</td><td>0.0121</td><td>49.4519888971</td><td>0.0129</td><td>205.3148</td><td>0.0224</td><td>-1363.287</td><td>0.016</td><td>-505.77</td><td>0.02</td><td>5.961174</td><td>1.722303</td><td>-26.49</td><td>0.13</td><td>J2016.0</td><td>4056.73779296875</td><td>3949.333251953125</td><td>4230.73974609375</td><td>0.6976697444915771</td><td>0.6414623260498047</td><td>0.7361328601837158</td><td>0.11876876652240753</td><td>0.11870019882917404</td><td>0.11883733421564102</td><td>true</td><td>71600.0</td><td>2</td><td>160.5</td><td>--</td><td>--</td><td>--</td><td>--</td><td>--</td><td>--</td><td>true</td><td>1</td><td>400.0</td></tr>\n",
       "<tr><td>157.0161788562771</td><td>48.7849010039188</td><td>HD90508A</td><td>834571523535702528</td><td>834571523536798848</td><td>51248</td><td>90508A</td><td>252487672</td><td>10280388+4847067</td><td>--</td><td>157.01673061655</td><td>0.0215</td><td>48.7809869681</td><td>0.0268</td><td>43.4944</td><td>0.0386</td><td>81.798</td><td>0.027</td><td>-880.658</td><td>0.035</td><td>6.277527</td><td>0.791651</td><td>-7.23</td><td>0.21</td><td>J2016.0</td><td>5862.0</td><td>5841.66650390625</td><td>5909.33349609375</td><td>1.069930076599121</td><td>1.0528584718704224</td><td>1.0773913860321045</td><td>1.217835783958435</td><td>1.2136857509613037</td><td>1.2219858169555664</td><td>true</td><td>71600.0</td><td>1</td><td>78.0</td><td>--</td><td>--</td><td>--</td><td>--</td><td>--</td><td>--</td><td>true</td><td>3</td><td>1100.0</td></tr>\n",
       "<tr><td>112.2573701248058</td><td>31.9938428061417</td><td>HIP36357</td><td>892215482207937152</td><td>892215482207937152</td><td>36357</td><td>--</td><td>239137106</td><td>07290175+3159378</td><td>J072901.89+315939.7</td><td>112.25819900274</td><td>0.0196</td><td>31.99462446627</td><td>0.02</td><td>55.1857</td><td>0.0234</td><td>158.169</td><td>0.025</td><td>175.873</td><td>0.022</td><td>7.451118</td><td>1.126498</td><td>-4.21</td><td>0.18</td><td>J2016.0</td><td>4943.0</td><td>4895.75</td><td>4998.642578125</td><td>0.734910786151886</td><td>0.7186405062675476</td><td>0.7491648197174072</td><td>0.29048681259155273</td><td>0.2901410460472107</td><td>0.2908325791358948</td><td>true</td><td>71600.0</td><td>1</td><td>89.0</td><td>--</td><td>--</td><td>--</td><td>--</td><td>--</td><td>--</td><td>true</td><td>2</td><td>500.0</td></tr>\n",
       "<tr><td>12.2762274762175</td><td>57.81517728881</td><td>eta Cas A</td><td>425040000951479424</td><td>425040000962559616</td><td>3821</td><td>4614A</td><td>445258206</td><td>00490622+5748545</td><td>--</td><td>12.28522738152</td><td>0.0951</td><td>57.81272812559</td><td>0.1117</td><td>168.8322</td><td>0.1663</td><td>1078.609</td><td>0.127</td><td>-551.133</td><td>0.153</td><td>3.320067</td><td>0.886886</td><td>nan</td><td>nan</td><td>J2016.0</td><td>5405.0</td><td>4870.0</td><td>6328.33349609375</td><td>1.3455919027328491</td><td>0.9815807938575745</td><td>1.6574745178222656</td><td>1.392208456993103</td><td>1.3829259872436523</td><td>1.4014909267425537</td><td>true</td><td>71600.0</td><td>6</td><td>261.8</td><td>--</td><td>--</td><td>--</td><td>--</td><td>--</td><td>--</td><td>true</td><td>1</td><td>180.0</td></tr>\n",
       "<tr><td>12.2716327509963</td><td>57.8178262412663</td><td>eta Cas B</td><td>425040000959067008</td><td>425040000962497792</td><td>--</td><td>4614B</td><td>445258198</td><td>00490516+5749037</td><td>--</td><td>12.28118476422</td><td>0.0126</td><td>57.81573918855</td><td>0.0142</td><td>168.7186</td><td>0.0216</td><td>1144.693</td><td>0.018</td><td>-469.668</td><td>0.019</td><td>6.762044</td><td>1.754011</td><td>10.45</td><td>0.14</td><td>J2016.0</td><td>4091.89013671875</td><td>4003.690185546875</td><td>4184.0</td><td>0.5692907571792603</td><td>0.544501006603241</td><td>0.594649612903595</td><td>0.08185756206512451</td><td>0.08181747049093246</td><td>0.08189765363931656</td><td>true</td><td>71600.0</td><td>6</td><td>261.8</td><td>--</td><td>--</td><td>--</td><td>--</td><td>--</td><td>--</td><td>true</td><td>1</td><td>180.0</td></tr>\n",
       "<tr><td>17.0679289393636</td><td>54.9201558892397</td><td>mu. Cas</td><td>411413822074322432</td><td>411413822074322432</td><td>5336</td><td>6582</td><td>252191219</td><td>01081597+5455148</td><td>J010820.48+545456.6</td><td>17.0947498612</td><td>0.2806</td><td>54.91320397756</td><td>0.289</td><td>130.2881</td><td>0.4348</td><td>3468.251</td><td>0.354</td><td>-1564.844</td><td>0.365</td><td>4.948012</td><td>0.922226</td><td>-96.93</td><td>0.18</td><td>J2016.0</td><td>5630.0</td><td>5443.0</td><td>5826.22509765625</td><td>--</td><td>--</td><td>--</td><td>--</td><td>--</td><td>--</td><td>--</td><td>--</td><td>--</td><td>--</td><td>--</td><td>--</td><td>--</td><td>--</td><td>--</td><td>--</td><td>true</td><td>5</td><td>3420.0</td></tr>\n",
       "<tr><td>129.7987692179278</td><td>65.0209064171644</td><td>pi.01 UMa</td><td>1092545710514654464</td><td>1092545710514654464</td><td>42438</td><td>72905</td><td>417762326</td><td>08391162+6501151</td><td>J083911.68+650116.0</td><td>129.79848216264</td><td>0.0203</td><td>65.02129699891</td><td>0.0372</td><td>69.2576</td><td>0.0485</td><td>-27.274</td><td>0.024</td><td>87.881</td><td>0.049</td><td>5.498977</td><td>0.804358</td><td>-13.01</td><td>0.16</td><td>J2016.0</td><td>5839.33349609375</td><td>5810.75</td><td>5912.0</td><td>0.9751176238059998</td><td>0.9512938857078552</td><td>0.9847345352172852</td><td>0.9960057139396667</td><td>0.9945549368858337</td><td>0.9974564909934998</td><td>--</td><td>--</td><td>--</td><td>--</td><td>--</td><td>--</td><td>--</td><td>--</td><td>--</td><td>--</td><td>true</td><td>2</td><td>600.0</td></tr>\n",
       "</table></div>"
      ],
      "text/plain": [
       "<Table length=49>\n",
       "     ra_j2000        dec_j2000     ... spectrum_fies_nobs spectrum_fies_exptime\n",
       "     float64          float64      ...       int64               float64       \n",
       "----------------- ---------------- ... ------------------ ---------------------\n",
       "143.9145924739025 35.8101325142152 ...                  1                 180.0\n",
       " 295.466552844129  50.517524746342 ...                  8                2100.0\n",
       "243.6682808607854 33.8575267185817 ...                 10                3500.0\n",
       " 25.6240105213668 20.2685126826973 ...                  7                6100.0\n",
       " 243.326873802572 13.5269015045144 ...                  2                1440.0\n",
       "243.3267527244158 13.5280454584107 ...                  2                1440.0\n",
       " 88.5956723695345  20.276255390142 ...                  2                 600.0\n",
       "  9.8408558047264 21.2504758066667 ...                 14               12435.0\n",
       "316.7247482895924 38.7494173194371 ...                  4                2100.0\n",
       "316.7302660185277 38.7420440332954 ...                  4                2100.0\n",
       "              ...              ... ...                ...                   ...\n",
       "128.6318827160388 -0.7260635399938 ...                  1                 900.0\n",
       "138.6028451960604 52.6863617977567 ...                  7                2100.0\n",
       "152.1797524400626 34.2422629573455 ...                 17              9884.014\n",
       "152.8422497884927 49.4542363908576 ...                  1                 400.0\n",
       "157.0161788562771 48.7849010039188 ...                  3                1100.0\n",
       "112.2573701248058 31.9938428061417 ...                  2                 500.0\n",
       " 12.2762274762175   57.81517728881 ...                  1                 180.0\n",
       " 12.2716327509963 57.8178262412663 ...                  1                 180.0\n",
       " 17.0679289393636 54.9201558892397 ...                  5                3420.0\n",
       "129.7987692179278 65.0209064171644 ...                  2                 600.0"
      ]
     },
     "execution_count": 75,
     "metadata": {},
     "output_type": "execute_result"
    }
   ],
   "source": [
    "table[(table['spectrum_fies'] == 'true')]"
   ]
  },
  {
   "cell_type": "code",
   "execution_count": null,
   "metadata": {},
   "outputs": [],
   "source": []
  }
 ],
 "metadata": {
  "kernelspec": {
   "display_name": "gr8stars",
   "language": "python",
   "name": "gr8stars"
  },
  "language_info": {
   "codemirror_mode": {
    "name": "ipython",
    "version": 3
   },
   "file_extension": ".py",
   "mimetype": "text/x-python",
   "name": "python",
   "nbconvert_exporter": "python",
   "pygments_lexer": "ipython3",
   "version": "3.7.12"
  }
 },
 "nbformat": 4,
 "nbformat_minor": 4
}
